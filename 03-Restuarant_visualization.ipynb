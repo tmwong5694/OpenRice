{
 "cells": [
  {
   "cell_type": "code",
   "execution_count": null,
   "metadata": {},
   "outputs": [],
   "source": [
    "import pandas as pd\n",
    "import plotly.express as px, plotly.graph_objects as go\n"
   ]
  },
  {
   "cell_type": "code",
   "execution_count": null,
   "metadata": {},
   "outputs": [
    {
     "data": {
      "application/vnd.plotly.v1+json": {
       "config": {
        "plotlyServerURL": "https://plot.ly"
       },
       "data": [
        {
         "marker": {
          "color": "#DDA0DD"
         },
         "name": "5.0",
         "type": "bar",
         "x": [
          "Taste",
          "Hygiene",
          "Environment",
          "Service",
          "Fairness"
         ],
         "y": [
          45.30821133036282,
          35.71181140245369,
          37.07678443380686,
          39.366369978349766,
          35.84419413211882
         ]
        },
        {
         "marker": {
          "color": "#20B2AA"
         },
         "name": "4.0",
         "type": "bar",
         "x": [
          "Taste",
          "Hygiene",
          "Environment",
          "Service",
          "Fairness"
         ],
         "y": [
          38.18816040738383,
          42.20543661294202,
          38.84135351460299,
          36.668270387298534,
          40.210031921598926
         ]
        },
        {
         "marker": {
          "color": "#32CD32"
         },
         "name": "3.0",
         "type": "bar",
         "x": [
          "Taste",
          "Hygiene",
          "Environment",
          "Service",
          "Fairness"
         ],
         "y": [
          10.318523233609165,
          15.940341592494587,
          17.242097715071996,
          14.840991099350493,
          15.534330968017404
         ]
        },
        {
         "marker": {
          "color": "#DAA520"
         },
         "name": "2.0",
         "type": "bar",
         "x": [
          "Taste",
          "Hygiene",
          "Environment",
          "Service",
          "Fairness"
         ],
         "y": [
          2.865945257797581,
          3.172480153957181,
          3.877982131436656,
          3.3288429155641084,
          4.055262997377143
         ]
        },
        {
         "marker": {
          "color": "#FF9999"
         },
         "name": "1.0",
         "type": "bar",
         "x": [
          "Taste",
          "Hygiene",
          "Environment",
          "Service",
          "Fairness"
         ],
         "y": [
          3.319159770846594,
          2.969930238152514,
          2.961782205081494,
          5.795525619437094,
          4.356179980887705
         ]
        }
       ],
       "layout": {
        "barmode": "stack",
        "legend": {
         "title": {
          "text": "Ratings"
         }
        },
        "showlegend": true,
        "template": {
         "data": {
          "bar": [
           {
            "error_x": {
             "color": "#2a3f5f"
            },
            "error_y": {
             "color": "#2a3f5f"
            },
            "marker": {
             "line": {
              "color": "white",
              "width": 0.5
             },
             "pattern": {
              "fillmode": "overlay",
              "size": 10,
              "solidity": 0.2
             }
            },
            "type": "bar"
           }
          ],
          "barpolar": [
           {
            "marker": {
             "line": {
              "color": "white",
              "width": 0.5
             },
             "pattern": {
              "fillmode": "overlay",
              "size": 10,
              "solidity": 0.2
             }
            },
            "type": "barpolar"
           }
          ],
          "carpet": [
           {
            "aaxis": {
             "endlinecolor": "#2a3f5f",
             "gridcolor": "#C8D4E3",
             "linecolor": "#C8D4E3",
             "minorgridcolor": "#C8D4E3",
             "startlinecolor": "#2a3f5f"
            },
            "baxis": {
             "endlinecolor": "#2a3f5f",
             "gridcolor": "#C8D4E3",
             "linecolor": "#C8D4E3",
             "minorgridcolor": "#C8D4E3",
             "startlinecolor": "#2a3f5f"
            },
            "type": "carpet"
           }
          ],
          "choropleth": [
           {
            "colorbar": {
             "outlinewidth": 0,
             "ticks": ""
            },
            "type": "choropleth"
           }
          ],
          "contour": [
           {
            "colorbar": {
             "outlinewidth": 0,
             "ticks": ""
            },
            "colorscale": [
             [
              0,
              "#0d0887"
             ],
             [
              0.1111111111111111,
              "#46039f"
             ],
             [
              0.2222222222222222,
              "#7201a8"
             ],
             [
              0.3333333333333333,
              "#9c179e"
             ],
             [
              0.4444444444444444,
              "#bd3786"
             ],
             [
              0.5555555555555556,
              "#d8576b"
             ],
             [
              0.6666666666666666,
              "#ed7953"
             ],
             [
              0.7777777777777778,
              "#fb9f3a"
             ],
             [
              0.8888888888888888,
              "#fdca26"
             ],
             [
              1,
              "#f0f921"
             ]
            ],
            "type": "contour"
           }
          ],
          "contourcarpet": [
           {
            "colorbar": {
             "outlinewidth": 0,
             "ticks": ""
            },
            "type": "contourcarpet"
           }
          ],
          "heatmap": [
           {
            "colorbar": {
             "outlinewidth": 0,
             "ticks": ""
            },
            "colorscale": [
             [
              0,
              "#0d0887"
             ],
             [
              0.1111111111111111,
              "#46039f"
             ],
             [
              0.2222222222222222,
              "#7201a8"
             ],
             [
              0.3333333333333333,
              "#9c179e"
             ],
             [
              0.4444444444444444,
              "#bd3786"
             ],
             [
              0.5555555555555556,
              "#d8576b"
             ],
             [
              0.6666666666666666,
              "#ed7953"
             ],
             [
              0.7777777777777778,
              "#fb9f3a"
             ],
             [
              0.8888888888888888,
              "#fdca26"
             ],
             [
              1,
              "#f0f921"
             ]
            ],
            "type": "heatmap"
           }
          ],
          "heatmapgl": [
           {
            "colorbar": {
             "outlinewidth": 0,
             "ticks": ""
            },
            "colorscale": [
             [
              0,
              "#0d0887"
             ],
             [
              0.1111111111111111,
              "#46039f"
             ],
             [
              0.2222222222222222,
              "#7201a8"
             ],
             [
              0.3333333333333333,
              "#9c179e"
             ],
             [
              0.4444444444444444,
              "#bd3786"
             ],
             [
              0.5555555555555556,
              "#d8576b"
             ],
             [
              0.6666666666666666,
              "#ed7953"
             ],
             [
              0.7777777777777778,
              "#fb9f3a"
             ],
             [
              0.8888888888888888,
              "#fdca26"
             ],
             [
              1,
              "#f0f921"
             ]
            ],
            "type": "heatmapgl"
           }
          ],
          "histogram": [
           {
            "marker": {
             "pattern": {
              "fillmode": "overlay",
              "size": 10,
              "solidity": 0.2
             }
            },
            "type": "histogram"
           }
          ],
          "histogram2d": [
           {
            "colorbar": {
             "outlinewidth": 0,
             "ticks": ""
            },
            "colorscale": [
             [
              0,
              "#0d0887"
             ],
             [
              0.1111111111111111,
              "#46039f"
             ],
             [
              0.2222222222222222,
              "#7201a8"
             ],
             [
              0.3333333333333333,
              "#9c179e"
             ],
             [
              0.4444444444444444,
              "#bd3786"
             ],
             [
              0.5555555555555556,
              "#d8576b"
             ],
             [
              0.6666666666666666,
              "#ed7953"
             ],
             [
              0.7777777777777778,
              "#fb9f3a"
             ],
             [
              0.8888888888888888,
              "#fdca26"
             ],
             [
              1,
              "#f0f921"
             ]
            ],
            "type": "histogram2d"
           }
          ],
          "histogram2dcontour": [
           {
            "colorbar": {
             "outlinewidth": 0,
             "ticks": ""
            },
            "colorscale": [
             [
              0,
              "#0d0887"
             ],
             [
              0.1111111111111111,
              "#46039f"
             ],
             [
              0.2222222222222222,
              "#7201a8"
             ],
             [
              0.3333333333333333,
              "#9c179e"
             ],
             [
              0.4444444444444444,
              "#bd3786"
             ],
             [
              0.5555555555555556,
              "#d8576b"
             ],
             [
              0.6666666666666666,
              "#ed7953"
             ],
             [
              0.7777777777777778,
              "#fb9f3a"
             ],
             [
              0.8888888888888888,
              "#fdca26"
             ],
             [
              1,
              "#f0f921"
             ]
            ],
            "type": "histogram2dcontour"
           }
          ],
          "mesh3d": [
           {
            "colorbar": {
             "outlinewidth": 0,
             "ticks": ""
            },
            "type": "mesh3d"
           }
          ],
          "parcoords": [
           {
            "line": {
             "colorbar": {
              "outlinewidth": 0,
              "ticks": ""
             }
            },
            "type": "parcoords"
           }
          ],
          "pie": [
           {
            "automargin": true,
            "type": "pie"
           }
          ],
          "scatter": [
           {
            "fillpattern": {
             "fillmode": "overlay",
             "size": 10,
             "solidity": 0.2
            },
            "type": "scatter"
           }
          ],
          "scatter3d": [
           {
            "line": {
             "colorbar": {
              "outlinewidth": 0,
              "ticks": ""
             }
            },
            "marker": {
             "colorbar": {
              "outlinewidth": 0,
              "ticks": ""
             }
            },
            "type": "scatter3d"
           }
          ],
          "scattercarpet": [
           {
            "marker": {
             "colorbar": {
              "outlinewidth": 0,
              "ticks": ""
             }
            },
            "type": "scattercarpet"
           }
          ],
          "scattergeo": [
           {
            "marker": {
             "colorbar": {
              "outlinewidth": 0,
              "ticks": ""
             }
            },
            "type": "scattergeo"
           }
          ],
          "scattergl": [
           {
            "marker": {
             "colorbar": {
              "outlinewidth": 0,
              "ticks": ""
             }
            },
            "type": "scattergl"
           }
          ],
          "scattermapbox": [
           {
            "marker": {
             "colorbar": {
              "outlinewidth": 0,
              "ticks": ""
             }
            },
            "type": "scattermapbox"
           }
          ],
          "scatterpolar": [
           {
            "marker": {
             "colorbar": {
              "outlinewidth": 0,
              "ticks": ""
             }
            },
            "type": "scatterpolar"
           }
          ],
          "scatterpolargl": [
           {
            "marker": {
             "colorbar": {
              "outlinewidth": 0,
              "ticks": ""
             }
            },
            "type": "scatterpolargl"
           }
          ],
          "scatterternary": [
           {
            "marker": {
             "colorbar": {
              "outlinewidth": 0,
              "ticks": ""
             }
            },
            "type": "scatterternary"
           }
          ],
          "surface": [
           {
            "colorbar": {
             "outlinewidth": 0,
             "ticks": ""
            },
            "colorscale": [
             [
              0,
              "#0d0887"
             ],
             [
              0.1111111111111111,
              "#46039f"
             ],
             [
              0.2222222222222222,
              "#7201a8"
             ],
             [
              0.3333333333333333,
              "#9c179e"
             ],
             [
              0.4444444444444444,
              "#bd3786"
             ],
             [
              0.5555555555555556,
              "#d8576b"
             ],
             [
              0.6666666666666666,
              "#ed7953"
             ],
             [
              0.7777777777777778,
              "#fb9f3a"
             ],
             [
              0.8888888888888888,
              "#fdca26"
             ],
             [
              1,
              "#f0f921"
             ]
            ],
            "type": "surface"
           }
          ],
          "table": [
           {
            "cells": {
             "fill": {
              "color": "#EBF0F8"
             },
             "line": {
              "color": "white"
             }
            },
            "header": {
             "fill": {
              "color": "#C8D4E3"
             },
             "line": {
              "color": "white"
             }
            },
            "type": "table"
           }
          ]
         },
         "layout": {
          "annotationdefaults": {
           "arrowcolor": "#2a3f5f",
           "arrowhead": 0,
           "arrowwidth": 1
          },
          "autotypenumbers": "strict",
          "coloraxis": {
           "colorbar": {
            "outlinewidth": 0,
            "ticks": ""
           }
          },
          "colorscale": {
           "diverging": [
            [
             0,
             "#8e0152"
            ],
            [
             0.1,
             "#c51b7d"
            ],
            [
             0.2,
             "#de77ae"
            ],
            [
             0.3,
             "#f1b6da"
            ],
            [
             0.4,
             "#fde0ef"
            ],
            [
             0.5,
             "#f7f7f7"
            ],
            [
             0.6,
             "#e6f5d0"
            ],
            [
             0.7,
             "#b8e186"
            ],
            [
             0.8,
             "#7fbc41"
            ],
            [
             0.9,
             "#4d9221"
            ],
            [
             1,
             "#276419"
            ]
           ],
           "sequential": [
            [
             0,
             "#0d0887"
            ],
            [
             0.1111111111111111,
             "#46039f"
            ],
            [
             0.2222222222222222,
             "#7201a8"
            ],
            [
             0.3333333333333333,
             "#9c179e"
            ],
            [
             0.4444444444444444,
             "#bd3786"
            ],
            [
             0.5555555555555556,
             "#d8576b"
            ],
            [
             0.6666666666666666,
             "#ed7953"
            ],
            [
             0.7777777777777778,
             "#fb9f3a"
            ],
            [
             0.8888888888888888,
             "#fdca26"
            ],
            [
             1,
             "#f0f921"
            ]
           ],
           "sequentialminus": [
            [
             0,
             "#0d0887"
            ],
            [
             0.1111111111111111,
             "#46039f"
            ],
            [
             0.2222222222222222,
             "#7201a8"
            ],
            [
             0.3333333333333333,
             "#9c179e"
            ],
            [
             0.4444444444444444,
             "#bd3786"
            ],
            [
             0.5555555555555556,
             "#d8576b"
            ],
            [
             0.6666666666666666,
             "#ed7953"
            ],
            [
             0.7777777777777778,
             "#fb9f3a"
            ],
            [
             0.8888888888888888,
             "#fdca26"
            ],
            [
             1,
             "#f0f921"
            ]
           ]
          },
          "colorway": [
           "#636efa",
           "#EF553B",
           "#00cc96",
           "#ab63fa",
           "#FFA15A",
           "#19d3f3",
           "#FF6692",
           "#B6E880",
           "#FF97FF",
           "#FECB52"
          ],
          "font": {
           "color": "#2a3f5f"
          },
          "geo": {
           "bgcolor": "white",
           "lakecolor": "white",
           "landcolor": "white",
           "showlakes": true,
           "showland": true,
           "subunitcolor": "#C8D4E3"
          },
          "hoverlabel": {
           "align": "left"
          },
          "hovermode": "closest",
          "mapbox": {
           "style": "light"
          },
          "paper_bgcolor": "white",
          "plot_bgcolor": "white",
          "polar": {
           "angularaxis": {
            "gridcolor": "#EBF0F8",
            "linecolor": "#EBF0F8",
            "ticks": ""
           },
           "bgcolor": "white",
           "radialaxis": {
            "gridcolor": "#EBF0F8",
            "linecolor": "#EBF0F8",
            "ticks": ""
           }
          },
          "scene": {
           "xaxis": {
            "backgroundcolor": "white",
            "gridcolor": "#DFE8F3",
            "gridwidth": 2,
            "linecolor": "#EBF0F8",
            "showbackground": true,
            "ticks": "",
            "zerolinecolor": "#EBF0F8"
           },
           "yaxis": {
            "backgroundcolor": "white",
            "gridcolor": "#DFE8F3",
            "gridwidth": 2,
            "linecolor": "#EBF0F8",
            "showbackground": true,
            "ticks": "",
            "zerolinecolor": "#EBF0F8"
           },
           "zaxis": {
            "backgroundcolor": "white",
            "gridcolor": "#DFE8F3",
            "gridwidth": 2,
            "linecolor": "#EBF0F8",
            "showbackground": true,
            "ticks": "",
            "zerolinecolor": "#EBF0F8"
           }
          },
          "shapedefaults": {
           "line": {
            "color": "#2a3f5f"
           }
          },
          "ternary": {
           "aaxis": {
            "gridcolor": "#DFE8F3",
            "linecolor": "#A2B1C6",
            "ticks": ""
           },
           "baxis": {
            "gridcolor": "#DFE8F3",
            "linecolor": "#A2B1C6",
            "ticks": ""
           },
           "bgcolor": "white",
           "caxis": {
            "gridcolor": "#DFE8F3",
            "linecolor": "#A2B1C6",
            "ticks": ""
           }
          },
          "title": {
           "x": 0.05
          },
          "xaxis": {
           "automargin": true,
           "gridcolor": "#EBF0F8",
           "linecolor": "#EBF0F8",
           "ticks": "",
           "title": {
            "standoff": 15
           },
           "zerolinecolor": "#EBF0F8",
           "zerolinewidth": 2
          },
          "yaxis": {
           "automargin": true,
           "gridcolor": "#EBF0F8",
           "linecolor": "#EBF0F8",
           "ticks": "",
           "title": {
            "standoff": 15
           },
           "zerolinecolor": "#EBF0F8",
           "zerolinewidth": 2
          }
         }
        },
        "title": {
         "text": "Distribution of Comment Star Percentages by Rating Level"
        },
        "xaxis": {
         "title": {
          "text": "Categories"
         }
        },
        "yaxis": {
         "range": [
          0,
          100
         ],
         "title": {
          "text": "Percentage"
         }
        }
       }
      }
     },
     "metadata": {},
     "output_type": "display_data"
    }
   ],
   "source": [
    "# Load the dataset\n",
    "file_path = 'Openrice_9006_restaurants_cleaned_v4.csv'\n",
    "df = pd.read_csv(file_path, encoding='UTF-8-SIG')\n",
    "\n",
    "# Define the categories with exact column names\n",
    "categories = ['comment_taste_star', 'comment_env_star', 'comment_service_star', \n",
    "              'comment_hygiene_star', 'comment_fair_price_star']\n",
    "display_names = ['Taste', 'Environment', 'Service', 'Hygiene', 'Fairness']\n",
    "ratings = [1.0, 2.0, 3.0, 4.0, 5.0]\n",
    "\n",
    "# Define reversed ratings and colors first\n",
    "reversed_ratings = ratings[::-1]  # This creates [5.0, 4.0, 3.0, 2.0, 1.0]\n",
    "colors = ['#FF9999', '#DAA520', '#32CD32', '#20B2AA', '#DDA0DD']\n",
    "reversed_colors = colors[::-1]\n",
    "\n",
    "# Function to calculate percentages\n",
    "def calculate_percentages(df, category):\n",
    "    total = len(df[category].dropna())\n",
    "    percentages = []\n",
    "    for rating in ratings:\n",
    "        count = len(df[df[category] == rating])\n",
    "        percentage = (count / total) * 100 if total > 0 else 0\n",
    "        percentages.append(percentage)\n",
    "    return percentages\n",
    "\n",
    "# Calculate the average rating for each category\n",
    "category_averages = {cat: df[cat].mean() for cat in categories}\n",
    "\n",
    "# Sort categories by their average rating in descending order\n",
    "sorted_categories = sorted(category_averages, key=category_averages.get, reverse=True) # type: ignore\n",
    "sorted_display_names = [display_names[categories.index(cat)] for cat in sorted_categories]\n",
    "\n",
    "# Create the figure\n",
    "fig = go.Figure()\n",
    "\n",
    "# Add bars for each rating in reversed order\n",
    "for i, rating in enumerate(reversed_ratings):\n",
    "    percentages = [calculate_percentages(df, cat)[ratings.index(rating)] for cat in sorted_categories]\n",
    "    fig.add_trace(go.Bar(\n",
    "        name=str(rating),\n",
    "        x=sorted_display_names,\n",
    "        y=percentages,\n",
    "        marker_color=reversed_colors[i]\n",
    "    ))\n",
    "\n",
    "# Update layout\n",
    "fig.update_layout(\n",
    "    barmode='stack',\n",
    "    title='Distribution of Comment Star Percentages by Rating Level',\n",
    "    yaxis_title='Percentage',\n",
    "    xaxis_title='Categories',\n",
    "    showlegend=True,\n",
    "    legend_title='Ratings',\n",
    "    template='plotly_white'\n",
    ")\n",
    "\n",
    "# Update y-axis\n",
    "fig.update_yaxes(range=[0, 100])\n",
    "\n",
    "# Display the figure\n",
    "fig.show()\n"
   ]
  },
  {
   "cell_type": "code",
   "execution_count": 2,
   "metadata": {},
   "outputs": [],
   "source": [
    "# Define main cuisine categories\n",
    "main_categories = {\n",
    "    '港式': ['港式', '茶餐廳', '冰室', '大排檔'],\n",
    "    '火鍋': ['火鍋', '打邊爐'],\n",
    "    '中菜': ['中菜', '中式', '粵菜', '廣東菜', '粵菜', '廣東', '川菜', '四川', '北京菜', '京菜', '上海菜', '滬菜'],\n",
    "    '日本菜': ['日本', '日式', '壽司', '刺身', '拉麵', '壽喜燒'],\n",
    "    '韓國菜': ['韓國', '韓式', '韓國菜',],\n",
    "    '越南菜': ['越式', '越南', '越南菜'],\n",
    "    '泰國菜': ['泰國', '泰式', '泰國菜'],\n",
    "    '台灣菜': ['台灣', '台式', '台灣菜'],\n",
    "    '西式': ['西式', '西餐', '英國菜', '美國菜', '意大利', '意式', '意大利菜', '西班牙', '西班牙菜', '葡國', '葡國菜', '葡萄牙', '葡萄牙菜'],\n",
    "    '法國菜': ['法國', '法式', '法國菜'],\n",
    "    '甜品': ['甜品', '甜點', '甜品店', '甜品專門店', '糖水', '糖水店', '糖水鋪', '甜品鋪', '糖水舖', '甜品舖'],\n",
    "    '咖啡': ['咖啡', '咖啡店', '咖啡室', '咖啡館', '咖啡屋', '咖啡廳', '咖啡專門店'],\n",
    "    '任食/放題': ['任食', '放題', '任食放題', '任食任點'],\n",
    "    '自助餐': ['自助餐', '自助餐廳', '自助餐館', '自助餐飲', '自助', 'buffet', 'Buffet', 'BUFFET'],\n",
    "    '素食': ['素食', '齋', '蔬食', '素菜', '素', '純素', '素食主義'], \n",
    "}\n",
    "\n",
    "# Function to categorize cuisine types\n",
    "def categorize_cuisine(cuisine):\n",
    "    if pd.isna(cuisine):\n",
    "        return 'Other'\n",
    "    for main_cat, sub_cats in main_categories.items():\n",
    "        if any(sub_cat in str(cuisine) for sub_cat in sub_cats):\n",
    "            return main_cat\n",
    "    return 'Other'\n"
   ]
  },
  {
   "cell_type": "code",
   "execution_count": 4,
   "metadata": {},
   "outputs": [
    {
     "data": {
      "application/vnd.plotly.v1+json": {
       "config": {
        "plotlyServerURL": "https://plot.ly"
       },
       "data": [
        {
         "hole": 0.4,
         "hoverinfo": "label+value+percent",
         "labels": [
          "港式",
          "西式",
          "日本菜",
          "中菜",
          "台灣菜",
          "泰國菜",
          "火鍋",
          "韓國菜",
          "越南菜",
          "咖啡",
          "法國菜",
          "自助餐",
          "素食",
          "甜品"
         ],
         "marker": {
          "colors": [
           "#FF6B6B",
           "#45B7D1",
           "#4ECDC4",
           "#96CEB4",
           "#FFEEAD",
           "#FFD93D",
           "#F17F29",
           "#851E3E",
           "#FF9F1C",
           "#A0522D",
           "#6C5B7B",
           "#FF7F50",
           "#7AC74F",
           "#FFD93D"
          ]
         },
         "textinfo": "label+percent",
         "type": "pie",
         "values": [
          1599,
          1129,
          869,
          726,
          221,
          195,
          183,
          141,
          102,
          89,
          54,
          37,
          20,
          4
         ]
        }
       ],
       "layout": {
        "annotations": [
         {
          "font": {
           "size": 20
          },
          "showarrow": false,
          "text": "Cuisines",
          "x": 0.5,
          "y": 0.5
         }
        ],
        "height": 700,
        "legend": {
         "orientation": "v",
         "title": {
          "text": "Cuisine Types"
         },
         "x": 1.2,
         "xanchor": "right",
         "y": 0.5,
         "yanchor": "middle"
        },
        "template": {
         "data": {
          "bar": [
           {
            "error_x": {
             "color": "#2a3f5f"
            },
            "error_y": {
             "color": "#2a3f5f"
            },
            "marker": {
             "line": {
              "color": "white",
              "width": 0.5
             },
             "pattern": {
              "fillmode": "overlay",
              "size": 10,
              "solidity": 0.2
             }
            },
            "type": "bar"
           }
          ],
          "barpolar": [
           {
            "marker": {
             "line": {
              "color": "white",
              "width": 0.5
             },
             "pattern": {
              "fillmode": "overlay",
              "size": 10,
              "solidity": 0.2
             }
            },
            "type": "barpolar"
           }
          ],
          "carpet": [
           {
            "aaxis": {
             "endlinecolor": "#2a3f5f",
             "gridcolor": "#C8D4E3",
             "linecolor": "#C8D4E3",
             "minorgridcolor": "#C8D4E3",
             "startlinecolor": "#2a3f5f"
            },
            "baxis": {
             "endlinecolor": "#2a3f5f",
             "gridcolor": "#C8D4E3",
             "linecolor": "#C8D4E3",
             "minorgridcolor": "#C8D4E3",
             "startlinecolor": "#2a3f5f"
            },
            "type": "carpet"
           }
          ],
          "choropleth": [
           {
            "colorbar": {
             "outlinewidth": 0,
             "ticks": ""
            },
            "type": "choropleth"
           }
          ],
          "contour": [
           {
            "colorbar": {
             "outlinewidth": 0,
             "ticks": ""
            },
            "colorscale": [
             [
              0,
              "#0d0887"
             ],
             [
              0.1111111111111111,
              "#46039f"
             ],
             [
              0.2222222222222222,
              "#7201a8"
             ],
             [
              0.3333333333333333,
              "#9c179e"
             ],
             [
              0.4444444444444444,
              "#bd3786"
             ],
             [
              0.5555555555555556,
              "#d8576b"
             ],
             [
              0.6666666666666666,
              "#ed7953"
             ],
             [
              0.7777777777777778,
              "#fb9f3a"
             ],
             [
              0.8888888888888888,
              "#fdca26"
             ],
             [
              1,
              "#f0f921"
             ]
            ],
            "type": "contour"
           }
          ],
          "contourcarpet": [
           {
            "colorbar": {
             "outlinewidth": 0,
             "ticks": ""
            },
            "type": "contourcarpet"
           }
          ],
          "heatmap": [
           {
            "colorbar": {
             "outlinewidth": 0,
             "ticks": ""
            },
            "colorscale": [
             [
              0,
              "#0d0887"
             ],
             [
              0.1111111111111111,
              "#46039f"
             ],
             [
              0.2222222222222222,
              "#7201a8"
             ],
             [
              0.3333333333333333,
              "#9c179e"
             ],
             [
              0.4444444444444444,
              "#bd3786"
             ],
             [
              0.5555555555555556,
              "#d8576b"
             ],
             [
              0.6666666666666666,
              "#ed7953"
             ],
             [
              0.7777777777777778,
              "#fb9f3a"
             ],
             [
              0.8888888888888888,
              "#fdca26"
             ],
             [
              1,
              "#f0f921"
             ]
            ],
            "type": "heatmap"
           }
          ],
          "heatmapgl": [
           {
            "colorbar": {
             "outlinewidth": 0,
             "ticks": ""
            },
            "colorscale": [
             [
              0,
              "#0d0887"
             ],
             [
              0.1111111111111111,
              "#46039f"
             ],
             [
              0.2222222222222222,
              "#7201a8"
             ],
             [
              0.3333333333333333,
              "#9c179e"
             ],
             [
              0.4444444444444444,
              "#bd3786"
             ],
             [
              0.5555555555555556,
              "#d8576b"
             ],
             [
              0.6666666666666666,
              "#ed7953"
             ],
             [
              0.7777777777777778,
              "#fb9f3a"
             ],
             [
              0.8888888888888888,
              "#fdca26"
             ],
             [
              1,
              "#f0f921"
             ]
            ],
            "type": "heatmapgl"
           }
          ],
          "histogram": [
           {
            "marker": {
             "pattern": {
              "fillmode": "overlay",
              "size": 10,
              "solidity": 0.2
             }
            },
            "type": "histogram"
           }
          ],
          "histogram2d": [
           {
            "colorbar": {
             "outlinewidth": 0,
             "ticks": ""
            },
            "colorscale": [
             [
              0,
              "#0d0887"
             ],
             [
              0.1111111111111111,
              "#46039f"
             ],
             [
              0.2222222222222222,
              "#7201a8"
             ],
             [
              0.3333333333333333,
              "#9c179e"
             ],
             [
              0.4444444444444444,
              "#bd3786"
             ],
             [
              0.5555555555555556,
              "#d8576b"
             ],
             [
              0.6666666666666666,
              "#ed7953"
             ],
             [
              0.7777777777777778,
              "#fb9f3a"
             ],
             [
              0.8888888888888888,
              "#fdca26"
             ],
             [
              1,
              "#f0f921"
             ]
            ],
            "type": "histogram2d"
           }
          ],
          "histogram2dcontour": [
           {
            "colorbar": {
             "outlinewidth": 0,
             "ticks": ""
            },
            "colorscale": [
             [
              0,
              "#0d0887"
             ],
             [
              0.1111111111111111,
              "#46039f"
             ],
             [
              0.2222222222222222,
              "#7201a8"
             ],
             [
              0.3333333333333333,
              "#9c179e"
             ],
             [
              0.4444444444444444,
              "#bd3786"
             ],
             [
              0.5555555555555556,
              "#d8576b"
             ],
             [
              0.6666666666666666,
              "#ed7953"
             ],
             [
              0.7777777777777778,
              "#fb9f3a"
             ],
             [
              0.8888888888888888,
              "#fdca26"
             ],
             [
              1,
              "#f0f921"
             ]
            ],
            "type": "histogram2dcontour"
           }
          ],
          "mesh3d": [
           {
            "colorbar": {
             "outlinewidth": 0,
             "ticks": ""
            },
            "type": "mesh3d"
           }
          ],
          "parcoords": [
           {
            "line": {
             "colorbar": {
              "outlinewidth": 0,
              "ticks": ""
             }
            },
            "type": "parcoords"
           }
          ],
          "pie": [
           {
            "automargin": true,
            "type": "pie"
           }
          ],
          "scatter": [
           {
            "fillpattern": {
             "fillmode": "overlay",
             "size": 10,
             "solidity": 0.2
            },
            "type": "scatter"
           }
          ],
          "scatter3d": [
           {
            "line": {
             "colorbar": {
              "outlinewidth": 0,
              "ticks": ""
             }
            },
            "marker": {
             "colorbar": {
              "outlinewidth": 0,
              "ticks": ""
             }
            },
            "type": "scatter3d"
           }
          ],
          "scattercarpet": [
           {
            "marker": {
             "colorbar": {
              "outlinewidth": 0,
              "ticks": ""
             }
            },
            "type": "scattercarpet"
           }
          ],
          "scattergeo": [
           {
            "marker": {
             "colorbar": {
              "outlinewidth": 0,
              "ticks": ""
             }
            },
            "type": "scattergeo"
           }
          ],
          "scattergl": [
           {
            "marker": {
             "colorbar": {
              "outlinewidth": 0,
              "ticks": ""
             }
            },
            "type": "scattergl"
           }
          ],
          "scattermapbox": [
           {
            "marker": {
             "colorbar": {
              "outlinewidth": 0,
              "ticks": ""
             }
            },
            "type": "scattermapbox"
           }
          ],
          "scatterpolar": [
           {
            "marker": {
             "colorbar": {
              "outlinewidth": 0,
              "ticks": ""
             }
            },
            "type": "scatterpolar"
           }
          ],
          "scatterpolargl": [
           {
            "marker": {
             "colorbar": {
              "outlinewidth": 0,
              "ticks": ""
             }
            },
            "type": "scatterpolargl"
           }
          ],
          "scatterternary": [
           {
            "marker": {
             "colorbar": {
              "outlinewidth": 0,
              "ticks": ""
             }
            },
            "type": "scatterternary"
           }
          ],
          "surface": [
           {
            "colorbar": {
             "outlinewidth": 0,
             "ticks": ""
            },
            "colorscale": [
             [
              0,
              "#0d0887"
             ],
             [
              0.1111111111111111,
              "#46039f"
             ],
             [
              0.2222222222222222,
              "#7201a8"
             ],
             [
              0.3333333333333333,
              "#9c179e"
             ],
             [
              0.4444444444444444,
              "#bd3786"
             ],
             [
              0.5555555555555556,
              "#d8576b"
             ],
             [
              0.6666666666666666,
              "#ed7953"
             ],
             [
              0.7777777777777778,
              "#fb9f3a"
             ],
             [
              0.8888888888888888,
              "#fdca26"
             ],
             [
              1,
              "#f0f921"
             ]
            ],
            "type": "surface"
           }
          ],
          "table": [
           {
            "cells": {
             "fill": {
              "color": "#EBF0F8"
             },
             "line": {
              "color": "white"
             }
            },
            "header": {
             "fill": {
              "color": "#C8D4E3"
             },
             "line": {
              "color": "white"
             }
            },
            "type": "table"
           }
          ]
         },
         "layout": {
          "annotationdefaults": {
           "arrowcolor": "#2a3f5f",
           "arrowhead": 0,
           "arrowwidth": 1
          },
          "autotypenumbers": "strict",
          "coloraxis": {
           "colorbar": {
            "outlinewidth": 0,
            "ticks": ""
           }
          },
          "colorscale": {
           "diverging": [
            [
             0,
             "#8e0152"
            ],
            [
             0.1,
             "#c51b7d"
            ],
            [
             0.2,
             "#de77ae"
            ],
            [
             0.3,
             "#f1b6da"
            ],
            [
             0.4,
             "#fde0ef"
            ],
            [
             0.5,
             "#f7f7f7"
            ],
            [
             0.6,
             "#e6f5d0"
            ],
            [
             0.7,
             "#b8e186"
            ],
            [
             0.8,
             "#7fbc41"
            ],
            [
             0.9,
             "#4d9221"
            ],
            [
             1,
             "#276419"
            ]
           ],
           "sequential": [
            [
             0,
             "#0d0887"
            ],
            [
             0.1111111111111111,
             "#46039f"
            ],
            [
             0.2222222222222222,
             "#7201a8"
            ],
            [
             0.3333333333333333,
             "#9c179e"
            ],
            [
             0.4444444444444444,
             "#bd3786"
            ],
            [
             0.5555555555555556,
             "#d8576b"
            ],
            [
             0.6666666666666666,
             "#ed7953"
            ],
            [
             0.7777777777777778,
             "#fb9f3a"
            ],
            [
             0.8888888888888888,
             "#fdca26"
            ],
            [
             1,
             "#f0f921"
            ]
           ],
           "sequentialminus": [
            [
             0,
             "#0d0887"
            ],
            [
             0.1111111111111111,
             "#46039f"
            ],
            [
             0.2222222222222222,
             "#7201a8"
            ],
            [
             0.3333333333333333,
             "#9c179e"
            ],
            [
             0.4444444444444444,
             "#bd3786"
            ],
            [
             0.5555555555555556,
             "#d8576b"
            ],
            [
             0.6666666666666666,
             "#ed7953"
            ],
            [
             0.7777777777777778,
             "#fb9f3a"
            ],
            [
             0.8888888888888888,
             "#fdca26"
            ],
            [
             1,
             "#f0f921"
            ]
           ]
          },
          "colorway": [
           "#636efa",
           "#EF553B",
           "#00cc96",
           "#ab63fa",
           "#FFA15A",
           "#19d3f3",
           "#FF6692",
           "#B6E880",
           "#FF97FF",
           "#FECB52"
          ],
          "font": {
           "color": "#2a3f5f"
          },
          "geo": {
           "bgcolor": "white",
           "lakecolor": "white",
           "landcolor": "white",
           "showlakes": true,
           "showland": true,
           "subunitcolor": "#C8D4E3"
          },
          "hoverlabel": {
           "align": "left"
          },
          "hovermode": "closest",
          "mapbox": {
           "style": "light"
          },
          "paper_bgcolor": "white",
          "plot_bgcolor": "white",
          "polar": {
           "angularaxis": {
            "gridcolor": "#EBF0F8",
            "linecolor": "#EBF0F8",
            "ticks": ""
           },
           "bgcolor": "white",
           "radialaxis": {
            "gridcolor": "#EBF0F8",
            "linecolor": "#EBF0F8",
            "ticks": ""
           }
          },
          "scene": {
           "xaxis": {
            "backgroundcolor": "white",
            "gridcolor": "#DFE8F3",
            "gridwidth": 2,
            "linecolor": "#EBF0F8",
            "showbackground": true,
            "ticks": "",
            "zerolinecolor": "#EBF0F8"
           },
           "yaxis": {
            "backgroundcolor": "white",
            "gridcolor": "#DFE8F3",
            "gridwidth": 2,
            "linecolor": "#EBF0F8",
            "showbackground": true,
            "ticks": "",
            "zerolinecolor": "#EBF0F8"
           },
           "zaxis": {
            "backgroundcolor": "white",
            "gridcolor": "#DFE8F3",
            "gridwidth": 2,
            "linecolor": "#EBF0F8",
            "showbackground": true,
            "ticks": "",
            "zerolinecolor": "#EBF0F8"
           }
          },
          "shapedefaults": {
           "line": {
            "color": "#2a3f5f"
           }
          },
          "ternary": {
           "aaxis": {
            "gridcolor": "#DFE8F3",
            "linecolor": "#A2B1C6",
            "ticks": ""
           },
           "baxis": {
            "gridcolor": "#DFE8F3",
            "linecolor": "#A2B1C6",
            "ticks": ""
           },
           "bgcolor": "white",
           "caxis": {
            "gridcolor": "#DFE8F3",
            "linecolor": "#A2B1C6",
            "ticks": ""
           }
          },
          "title": {
           "x": 0.05
          },
          "xaxis": {
           "automargin": true,
           "gridcolor": "#EBF0F8",
           "linecolor": "#EBF0F8",
           "ticks": "",
           "title": {
            "standoff": 15
           },
           "zerolinecolor": "#EBF0F8",
           "zerolinewidth": 2
          },
          "yaxis": {
           "automargin": true,
           "gridcolor": "#EBF0F8",
           "linecolor": "#EBF0F8",
           "ticks": "",
           "title": {
            "standoff": 15
           },
           "zerolinecolor": "#EBF0F8",
           "zerolinewidth": 2
          }
         }
        },
        "title": {
         "text": "Distribution of Distinct Restaurants by Cuisine Types"
        },
        "width": 800
       }
      }
     },
     "metadata": {},
     "output_type": "display_data"
    }
   ],
   "source": [
    "#alternative \n",
    "\n",
    "# Ensure the dataset has no duplicate restaurants\n",
    "df = df.drop_duplicates(subset='restaurant_name')\n",
    "\n",
    "# Categorize cuisine types using predefined categories\n",
    "def categorize_cuisine(cuisine):\n",
    "    if pd.isna(cuisine):\n",
    "        return 'Other'\n",
    "    for category, keywords in main_categories.items():\n",
    "        if any(keyword in cuisine for keyword in keywords):\n",
    "            return category\n",
    "    return 'Other'\n",
    "\n",
    "df['cleaned_cuisine_type'] = df['restaurant_cuisine_type'].apply(categorize_cuisine)\n",
    "\n",
    "# Group by cuisine type, count distinct restaurants, and sort descending\n",
    "cuisine_counts = (\n",
    "    df.groupby('cleaned_cuisine_type')['restaurant_name']\n",
    "    .nunique()\n",
    "    .reset_index(name='distinct_restaurant_count')\n",
    "    .sort_values(by='distinct_restaurant_count', ascending=False)\n",
    ")\n",
    "\n",
    "# Remove 'Other' category for clarity\n",
    "cuisine_counts = cuisine_counts[cuisine_counts['cleaned_cuisine_type'] != 'Other']\n",
    "\n",
    "# Define colors for visualization\n",
    "# Define colors dynamically\n",
    "color_map = {\n",
    "    '港式': '#FF6B6B', '火鍋': '#F17F29', '中菜': '#96CEB4', '日本菜': '#4ECDC4',\n",
    "    '韓國菜': '#851E3E', '越南菜': '#FF9F1C', '泰國菜': '#FFD93D', '台灣菜': '#FFEEAD',\n",
    "    '西式': '#45B7D1', '法國菜': '#6C5B7B', '甜品': '#FFD93D', '咖啡': '#A0522D',\n",
    "    '任食/放題': '#FF6F61', '自助餐': '#FF7F50', '素食': '#7AC74F'\n",
    "}\n",
    "\n",
    "# Assign colors dynamically based on sorted cuisine types\n",
    "sorted_colors = [color_map.get(cuisine, '#D3D3D3') for cuisine in cuisine_counts['cleaned_cuisine_type']]\n",
    "\n",
    "# Calculate percentages for labels\n",
    "cuisine_counts['percentage'] = (cuisine_counts['distinct_restaurant_count'] / \n",
    "                                cuisine_counts['distinct_restaurant_count'].sum()) * 100\n",
    "\n",
    "# Add a trace for a doughnut chart\n",
    "fig = go.Figure()\n",
    "fig.add_trace(go.Pie(\n",
    "    labels=cuisine_counts['cleaned_cuisine_type'],\n",
    "    values=cuisine_counts['distinct_restaurant_count'],\n",
    "    marker_colors=sorted_colors,\n",
    "    textinfo='label+percent',\n",
    "    hoverinfo='label+value+percent',\n",
    "    hole=0.4  # Creates the doughnut effect\n",
    "))\n",
    "\n",
    "# Update layout for a more modern and fancy look\n",
    "fig.update_layout(\n",
    "    title='Distribution of Distinct Restaurants by Cuisine Types',\n",
    "    template='plotly_white',\n",
    "    height=700,\n",
    "    width=800,\n",
    "    legend=dict(\n",
    "        title=\"Cuisine Types\",\n",
    "        orientation=\"v\",\n",
    "        yanchor=\"middle\",\n",
    "        y=0.5,\n",
    "        xanchor=\"right\",\n",
    "        x=1.2\n",
    "    ),\n",
    "    annotations=[\n",
    "        dict(\n",
    "            text=\"Cuisines\",\n",
    "            x=0.5,\n",
    "            y=0.5,\n",
    "            font_size=20,\n",
    "            showarrow=False\n",
    "        )\n",
    "    ]\n",
    ")\n",
    "\n",
    "fig.show()\n"
   ]
  },
  {
   "cell_type": "code",
   "execution_count": null,
   "metadata": {},
   "outputs": [
    {
     "data": {
      "application/vnd.plotly.v1+json": {
       "config": {
        "plotlyServerURL": "https://plot.ly"
       },
       "data": [
        {
         "alignmentgroup": "True",
         "hovertemplate": "Cuisine Type=%{x}<br>Price per Person (HKD)=%{y}<extra></extra>",
         "legendgroup": "西式",
         "marker": {
          "color": "rgb(141,211,199)"
         },
         "name": "西式",
         "notched": false,
         "offsetgroup": "西式",
         "orientation": "v",
         "showlegend": true,
         "type": "box",
         "x": [
          "西式",
          "西式",
          "西式",
          "西式",
          "西式",
          "西式",
          "西式",
          "西式",
          "西式",
          "西式",
          "西式",
          "西式",
          "西式",
          "西式",
          "西式",
          "西式",
          "西式",
          "西式",
          "西式",
          "西式",
          "西式",
          "西式",
          "西式",
          "西式",
          "西式",
          "西式",
          "西式",
          "西式",
          "西式",
          "西式",
          "西式",
          "西式",
          "西式",
          "西式",
          "西式",
          "西式",
          "西式",
          "西式",
          "西式",
          "西式",
          "西式",
          "西式",
          "西式",
          "西式",
          "西式",
          "西式",
          "西式",
          "西式",
          "西式",
          "西式",
          "西式",
          "西式",
          "西式",
          "西式",
          "西式",
          "西式",
          "西式",
          "西式",
          "西式",
          "西式",
          "西式",
          "西式",
          "西式",
          "西式",
          "西式",
          "西式",
          "西式",
          "西式",
          "西式",
          "西式",
          "西式",
          "西式",
          "西式",
          "西式",
          "西式",
          "西式",
          "西式",
          "西式",
          "西式",
          "西式",
          "西式",
          "西式",
          "西式",
          "西式",
          "西式",
          "西式",
          "西式",
          "西式",
          "西式",
          "西式",
          "西式",
          "西式",
          "西式",
          "西式",
          "西式",
          "西式",
          "西式",
          "西式",
          "西式",
          "西式",
          "西式",
          "西式",
          "西式",
          "西式",
          "西式",
          "西式",
          "西式",
          "西式",
          "西式",
          "西式",
          "西式",
          "西式",
          "西式",
          "西式",
          "西式",
          "西式",
          "西式",
          "西式",
          "西式",
          "西式",
          "西式",
          "西式",
          "西式",
          "西式",
          "西式",
          "西式",
          "西式",
          "西式",
          "西式",
          "西式",
          "西式",
          "西式",
          "西式",
          "西式",
          "西式",
          "西式",
          "西式",
          "西式",
          "西式",
          "西式",
          "西式",
          "西式",
          "西式",
          "西式",
          "西式",
          "西式",
          "西式",
          "西式",
          "西式",
          "西式",
          "西式",
          "西式",
          "西式",
          "西式",
          "西式",
          "西式",
          "西式",
          "西式",
          "西式",
          "西式",
          "西式",
          "西式",
          "西式",
          "西式",
          "西式",
          "西式",
          "西式",
          "西式",
          "西式",
          "西式",
          "西式",
          "西式",
          "西式",
          "西式",
          "西式",
          "西式",
          "西式",
          "西式",
          "西式",
          "西式",
          "西式",
          "西式",
          "西式",
          "西式",
          "西式",
          "西式",
          "西式",
          "西式",
          "西式",
          "西式",
          "西式",
          "西式",
          "西式",
          "西式",
          "西式",
          "西式",
          "西式",
          "西式",
          "西式",
          "西式",
          "西式",
          "西式",
          "西式",
          "西式",
          "西式",
          "西式",
          "西式",
          "西式",
          "西式",
          "西式",
          "西式",
          "西式",
          "西式",
          "西式",
          "西式",
          "西式",
          "西式",
          "西式",
          "西式",
          "西式",
          "西式",
          "西式",
          "西式",
          "西式",
          "西式",
          "西式",
          "西式",
          "西式",
          "西式",
          "西式",
          "西式",
          "西式",
          "西式",
          "西式",
          "西式",
          "西式",
          "西式",
          "西式",
          "西式",
          "西式",
          "西式",
          "西式",
          "西式",
          "西式",
          "西式",
          "西式",
          "西式",
          "西式",
          "西式",
          "西式",
          "西式",
          "西式",
          "西式",
          "西式",
          "西式",
          "西式",
          "西式",
          "西式",
          "西式",
          "西式",
          "西式",
          "西式",
          "西式",
          "西式",
          "西式",
          "西式",
          "西式",
          "西式",
          "西式",
          "西式",
          "西式",
          "西式",
          "西式",
          "西式",
          "西式",
          "西式",
          "西式",
          "西式",
          "西式",
          "西式",
          "西式",
          "西式",
          "西式",
          "西式",
          "西式",
          "西式",
          "西式",
          "西式",
          "西式",
          "西式",
          "西式",
          "西式",
          "西式",
          "西式",
          "西式",
          "西式",
          "西式",
          "西式",
          "西式",
          "西式",
          "西式",
          "西式",
          "西式",
          "西式",
          "西式",
          "西式",
          "西式",
          "西式",
          "西式",
          "西式",
          "西式",
          "西式",
          "西式",
          "西式",
          "西式",
          "西式",
          "西式",
          "西式",
          "西式",
          "西式"
         ],
         "x0": " ",
         "xaxis": "x",
         "y": [
          602,
          500,
          250,
          130,
          140,
          200,
          150,
          202.4,
          100,
          250,
          250,
          283,
          55,
          80,
          100,
          80,
          168,
          300,
          200,
          600,
          120,
          300,
          150,
          150,
          200,
          180,
          350,
          350,
          580,
          500,
          488,
          150,
          150,
          200,
          700,
          700,
          300,
          139,
          40,
          420,
          485,
          150,
          220,
          500,
          500,
          132,
          400,
          250,
          200,
          100,
          500,
          300,
          50,
          133,
          300,
          569,
          120,
          300,
          63,
          100,
          165,
          70,
          100,
          25,
          100,
          200,
          55,
          150,
          1625,
          348,
          480,
          50,
          9.9,
          103,
          160,
          70,
          60,
          16,
          25,
          58,
          34,
          75,
          250,
          543,
          800,
          300,
          875,
          900,
          360,
          1000,
          92,
          200,
          500,
          455,
          280,
          225,
          292,
          470,
          800,
          130,
          316,
          150,
          180,
          113,
          344,
          150,
          100,
          120,
          150,
          109,
          27,
          163,
          32,
          32.5,
          300,
          70,
          300,
          80,
          111,
          61,
          150,
          140,
          85,
          61,
          150,
          428,
          150,
          520,
          400,
          650,
          503,
          200,
          99,
          185,
          80,
          400,
          400,
          190,
          135,
          270,
          250,
          197,
          300,
          225,
          600,
          400,
          490,
          300,
          403,
          360,
          45,
          32,
          300,
          500,
          400,
          60,
          170,
          250,
          78,
          250,
          650,
          180,
          222,
          200,
          400,
          120,
          240,
          378,
          300,
          400,
          208,
          76,
          350,
          230,
          100,
          80,
          250,
          146,
          150,
          250,
          80,
          250,
          84,
          263,
          250,
          190,
          60,
          145,
          68,
          150,
          120,
          115,
          170,
          150,
          530,
          560,
          250,
          160,
          120,
          400,
          60,
          300,
          150,
          190,
          100,
          200,
          420,
          50,
          80,
          122,
          100,
          43,
          60,
          80,
          143,
          120,
          100,
          120,
          300,
          155,
          400,
          178,
          28,
          39,
          149,
          150,
          150,
          30,
          24,
          350,
          350,
          167.5,
          150,
          130,
          200,
          400,
          50,
          100,
          140,
          280,
          120,
          150,
          300,
          200,
          90,
          79.5,
          150,
          50,
          250,
          159.5,
          350,
          210,
          100,
          225,
          500,
          130,
          80,
          60,
          250,
          180,
          360,
          45,
          100,
          200,
          180,
          200,
          55,
          45,
          250,
          120,
          62,
          500,
          150,
          150,
          150,
          250,
          300,
          275,
          150,
          40,
          110,
          249.5,
          200,
          300,
          200,
          109,
          278,
          250,
          200,
          110,
          50,
          78,
          1,
          140,
          750,
          250,
          155,
          230,
          110,
          180,
          150,
          130,
          100,
          275,
          100,
          90,
          35,
          41,
          170,
          250,
          100,
          250,
          200,
          192,
          110,
          50,
          60,
          114,
          350,
          151
         ],
         "y0": " ",
         "yaxis": "y"
        },
        {
         "alignmentgroup": "True",
         "hovertemplate": "Cuisine Type=%{x}<br>Price per Person (HKD)=%{y}<extra></extra>",
         "legendgroup": "泰國菜",
         "marker": {
          "color": "rgb(255,255,179)"
         },
         "name": "泰國菜",
         "notched": false,
         "offsetgroup": "泰國菜",
         "orientation": "v",
         "showlegend": true,
         "type": "box",
         "x": [
          "泰國菜",
          "泰國菜",
          "泰國菜",
          "泰國菜",
          "泰國菜",
          "泰國菜",
          "泰國菜",
          "泰國菜",
          "泰國菜",
          "泰國菜",
          "泰國菜",
          "泰國菜",
          "泰國菜",
          "泰國菜",
          "泰國菜",
          "泰國菜",
          "泰國菜",
          "泰國菜",
          "泰國菜",
          "泰國菜",
          "泰國菜",
          "泰國菜",
          "泰國菜",
          "泰國菜",
          "泰國菜",
          "泰國菜",
          "泰國菜",
          "泰國菜",
          "泰國菜",
          "泰國菜",
          "泰國菜",
          "泰國菜",
          "泰國菜",
          "泰國菜",
          "泰國菜",
          "泰國菜",
          "泰國菜",
          "泰國菜",
          "泰國菜",
          "泰國菜",
          "泰國菜",
          "泰國菜",
          "泰國菜",
          "泰國菜",
          "泰國菜",
          "泰國菜",
          "泰國菜",
          "泰國菜",
          "泰國菜",
          "泰國菜",
          "泰國菜",
          "泰國菜",
          "泰國菜",
          "泰國菜",
          "泰國菜",
          "泰國菜",
          "泰國菜",
          "泰國菜",
          "泰國菜",
          "泰國菜",
          "泰國菜",
          "泰國菜"
         ],
         "x0": " ",
         "xaxis": "x",
         "y": [
          180,
          56,
          315,
          250,
          300,
          75,
          100,
          275,
          127,
          60,
          234,
          143.5,
          200,
          100,
          40,
          82,
          150,
          200,
          150,
          100,
          150,
          550,
          200,
          200,
          250,
          100,
          262,
          80,
          250,
          298,
          70,
          70,
          369,
          55,
          85,
          250,
          98,
          250,
          121,
          40,
          33,
          70,
          200,
          94,
          250,
          64,
          85,
          84,
          42,
          240,
          100,
          200,
          180,
          200,
          60,
          120,
          146,
          200,
          100,
          80,
          100,
          40
         ],
         "y0": " ",
         "yaxis": "y"
        },
        {
         "alignmentgroup": "True",
         "hovertemplate": "Cuisine Type=%{x}<br>Price per Person (HKD)=%{y}<extra></extra>",
         "legendgroup": "日本菜",
         "marker": {
          "color": "rgb(190,186,218)"
         },
         "name": "日本菜",
         "notched": false,
         "offsetgroup": "日本菜",
         "orientation": "v",
         "showlegend": true,
         "type": "box",
         "x": [
          "日本菜",
          "日本菜",
          "日本菜",
          "日本菜",
          "日本菜",
          "日本菜",
          "日本菜",
          "日本菜",
          "日本菜",
          "日本菜",
          "日本菜",
          "日本菜",
          "日本菜",
          "日本菜",
          "日本菜",
          "日本菜",
          "日本菜",
          "日本菜",
          "日本菜",
          "日本菜",
          "日本菜",
          "日本菜",
          "日本菜",
          "日本菜",
          "日本菜",
          "日本菜",
          "日本菜",
          "日本菜",
          "日本菜",
          "日本菜",
          "日本菜",
          "日本菜",
          "日本菜",
          "日本菜",
          "日本菜",
          "日本菜",
          "日本菜",
          "日本菜",
          "日本菜",
          "日本菜",
          "日本菜",
          "日本菜",
          "日本菜",
          "日本菜",
          "日本菜",
          "日本菜",
          "日本菜",
          "日本菜",
          "日本菜",
          "日本菜",
          "日本菜",
          "日本菜",
          "日本菜",
          "日本菜",
          "日本菜",
          "日本菜",
          "日本菜",
          "日本菜",
          "日本菜",
          "日本菜",
          "日本菜",
          "日本菜",
          "日本菜",
          "日本菜",
          "日本菜",
          "日本菜",
          "日本菜",
          "日本菜",
          "日本菜",
          "日本菜",
          "日本菜",
          "日本菜",
          "日本菜",
          "日本菜",
          "日本菜",
          "日本菜",
          "日本菜",
          "日本菜",
          "日本菜",
          "日本菜",
          "日本菜",
          "日本菜",
          "日本菜",
          "日本菜",
          "日本菜",
          "日本菜",
          "日本菜",
          "日本菜",
          "日本菜",
          "日本菜",
          "日本菜",
          "日本菜",
          "日本菜",
          "日本菜",
          "日本菜",
          "日本菜",
          "日本菜",
          "日本菜",
          "日本菜",
          "日本菜",
          "日本菜",
          "日本菜",
          "日本菜",
          "日本菜",
          "日本菜",
          "日本菜",
          "日本菜",
          "日本菜",
          "日本菜",
          "日本菜",
          "日本菜",
          "日本菜",
          "日本菜",
          "日本菜",
          "日本菜",
          "日本菜",
          "日本菜",
          "日本菜",
          "日本菜",
          "日本菜",
          "日本菜",
          "日本菜",
          "日本菜",
          "日本菜",
          "日本菜",
          "日本菜",
          "日本菜",
          "日本菜",
          "日本菜",
          "日本菜",
          "日本菜",
          "日本菜",
          "日本菜",
          "日本菜",
          "日本菜",
          "日本菜",
          "日本菜",
          "日本菜",
          "日本菜",
          "日本菜",
          "日本菜",
          "日本菜",
          "日本菜",
          "日本菜",
          "日本菜",
          "日本菜",
          "日本菜",
          "日本菜",
          "日本菜",
          "日本菜",
          "日本菜",
          "日本菜",
          "日本菜",
          "日本菜",
          "日本菜",
          "日本菜",
          "日本菜",
          "日本菜",
          "日本菜",
          "日本菜",
          "日本菜",
          "日本菜",
          "日本菜",
          "日本菜",
          "日本菜",
          "日本菜",
          "日本菜",
          "日本菜",
          "日本菜",
          "日本菜",
          "日本菜",
          "日本菜",
          "日本菜",
          "日本菜",
          "日本菜",
          "日本菜",
          "日本菜",
          "日本菜",
          "日本菜",
          "日本菜",
          "日本菜",
          "日本菜",
          "日本菜",
          "日本菜",
          "日本菜",
          "日本菜",
          "日本菜",
          "日本菜",
          "日本菜",
          "日本菜",
          "日本菜",
          "日本菜",
          "日本菜",
          "日本菜",
          "日本菜",
          "日本菜",
          "日本菜",
          "日本菜",
          "日本菜",
          "日本菜",
          "日本菜",
          "日本菜",
          "日本菜",
          "日本菜",
          "日本菜",
          "日本菜",
          "日本菜",
          "日本菜",
          "日本菜",
          "日本菜",
          "日本菜",
          "日本菜",
          "日本菜",
          "日本菜",
          "日本菜",
          "日本菜",
          "日本菜",
          "日本菜",
          "日本菜",
          "日本菜",
          "日本菜",
          "日本菜",
          "日本菜",
          "日本菜",
          "日本菜",
          "日本菜",
          "日本菜",
          "日本菜",
          "日本菜",
          "日本菜",
          "日本菜",
          "日本菜",
          "日本菜",
          "日本菜",
          "日本菜",
          "日本菜",
          "日本菜",
          "日本菜",
          "日本菜",
          "日本菜",
          "日本菜",
          "日本菜",
          "日本菜",
          "日本菜",
          "日本菜",
          "日本菜",
          "日本菜",
          "日本菜",
          "日本菜",
          "日本菜",
          "日本菜",
          "日本菜",
          "日本菜",
          "日本菜"
         ],
         "x0": " ",
         "xaxis": "x",
         "y": [
          458,
          250,
          100,
          100,
          100,
          600,
          98,
          170,
          100,
          500,
          300,
          1474,
          200,
          50,
          58,
          400,
          2000,
          800,
          2100,
          168,
          200,
          550,
          348,
          200,
          600,
          128,
          1000,
          200,
          350,
          2500,
          100,
          300,
          1380,
          55,
          3650,
          500,
          75,
          700,
          110,
          250,
          100,
          100,
          480,
          88,
          400,
          555,
          180,
          549,
          300,
          260,
          1500,
          500,
          200,
          700,
          1600,
          70,
          250,
          130,
          120,
          260,
          100,
          900,
          200,
          100,
          90,
          150,
          88,
          130,
          270.6,
          250,
          500,
          96,
          245,
          39,
          35,
          250,
          100,
          160,
          98,
          210,
          60,
          105,
          12,
          54,
          51,
          100,
          3212,
          150,
          160,
          2000,
          370,
          100,
          30,
          150,
          140,
          65,
          250,
          39,
          500,
          600,
          250,
          200,
          400,
          719,
          1000,
          400,
          543,
          455,
          152,
          500,
          53,
          200,
          125,
          280,
          150,
          100,
          600,
          500,
          100,
          48,
          38,
          84.5,
          70,
          100,
          350,
          330,
          370,
          500,
          75,
          220,
          233,
          250,
          250,
          136,
          140,
          110,
          199,
          79,
          348,
          160,
          176,
          300,
          35,
          55,
          44,
          175,
          150,
          300,
          90,
          250,
          88,
          700,
          80,
          500,
          900,
          400,
          160,
          250,
          182,
          50,
          600,
          100,
          150,
          60,
          900,
          450,
          115,
          150,
          373,
          85,
          60,
          600,
          300,
          250,
          120,
          400,
          80,
          37,
          195,
          190,
          450,
          72,
          48,
          28,
          105,
          170,
          150,
          83,
          50,
          320,
          150,
          60,
          50,
          50,
          50,
          80,
          100,
          150,
          150,
          300,
          180,
          200,
          180,
          177,
          150,
          90,
          200,
          95,
          892,
          230,
          300,
          85,
          120,
          398,
          1400,
          300,
          80,
          160,
          126,
          70,
          150,
          500,
          200,
          288,
          150,
          75,
          100,
          300,
          150,
          250,
          124,
          120,
          60,
          145,
          50,
          100,
          125,
          100,
          65,
          200,
          150,
          300,
          96,
          54,
          69,
          226,
          630,
          100,
          200,
          84.5,
          70,
          45,
          30,
          78
         ],
         "y0": " ",
         "yaxis": "y"
        },
        {
         "alignmentgroup": "True",
         "hovertemplate": "Cuisine Type=%{x}<br>Price per Person (HKD)=%{y}<extra></extra>",
         "legendgroup": "中菜",
         "marker": {
          "color": "rgb(251,128,114)"
         },
         "name": "中菜",
         "notched": false,
         "offsetgroup": "中菜",
         "orientation": "v",
         "showlegend": true,
         "type": "box",
         "x": [
          "中菜",
          "中菜",
          "中菜",
          "中菜",
          "中菜",
          "中菜",
          "中菜",
          "中菜",
          "中菜",
          "中菜",
          "中菜",
          "中菜",
          "中菜",
          "中菜",
          "中菜",
          "中菜",
          "中菜",
          "中菜",
          "中菜",
          "中菜",
          "中菜",
          "中菜",
          "中菜",
          "中菜",
          "中菜",
          "中菜",
          "中菜",
          "中菜",
          "中菜",
          "中菜",
          "中菜",
          "中菜",
          "中菜",
          "中菜",
          "中菜",
          "中菜",
          "中菜",
          "中菜",
          "中菜",
          "中菜",
          "中菜",
          "中菜",
          "中菜",
          "中菜",
          "中菜",
          "中菜",
          "中菜",
          "中菜",
          "中菜",
          "中菜",
          "中菜",
          "中菜",
          "中菜",
          "中菜",
          "中菜",
          "中菜",
          "中菜",
          "中菜",
          "中菜",
          "中菜",
          "中菜",
          "中菜",
          "中菜",
          "中菜",
          "中菜",
          "中菜",
          "中菜",
          "中菜",
          "中菜",
          "中菜",
          "中菜",
          "中菜",
          "中菜",
          "中菜",
          "中菜",
          "中菜",
          "中菜",
          "中菜",
          "中菜",
          "中菜",
          "中菜",
          "中菜",
          "中菜",
          "中菜",
          "中菜",
          "中菜",
          "中菜",
          "中菜",
          "中菜",
          "中菜",
          "中菜",
          "中菜",
          "中菜",
          "中菜",
          "中菜",
          "中菜",
          "中菜",
          "中菜",
          "中菜",
          "中菜",
          "中菜",
          "中菜",
          "中菜",
          "中菜",
          "中菜",
          "中菜",
          "中菜",
          "中菜",
          "中菜",
          "中菜",
          "中菜",
          "中菜",
          "中菜",
          "中菜",
          "中菜",
          "中菜",
          "中菜",
          "中菜",
          "中菜",
          "中菜",
          "中菜",
          "中菜",
          "中菜",
          "中菜",
          "中菜",
          "中菜",
          "中菜",
          "中菜",
          "中菜",
          "中菜",
          "中菜",
          "中菜",
          "中菜",
          "中菜",
          "中菜",
          "中菜",
          "中菜",
          "中菜",
          "中菜",
          "中菜",
          "中菜",
          "中菜",
          "中菜",
          "中菜",
          "中菜",
          "中菜",
          "中菜",
          "中菜",
          "中菜",
          "中菜",
          "中菜",
          "中菜",
          "中菜",
          "中菜",
          "中菜",
          "中菜",
          "中菜",
          "中菜",
          "中菜",
          "中菜",
          "中菜",
          "中菜",
          "中菜",
          "中菜",
          "中菜",
          "中菜",
          "中菜",
          "中菜",
          "中菜",
          "中菜",
          "中菜",
          "中菜",
          "中菜",
          "中菜",
          "中菜",
          "中菜",
          "中菜",
          "中菜",
          "中菜",
          "中菜",
          "中菜",
          "中菜",
          "中菜",
          "中菜",
          "中菜",
          "中菜",
          "中菜",
          "中菜",
          "中菜",
          "中菜",
          "中菜",
          "中菜",
          "中菜",
          "中菜",
          "中菜",
          "中菜",
          "中菜",
          "中菜",
          "中菜",
          "中菜",
          "中菜",
          "中菜",
          "中菜",
          "中菜",
          "中菜",
          "中菜",
          "中菜",
          "中菜",
          "中菜",
          "中菜",
          "中菜",
          "中菜",
          "中菜",
          "中菜",
          "中菜",
          "中菜",
          "中菜",
          "中菜",
          "中菜",
          "中菜",
          "中菜",
          "中菜",
          "中菜",
          "中菜",
          "中菜",
          "中菜",
          "中菜",
          "中菜",
          "中菜",
          "中菜",
          "中菜",
          "中菜",
          "中菜",
          "中菜",
          "中菜",
          "中菜"
         ],
         "x0": " ",
         "xaxis": "x",
         "y": [
          330,
          68,
          240,
          146,
          84,
          33,
          10,
          150,
          700,
          100,
          69,
          404,
          250,
          600,
          350,
          27,
          491,
          250,
          450,
          1000,
          235,
          450,
          100,
          500,
          127,
          500,
          873,
          82,
          400,
          500,
          150,
          110,
          70,
          50,
          44,
          400,
          60,
          68,
          55,
          75,
          800,
          250,
          82,
          90,
          430,
          300,
          150,
          209,
          70,
          144,
          370,
          60,
          40,
          39,
          35,
          152,
          85,
          37,
          90,
          30,
          200,
          70,
          60,
          183,
          500,
          400,
          1000,
          1500,
          500,
          150,
          400,
          150,
          90,
          260,
          500,
          400,
          92,
          450,
          522,
          150,
          73,
          65,
          150,
          160,
          533,
          500,
          93,
          220,
          80,
          72,
          30,
          400,
          100,
          42,
          120,
          70,
          200,
          120,
          95,
          117.5,
          60,
          450,
          65,
          80,
          150,
          180,
          600,
          70,
          250,
          60,
          300,
          25,
          150,
          100,
          88,
          1000,
          250,
          70,
          180,
          260,
          280,
          40,
          200,
          60,
          150,
          250,
          300,
          276.75,
          300,
          168,
          65,
          120,
          150,
          180,
          92,
          80,
          250,
          250,
          570,
          20,
          10,
          170,
          75.5,
          50,
          29,
          38,
          67.5,
          130,
          40,
          275,
          600,
          150,
          580,
          350,
          15,
          400,
          200,
          130,
          50,
          120,
          90,
          400,
          500,
          550,
          400,
          450,
          700,
          830,
          3000,
          200,
          300,
          178,
          227,
          156,
          60,
          300,
          60,
          150,
          500,
          600,
          40,
          440,
          200,
          50,
          60,
          270,
          175,
          200,
          280,
          100,
          80,
          300,
          162,
          60,
          115,
          100,
          88,
          800,
          200,
          160,
          150,
          80,
          135,
          300,
          506,
          68,
          70,
          600,
          800,
          39,
          200,
          150,
          250,
          45,
          200,
          200,
          60,
          538,
          150,
          160,
          100,
          260,
          120,
          150,
          40,
          60,
          150,
          400,
          80,
          550,
          100,
          400,
          150,
          50,
          100,
          200
         ],
         "y0": " ",
         "yaxis": "y"
        },
        {
         "alignmentgroup": "True",
         "hovertemplate": "Cuisine Type=%{x}<br>Price per Person (HKD)=%{y}<extra></extra>",
         "legendgroup": "Other",
         "marker": {
          "color": "rgb(128,177,211)"
         },
         "name": "Other",
         "notched": false,
         "offsetgroup": "Other",
         "orientation": "v",
         "showlegend": true,
         "type": "box",
         "x": [
          "Other",
          "Other",
          "Other",
          "Other",
          "Other",
          "Other",
          "Other",
          "Other",
          "Other",
          "Other",
          "Other",
          "Other",
          "Other",
          "Other",
          "Other",
          "Other",
          "Other",
          "Other",
          "Other",
          "Other",
          "Other",
          "Other",
          "Other",
          "Other",
          "Other",
          "Other",
          "Other",
          "Other",
          "Other",
          "Other",
          "Other",
          "Other",
          "Other",
          "Other",
          "Other",
          "Other",
          "Other",
          "Other",
          "Other",
          "Other",
          "Other",
          "Other",
          "Other",
          "Other",
          "Other",
          "Other",
          "Other",
          "Other",
          "Other",
          "Other",
          "Other",
          "Other",
          "Other",
          "Other",
          "Other",
          "Other",
          "Other",
          "Other",
          "Other",
          "Other",
          "Other",
          "Other",
          "Other",
          "Other",
          "Other",
          "Other",
          "Other",
          "Other",
          "Other",
          "Other",
          "Other",
          "Other",
          "Other",
          "Other",
          "Other",
          "Other",
          "Other",
          "Other",
          "Other",
          "Other",
          "Other",
          "Other",
          "Other",
          "Other",
          "Other",
          "Other",
          "Other",
          "Other",
          "Other",
          "Other",
          "Other",
          "Other",
          "Other",
          "Other",
          "Other",
          "Other",
          "Other",
          "Other",
          "Other",
          "Other",
          "Other",
          "Other",
          "Other",
          "Other",
          "Other",
          "Other",
          "Other",
          "Other",
          "Other",
          "Other",
          "Other",
          "Other",
          "Other",
          "Other",
          "Other",
          "Other",
          "Other",
          "Other",
          "Other",
          "Other",
          "Other",
          "Other",
          "Other",
          "Other",
          "Other",
          "Other",
          "Other",
          "Other",
          "Other",
          "Other",
          "Other",
          "Other",
          "Other",
          "Other",
          "Other",
          "Other",
          "Other",
          "Other",
          "Other",
          "Other",
          "Other",
          "Other",
          "Other",
          "Other",
          "Other",
          "Other",
          "Other",
          "Other",
          "Other",
          "Other",
          "Other"
         ],
         "x0": " ",
         "xaxis": "x",
         "y": [
          100,
          400,
          300,
          916,
          44,
          580,
          250,
          250,
          69,
          60,
          80,
          230,
          509,
          240,
          363,
          351,
          500,
          300,
          300,
          250,
          1200,
          200,
          500,
          300,
          100,
          180,
          280,
          480,
          55,
          85,
          70,
          188,
          80,
          286,
          500,
          133,
          360,
          200,
          106,
          1000,
          1100,
          136,
          60,
          51.5,
          50,
          400,
          120,
          400,
          66,
          188,
          55,
          50,
          50,
          29,
          46,
          80,
          60,
          70,
          37,
          70,
          67,
          200,
          188,
          140,
          270,
          100,
          60,
          60,
          15,
          60,
          400,
          79,
          288.2,
          250,
          462,
          900,
          250,
          140,
          140,
          150,
          80,
          160,
          75,
          70,
          32,
          50,
          118,
          600,
          300,
          190,
          60,
          68,
          49,
          473,
          200,
          45,
          120,
          130,
          150,
          330,
          90,
          50,
          200,
          12,
          100,
          50,
          40,
          351,
          100,
          115,
          48,
          28,
          350,
          60,
          78,
          250,
          60,
          79.5,
          360,
          75,
          60,
          109.5,
          60,
          50,
          100,
          235,
          80,
          120,
          78,
          200,
          55,
          90,
          73,
          150,
          50,
          200,
          30,
          150,
          130,
          58,
          168,
          147,
          152,
          47,
          100,
          259,
          130,
          75,
          68,
          140,
          50
         ],
         "y0": " ",
         "yaxis": "y"
        },
        {
         "alignmentgroup": "True",
         "hovertemplate": "Cuisine Type=%{x}<br>Price per Person (HKD)=%{y}<extra></extra>",
         "legendgroup": "咖啡",
         "marker": {
          "color": "rgb(253,180,98)"
         },
         "name": "咖啡",
         "notched": false,
         "offsetgroup": "咖啡",
         "orientation": "v",
         "showlegend": true,
         "type": "box",
         "x": [
          "咖啡",
          "咖啡",
          "咖啡",
          "咖啡",
          "咖啡",
          "咖啡",
          "咖啡",
          "咖啡",
          "咖啡",
          "咖啡",
          "咖啡",
          "咖啡",
          "咖啡",
          "咖啡",
          "咖啡",
          "咖啡",
          "咖啡",
          "咖啡",
          "咖啡",
          "咖啡",
          "咖啡",
          "咖啡",
          "咖啡",
          "咖啡",
          "咖啡"
         ],
         "x0": " ",
         "xaxis": "x",
         "y": [
          155,
          300,
          138,
          60,
          150,
          150,
          80,
          300,
          300,
          150,
          117,
          280,
          200,
          150,
          171,
          100,
          170,
          150,
          86,
          100,
          119,
          90,
          40,
          78,
          170
         ],
         "y0": " ",
         "yaxis": "y"
        },
        {
         "alignmentgroup": "True",
         "hovertemplate": "Cuisine Type=%{x}<br>Price per Person (HKD)=%{y}<extra></extra>",
         "legendgroup": "台灣菜",
         "marker": {
          "color": "rgb(179,222,105)"
         },
         "name": "台灣菜",
         "notched": false,
         "offsetgroup": "台灣菜",
         "orientation": "v",
         "showlegend": true,
         "type": "box",
         "x": [
          "台灣菜",
          "台灣菜",
          "台灣菜",
          "台灣菜",
          "台灣菜",
          "台灣菜",
          "台灣菜",
          "台灣菜",
          "台灣菜",
          "台灣菜",
          "台灣菜",
          "台灣菜",
          "台灣菜",
          "台灣菜",
          "台灣菜",
          "台灣菜",
          "台灣菜",
          "台灣菜",
          "台灣菜",
          "台灣菜",
          "台灣菜",
          "台灣菜",
          "台灣菜",
          "台灣菜",
          "台灣菜",
          "台灣菜",
          "台灣菜",
          "台灣菜",
          "台灣菜",
          "台灣菜",
          "台灣菜",
          "台灣菜",
          "台灣菜",
          "台灣菜",
          "台灣菜",
          "台灣菜",
          "台灣菜",
          "台灣菜",
          "台灣菜",
          "台灣菜",
          "台灣菜",
          "台灣菜",
          "台灣菜",
          "台灣菜",
          "台灣菜",
          "台灣菜",
          "台灣菜",
          "台灣菜",
          "台灣菜",
          "台灣菜",
          "台灣菜",
          "台灣菜",
          "台灣菜"
         ],
         "x0": " ",
         "xaxis": "x",
         "y": [
          123,
          140,
          250,
          70,
          150,
          260,
          100,
          130,
          100,
          100,
          65,
          140,
          126,
          61,
          20,
          14,
          40,
          50,
          40,
          40,
          60,
          45,
          41.5,
          23,
          140,
          80,
          200,
          38,
          100,
          120,
          249,
          250,
          58,
          20,
          100,
          33,
          22,
          29,
          65,
          80,
          79,
          129,
          200,
          160,
          100,
          140,
          221,
          35,
          150,
          120,
          137,
          32,
          79
         ],
         "y0": " ",
         "yaxis": "y"
        },
        {
         "alignmentgroup": "True",
         "hovertemplate": "Cuisine Type=%{x}<br>Price per Person (HKD)=%{y}<extra></extra>",
         "legendgroup": "自助餐",
         "marker": {
          "color": "rgb(252,205,229)"
         },
         "name": "自助餐",
         "notched": false,
         "offsetgroup": "自助餐",
         "orientation": "v",
         "showlegend": true,
         "type": "box",
         "x": [
          "自助餐",
          "自助餐",
          "自助餐",
          "自助餐",
          "自助餐",
          "自助餐",
          "自助餐",
          "自助餐",
          "自助餐",
          "自助餐",
          "自助餐",
          "自助餐",
          "自助餐",
          "自助餐",
          "自助餐",
          "自助餐",
          "自助餐",
          "自助餐",
          "自助餐"
         ],
         "x0": " ",
         "xaxis": "x",
         "y": [
          200,
          300,
          130,
          1100,
          473,
          1368,
          400,
          688,
          500,
          750,
          200,
          268,
          700,
          194.8,
          500,
          168,
          370,
          200,
          36
         ],
         "y0": " ",
         "yaxis": "y"
        },
        {
         "alignmentgroup": "True",
         "hovertemplate": "Cuisine Type=%{x}<br>Price per Person (HKD)=%{y}<extra></extra>",
         "legendgroup": "港式",
         "marker": {
          "color": "rgb(217,217,217)"
         },
         "name": "港式",
         "notched": false,
         "offsetgroup": "港式",
         "orientation": "v",
         "showlegend": true,
         "type": "box",
         "x": [
          "港式",
          "港式",
          "港式",
          "港式",
          "港式",
          "港式",
          "港式",
          "港式",
          "港式",
          "港式",
          "港式",
          "港式",
          "港式",
          "港式",
          "港式",
          "港式",
          "港式",
          "港式",
          "港式",
          "港式",
          "港式",
          "港式",
          "港式",
          "港式",
          "港式",
          "港式",
          "港式",
          "港式",
          "港式",
          "港式",
          "港式",
          "港式",
          "港式",
          "港式",
          "港式",
          "港式",
          "港式",
          "港式",
          "港式",
          "港式",
          "港式",
          "港式",
          "港式",
          "港式",
          "港式",
          "港式",
          "港式",
          "港式",
          "港式",
          "港式",
          "港式",
          "港式",
          "港式",
          "港式",
          "港式",
          "港式",
          "港式",
          "港式",
          "港式",
          "港式",
          "港式",
          "港式",
          "港式",
          "港式",
          "港式",
          "港式",
          "港式",
          "港式",
          "港式",
          "港式",
          "港式",
          "港式",
          "港式",
          "港式",
          "港式",
          "港式",
          "港式",
          "港式",
          "港式",
          "港式",
          "港式",
          "港式",
          "港式",
          "港式",
          "港式",
          "港式",
          "港式",
          "港式",
          "港式",
          "港式",
          "港式",
          "港式",
          "港式",
          "港式",
          "港式",
          "港式",
          "港式",
          "港式",
          "港式",
          "港式",
          "港式",
          "港式",
          "港式",
          "港式",
          "港式",
          "港式",
          "港式",
          "港式",
          "港式",
          "港式",
          "港式",
          "港式",
          "港式",
          "港式",
          "港式",
          "港式",
          "港式",
          "港式",
          "港式",
          "港式",
          "港式",
          "港式",
          "港式",
          "港式",
          "港式",
          "港式",
          "港式",
          "港式",
          "港式",
          "港式",
          "港式",
          "港式",
          "港式",
          "港式",
          "港式",
          "港式",
          "港式",
          "港式",
          "港式",
          "港式",
          "港式",
          "港式",
          "港式",
          "港式",
          "港式",
          "港式",
          "港式",
          "港式",
          "港式",
          "港式",
          "港式",
          "港式",
          "港式",
          "港式",
          "港式",
          "港式",
          "港式",
          "港式",
          "港式",
          "港式",
          "港式",
          "港式",
          "港式",
          "港式",
          "港式",
          "港式",
          "港式",
          "港式",
          "港式",
          "港式",
          "港式",
          "港式",
          "港式",
          "港式",
          "港式",
          "港式",
          "港式",
          "港式",
          "港式",
          "港式",
          "港式",
          "港式",
          "港式",
          "港式",
          "港式",
          "港式",
          "港式",
          "港式",
          "港式",
          "港式",
          "港式",
          "港式",
          "港式",
          "港式",
          "港式",
          "港式",
          "港式",
          "港式",
          "港式",
          "港式",
          "港式",
          "港式",
          "港式",
          "港式",
          "港式",
          "港式",
          "港式",
          "港式",
          "港式",
          "港式",
          "港式",
          "港式",
          "港式",
          "港式",
          "港式",
          "港式",
          "港式",
          "港式",
          "港式",
          "港式",
          "港式",
          "港式",
          "港式",
          "港式",
          "港式",
          "港式",
          "港式",
          "港式",
          "港式",
          "港式",
          "港式",
          "港式",
          "港式",
          "港式",
          "港式",
          "港式",
          "港式",
          "港式",
          "港式",
          "港式",
          "港式",
          "港式",
          "港式",
          "港式",
          "港式",
          "港式",
          "港式",
          "港式",
          "港式",
          "港式",
          "港式",
          "港式",
          "港式",
          "港式",
          "港式",
          "港式",
          "港式",
          "港式",
          "港式",
          "港式",
          "港式",
          "港式",
          "港式",
          "港式",
          "港式",
          "港式",
          "港式",
          "港式",
          "港式",
          "港式",
          "港式",
          "港式",
          "港式",
          "港式",
          "港式",
          "港式",
          "港式",
          "港式",
          "港式",
          "港式",
          "港式",
          "港式",
          "港式",
          "港式",
          "港式",
          "港式",
          "港式",
          "港式",
          "港式",
          "港式",
          "港式",
          "港式",
          "港式",
          "港式",
          "港式",
          "港式",
          "港式",
          "港式",
          "港式",
          "港式",
          "港式",
          "港式",
          "港式",
          "港式",
          "港式",
          "港式",
          "港式",
          "港式",
          "港式",
          "港式",
          "港式",
          "港式",
          "港式",
          "港式",
          "港式",
          "港式",
          "港式",
          "港式",
          "港式",
          "港式",
          "港式",
          "港式",
          "港式",
          "港式",
          "港式",
          "港式",
          "港式",
          "港式",
          "港式",
          "港式",
          "港式",
          "港式",
          "港式",
          "港式",
          "港式",
          "港式",
          "港式",
          "港式",
          "港式",
          "港式",
          "港式",
          "港式",
          "港式",
          "港式",
          "港式",
          "港式",
          "港式",
          "港式",
          "港式",
          "港式",
          "港式",
          "港式",
          "港式",
          "港式",
          "港式",
          "港式",
          "港式",
          "港式",
          "港式",
          "港式",
          "港式",
          "港式",
          "港式",
          "港式",
          "港式",
          "港式",
          "港式",
          "港式",
          "港式",
          "港式",
          "港式",
          "港式",
          "港式",
          "港式",
          "港式",
          "港式",
          "港式",
          "港式",
          "港式",
          "港式",
          "港式",
          "港式",
          "港式",
          "港式",
          "港式",
          "港式",
          "港式",
          "港式",
          "港式",
          "港式",
          "港式",
          "港式",
          "港式",
          "港式",
          "港式",
          "港式",
          "港式",
          "港式",
          "港式",
          "港式",
          "港式",
          "港式",
          "港式",
          "港式",
          "港式",
          "港式",
          "港式",
          "港式",
          "港式",
          "港式",
          "港式",
          "港式",
          "港式",
          "港式",
          "港式",
          "港式",
          "港式",
          "港式",
          "港式",
          "港式",
          "港式",
          "港式",
          "港式",
          "港式",
          "港式",
          "港式",
          "港式",
          "港式",
          "港式",
          "港式",
          "港式",
          "港式",
          "港式",
          "港式",
          "港式",
          "港式",
          "港式",
          "港式",
          "港式",
          "港式"
         ],
         "x0": " ",
         "xaxis": "x",
         "y": [
          30,
          60,
          250,
          58,
          70,
          70,
          60,
          130,
          40,
          40,
          60,
          20,
          50,
          50,
          35,
          64,
          55,
          80,
          45,
          40,
          100,
          100,
          500,
          150,
          800,
          200,
          72,
          410,
          270,
          48,
          60,
          45,
          50,
          100,
          100,
          96,
          170,
          68,
          70,
          189,
          118,
          84,
          420,
          126,
          100,
          63,
          100,
          400,
          340,
          80,
          35,
          29,
          50,
          169,
          86,
          90,
          65,
          60,
          28,
          75,
          36,
          120,
          20,
          50,
          49,
          42,
          30,
          100,
          100,
          16,
          33,
          49,
          59,
          24,
          300,
          60,
          135,
          230,
          65,
          40,
          130,
          50,
          42,
          17,
          50,
          33,
          50,
          60,
          50,
          50,
          10,
          16,
          45,
          355,
          40,
          150,
          52,
          39,
          28,
          16,
          59,
          18,
          80,
          30,
          45,
          45,
          32,
          180,
          380,
          60,
          80,
          50,
          52,
          22,
          180,
          100,
          56,
          105,
          25,
          64,
          6,
          30,
          15,
          32,
          47,
          50,
          56,
          90,
          180,
          12,
          300,
          105,
          288,
          150,
          75,
          300,
          66,
          272.8,
          580,
          100,
          125,
          76,
          300,
          328,
          280,
          123.5,
          67.5,
          260,
          150,
          36,
          98,
          200,
          130,
          80,
          60,
          70,
          35,
          53,
          40,
          20,
          31,
          2.5,
          100,
          258,
          119,
          66,
          450,
          120,
          121,
          130,
          260,
          700,
          55,
          49,
          300,
          52,
          40,
          88,
          230,
          103,
          100,
          116,
          200,
          39,
          26,
          75,
          87,
          250,
          62,
          65,
          39,
          65,
          260,
          350,
          100,
          300,
          250,
          58,
          80,
          75,
          350,
          29,
          20,
          80,
          80,
          124,
          135,
          45,
          17,
          91.5,
          80,
          95,
          25,
          40,
          65,
          17,
          502.15,
          212,
          300,
          80,
          742,
          300,
          120,
          120,
          500,
          18,
          90,
          80,
          60,
          160,
          20,
          21,
          13,
          10,
          15,
          50,
          20,
          20,
          55,
          173,
          120,
          70,
          62,
          88,
          49,
          200,
          67,
          220,
          430,
          281,
          10,
          50,
          160,
          80,
          60,
          43,
          720,
          184,
          74,
          60,
          60,
          120,
          42,
          10,
          20,
          55,
          49,
          35,
          50,
          39,
          30,
          70,
          200,
          60,
          75,
          45,
          50,
          30,
          21,
          30,
          105,
          140,
          36,
          50,
          30,
          86,
          50,
          80,
          40,
          65,
          70,
          50,
          8,
          200,
          150,
          68,
          40,
          35,
          50,
          50,
          56,
          14,
          45,
          62,
          70,
          48,
          65,
          540,
          75,
          48,
          150,
          38,
          43,
          510,
          500,
          500,
          150,
          28,
          100,
          149,
          120,
          59,
          38,
          70,
          53,
          50,
          350,
          300,
          70,
          150,
          184,
          40,
          977,
          98,
          110,
          600,
          60,
          158,
          30,
          150,
          52,
          220,
          208,
          10,
          214,
          300,
          56,
          80,
          40,
          45,
          50,
          130,
          32,
          96,
          70,
          46,
          450,
          20,
          50,
          70,
          50,
          35,
          50,
          100,
          60,
          140,
          32,
          10,
          150,
          58,
          250,
          12,
          50,
          59,
          580,
          60,
          50,
          40,
          200,
          60,
          150,
          28,
          85,
          51,
          300,
          65,
          60,
          24,
          50,
          54,
          56,
          50,
          450,
          110,
          15,
          32,
          40,
          98,
          50,
          75,
          75,
          68,
          50,
          51,
          65,
          30,
          10,
          25,
          30,
          54,
          54,
          100,
          80,
          123,
          36,
          25,
          40,
          72,
          30,
          88,
          60,
          56,
          200,
          45,
          50,
          150,
          90,
          40,
          30,
          42,
          1,
          180,
          50,
          40,
          80,
          70,
          7,
          19,
          60,
          250
         ],
         "y0": " ",
         "yaxis": "y"
        },
        {
         "alignmentgroup": "True",
         "hovertemplate": "Cuisine Type=%{x}<br>Price per Person (HKD)=%{y}<extra></extra>",
         "legendgroup": "韓國菜",
         "marker": {
          "color": "rgb(188,128,189)"
         },
         "name": "韓國菜",
         "notched": false,
         "offsetgroup": "韓國菜",
         "orientation": "v",
         "showlegend": true,
         "type": "box",
         "x": [
          "韓國菜",
          "韓國菜",
          "韓國菜",
          "韓國菜",
          "韓國菜",
          "韓國菜",
          "韓國菜",
          "韓國菜",
          "韓國菜",
          "韓國菜",
          "韓國菜",
          "韓國菜",
          "韓國菜",
          "韓國菜",
          "韓國菜",
          "韓國菜",
          "韓國菜",
          "韓國菜",
          "韓國菜",
          "韓國菜",
          "韓國菜",
          "韓國菜",
          "韓國菜",
          "韓國菜",
          "韓國菜",
          "韓國菜",
          "韓國菜",
          "韓國菜",
          "韓國菜",
          "韓國菜",
          "韓國菜",
          "韓國菜",
          "韓國菜",
          "韓國菜",
          "韓國菜",
          "韓國菜",
          "韓國菜",
          "韓國菜",
          "韓國菜",
          "韓國菜",
          "韓國菜",
          "韓國菜",
          "韓國菜",
          "韓國菜",
          "韓國菜",
          "韓國菜",
          "韓國菜",
          "韓國菜",
          "韓國菜",
          "韓國菜"
         ],
         "x0": " ",
         "xaxis": "x",
         "y": [
          350,
          400,
          385,
          80,
          250,
          50,
          336.5,
          250,
          250,
          128,
          200,
          100,
          220,
          280,
          280,
          270,
          200,
          463,
          600,
          500,
          260,
          350,
          190,
          50,
          268,
          250,
          100,
          270,
          200,
          250,
          400,
          250,
          300,
          125,
          250,
          100,
          150,
          100,
          70,
          200,
          160,
          150,
          80,
          150,
          50,
          65,
          235,
          50,
          250,
          100
         ],
         "y0": " ",
         "yaxis": "y"
        },
        {
         "alignmentgroup": "True",
         "hovertemplate": "Cuisine Type=%{x}<br>Price per Person (HKD)=%{y}<extra></extra>",
         "legendgroup": "越南菜",
         "marker": {
          "color": "rgb(204,235,197)"
         },
         "name": "越南菜",
         "notched": false,
         "offsetgroup": "越南菜",
         "orientation": "v",
         "showlegend": true,
         "type": "box",
         "x": [
          "越南菜",
          "越南菜",
          "越南菜",
          "越南菜",
          "越南菜",
          "越南菜",
          "越南菜",
          "越南菜",
          "越南菜",
          "越南菜",
          "越南菜",
          "越南菜",
          "越南菜",
          "越南菜",
          "越南菜",
          "越南菜",
          "越南菜",
          "越南菜",
          "越南菜",
          "越南菜",
          "越南菜",
          "越南菜",
          "越南菜",
          "越南菜",
          "越南菜",
          "越南菜",
          "越南菜",
          "越南菜",
          "越南菜",
          "越南菜",
          "越南菜",
          "越南菜",
          "越南菜",
          "越南菜"
         ],
         "x0": " ",
         "xaxis": "x",
         "y": [
          100,
          167,
          400,
          150,
          110,
          100,
          70,
          150,
          75,
          72,
          90,
          534,
          175,
          85,
          140,
          83,
          100,
          130,
          60,
          125,
          70,
          189,
          40,
          39,
          35,
          90,
          260,
          39,
          80,
          70,
          300,
          173,
          200,
          44
         ],
         "y0": " ",
         "yaxis": "y"
        },
        {
         "alignmentgroup": "True",
         "hovertemplate": "Cuisine Type=%{x}<br>Price per Person (HKD)=%{y}<extra></extra>",
         "legendgroup": "法國菜",
         "marker": {
          "color": "rgb(255,237,111)"
         },
         "name": "法國菜",
         "notched": false,
         "offsetgroup": "法國菜",
         "orientation": "v",
         "showlegend": true,
         "type": "box",
         "x": [
          "法國菜",
          "法國菜",
          "法國菜",
          "法國菜",
          "法國菜",
          "法國菜",
          "法國菜",
          "法國菜",
          "法國菜",
          "法國菜",
          "法國菜",
          "法國菜",
          "法國菜",
          "法國菜",
          "法國菜",
          "法國菜"
         ],
         "x0": " ",
         "xaxis": "x",
         "y": [
          295.5,
          320,
          1500,
          1200,
          1400,
          1000,
          1692,
          498,
          1300,
          1200,
          600,
          1388,
          316,
          100,
          100,
          100
         ],
         "y0": " ",
         "yaxis": "y"
        },
        {
         "alignmentgroup": "True",
         "hovertemplate": "Cuisine Type=%{x}<br>Price per Person (HKD)=%{y}<extra></extra>",
         "legendgroup": "火鍋",
         "marker": {
          "color": "rgb(141,211,199)"
         },
         "name": "火鍋",
         "notched": false,
         "offsetgroup": "火鍋",
         "orientation": "v",
         "showlegend": true,
         "type": "box",
         "x": [
          "火鍋",
          "火鍋",
          "火鍋",
          "火鍋",
          "火鍋",
          "火鍋",
          "火鍋",
          "火鍋",
          "火鍋",
          "火鍋",
          "火鍋",
          "火鍋",
          "火鍋",
          "火鍋",
          "火鍋",
          "火鍋",
          "火鍋",
          "火鍋",
          "火鍋",
          "火鍋",
          "火鍋",
          "火鍋",
          "火鍋",
          "火鍋",
          "火鍋",
          "火鍋",
          "火鍋",
          "火鍋",
          "火鍋",
          "火鍋",
          "火鍋",
          "火鍋",
          "火鍋",
          "火鍋",
          "火鍋",
          "火鍋",
          "火鍋",
          "火鍋",
          "火鍋",
          "火鍋",
          "火鍋",
          "火鍋",
          "火鍋",
          "火鍋",
          "火鍋",
          "火鍋",
          "火鍋",
          "火鍋",
          "火鍋",
          "火鍋",
          "火鍋",
          "火鍋",
          "火鍋"
         ],
         "x0": " ",
         "xaxis": "x",
         "y": [
          200,
          385,
          300,
          84,
          353,
          400,
          260,
          270,
          250,
          273,
          120,
          80,
          298,
          266,
          419,
          250,
          280,
          450,
          400,
          250,
          480,
          100,
          320,
          50,
          180,
          150,
          776,
          136,
          150,
          85,
          130,
          250,
          300,
          350,
          250,
          291,
          80,
          350,
          350,
          263,
          150,
          250,
          375,
          200,
          150,
          500,
          200,
          318,
          300,
          270,
          280,
          72,
          92
         ],
         "y0": " ",
         "yaxis": "y"
        },
        {
         "alignmentgroup": "True",
         "hovertemplate": "Cuisine Type=%{x}<br>Price per Person (HKD)=%{y}<extra></extra>",
         "legendgroup": "素食",
         "marker": {
          "color": "rgb(255,255,179)"
         },
         "name": "素食",
         "notched": false,
         "offsetgroup": "素食",
         "orientation": "v",
         "showlegend": true,
         "type": "box",
         "x": [
          "素食",
          "素食",
          "素食",
          "素食",
          "素食",
          "素食"
         ],
         "x0": " ",
         "xaxis": "x",
         "y": [
          130,
          220,
          250,
          94,
          154,
          300
         ],
         "y0": " ",
         "yaxis": "y"
        },
        {
         "alignmentgroup": "True",
         "hovertemplate": "Cuisine Type=%{x}<br>Price per Person (HKD)=%{y}<extra></extra>",
         "legendgroup": "甜品",
         "marker": {
          "color": "rgb(190,186,218)"
         },
         "name": "甜品",
         "notched": false,
         "offsetgroup": "甜品",
         "orientation": "v",
         "showlegend": true,
         "type": "box",
         "x": [
          "甜品"
         ],
         "x0": " ",
         "xaxis": "x",
         "y": [
          250
         ],
         "y0": " ",
         "yaxis": "y"
        }
       ],
       "layout": {
        "boxmode": "overlay",
        "font": {
         "color": "black",
         "size": 12
        },
        "height": 600,
        "legend": {
         "title": {
          "text": "Cuisine Type"
         },
         "tracegroupgap": 0
        },
        "margin": {
         "b": 100,
         "l": 50,
         "r": 50,
         "t": 100
        },
        "paper_bgcolor": "rgba(255,255,255,1)",
        "plot_bgcolor": "rgba(240,240,240,0.95)",
        "showlegend": false,
        "template": {
         "data": {
          "bar": [
           {
            "error_x": {
             "color": "#2a3f5f"
            },
            "error_y": {
             "color": "#2a3f5f"
            },
            "marker": {
             "line": {
              "color": "#E5ECF6",
              "width": 0.5
             },
             "pattern": {
              "fillmode": "overlay",
              "size": 10,
              "solidity": 0.2
             }
            },
            "type": "bar"
           }
          ],
          "barpolar": [
           {
            "marker": {
             "line": {
              "color": "#E5ECF6",
              "width": 0.5
             },
             "pattern": {
              "fillmode": "overlay",
              "size": 10,
              "solidity": 0.2
             }
            },
            "type": "barpolar"
           }
          ],
          "carpet": [
           {
            "aaxis": {
             "endlinecolor": "#2a3f5f",
             "gridcolor": "white",
             "linecolor": "white",
             "minorgridcolor": "white",
             "startlinecolor": "#2a3f5f"
            },
            "baxis": {
             "endlinecolor": "#2a3f5f",
             "gridcolor": "white",
             "linecolor": "white",
             "minorgridcolor": "white",
             "startlinecolor": "#2a3f5f"
            },
            "type": "carpet"
           }
          ],
          "choropleth": [
           {
            "colorbar": {
             "outlinewidth": 0,
             "ticks": ""
            },
            "type": "choropleth"
           }
          ],
          "contour": [
           {
            "colorbar": {
             "outlinewidth": 0,
             "ticks": ""
            },
            "colorscale": [
             [
              0,
              "#0d0887"
             ],
             [
              0.1111111111111111,
              "#46039f"
             ],
             [
              0.2222222222222222,
              "#7201a8"
             ],
             [
              0.3333333333333333,
              "#9c179e"
             ],
             [
              0.4444444444444444,
              "#bd3786"
             ],
             [
              0.5555555555555556,
              "#d8576b"
             ],
             [
              0.6666666666666666,
              "#ed7953"
             ],
             [
              0.7777777777777778,
              "#fb9f3a"
             ],
             [
              0.8888888888888888,
              "#fdca26"
             ],
             [
              1,
              "#f0f921"
             ]
            ],
            "type": "contour"
           }
          ],
          "contourcarpet": [
           {
            "colorbar": {
             "outlinewidth": 0,
             "ticks": ""
            },
            "type": "contourcarpet"
           }
          ],
          "heatmap": [
           {
            "colorbar": {
             "outlinewidth": 0,
             "ticks": ""
            },
            "colorscale": [
             [
              0,
              "#0d0887"
             ],
             [
              0.1111111111111111,
              "#46039f"
             ],
             [
              0.2222222222222222,
              "#7201a8"
             ],
             [
              0.3333333333333333,
              "#9c179e"
             ],
             [
              0.4444444444444444,
              "#bd3786"
             ],
             [
              0.5555555555555556,
              "#d8576b"
             ],
             [
              0.6666666666666666,
              "#ed7953"
             ],
             [
              0.7777777777777778,
              "#fb9f3a"
             ],
             [
              0.8888888888888888,
              "#fdca26"
             ],
             [
              1,
              "#f0f921"
             ]
            ],
            "type": "heatmap"
           }
          ],
          "heatmapgl": [
           {
            "colorbar": {
             "outlinewidth": 0,
             "ticks": ""
            },
            "colorscale": [
             [
              0,
              "#0d0887"
             ],
             [
              0.1111111111111111,
              "#46039f"
             ],
             [
              0.2222222222222222,
              "#7201a8"
             ],
             [
              0.3333333333333333,
              "#9c179e"
             ],
             [
              0.4444444444444444,
              "#bd3786"
             ],
             [
              0.5555555555555556,
              "#d8576b"
             ],
             [
              0.6666666666666666,
              "#ed7953"
             ],
             [
              0.7777777777777778,
              "#fb9f3a"
             ],
             [
              0.8888888888888888,
              "#fdca26"
             ],
             [
              1,
              "#f0f921"
             ]
            ],
            "type": "heatmapgl"
           }
          ],
          "histogram": [
           {
            "marker": {
             "pattern": {
              "fillmode": "overlay",
              "size": 10,
              "solidity": 0.2
             }
            },
            "type": "histogram"
           }
          ],
          "histogram2d": [
           {
            "colorbar": {
             "outlinewidth": 0,
             "ticks": ""
            },
            "colorscale": [
             [
              0,
              "#0d0887"
             ],
             [
              0.1111111111111111,
              "#46039f"
             ],
             [
              0.2222222222222222,
              "#7201a8"
             ],
             [
              0.3333333333333333,
              "#9c179e"
             ],
             [
              0.4444444444444444,
              "#bd3786"
             ],
             [
              0.5555555555555556,
              "#d8576b"
             ],
             [
              0.6666666666666666,
              "#ed7953"
             ],
             [
              0.7777777777777778,
              "#fb9f3a"
             ],
             [
              0.8888888888888888,
              "#fdca26"
             ],
             [
              1,
              "#f0f921"
             ]
            ],
            "type": "histogram2d"
           }
          ],
          "histogram2dcontour": [
           {
            "colorbar": {
             "outlinewidth": 0,
             "ticks": ""
            },
            "colorscale": [
             [
              0,
              "#0d0887"
             ],
             [
              0.1111111111111111,
              "#46039f"
             ],
             [
              0.2222222222222222,
              "#7201a8"
             ],
             [
              0.3333333333333333,
              "#9c179e"
             ],
             [
              0.4444444444444444,
              "#bd3786"
             ],
             [
              0.5555555555555556,
              "#d8576b"
             ],
             [
              0.6666666666666666,
              "#ed7953"
             ],
             [
              0.7777777777777778,
              "#fb9f3a"
             ],
             [
              0.8888888888888888,
              "#fdca26"
             ],
             [
              1,
              "#f0f921"
             ]
            ],
            "type": "histogram2dcontour"
           }
          ],
          "mesh3d": [
           {
            "colorbar": {
             "outlinewidth": 0,
             "ticks": ""
            },
            "type": "mesh3d"
           }
          ],
          "parcoords": [
           {
            "line": {
             "colorbar": {
              "outlinewidth": 0,
              "ticks": ""
             }
            },
            "type": "parcoords"
           }
          ],
          "pie": [
           {
            "automargin": true,
            "type": "pie"
           }
          ],
          "scatter": [
           {
            "fillpattern": {
             "fillmode": "overlay",
             "size": 10,
             "solidity": 0.2
            },
            "type": "scatter"
           }
          ],
          "scatter3d": [
           {
            "line": {
             "colorbar": {
              "outlinewidth": 0,
              "ticks": ""
             }
            },
            "marker": {
             "colorbar": {
              "outlinewidth": 0,
              "ticks": ""
             }
            },
            "type": "scatter3d"
           }
          ],
          "scattercarpet": [
           {
            "marker": {
             "colorbar": {
              "outlinewidth": 0,
              "ticks": ""
             }
            },
            "type": "scattercarpet"
           }
          ],
          "scattergeo": [
           {
            "marker": {
             "colorbar": {
              "outlinewidth": 0,
              "ticks": ""
             }
            },
            "type": "scattergeo"
           }
          ],
          "scattergl": [
           {
            "marker": {
             "colorbar": {
              "outlinewidth": 0,
              "ticks": ""
             }
            },
            "type": "scattergl"
           }
          ],
          "scattermapbox": [
           {
            "marker": {
             "colorbar": {
              "outlinewidth": 0,
              "ticks": ""
             }
            },
            "type": "scattermapbox"
           }
          ],
          "scatterpolar": [
           {
            "marker": {
             "colorbar": {
              "outlinewidth": 0,
              "ticks": ""
             }
            },
            "type": "scatterpolar"
           }
          ],
          "scatterpolargl": [
           {
            "marker": {
             "colorbar": {
              "outlinewidth": 0,
              "ticks": ""
             }
            },
            "type": "scatterpolargl"
           }
          ],
          "scatterternary": [
           {
            "marker": {
             "colorbar": {
              "outlinewidth": 0,
              "ticks": ""
             }
            },
            "type": "scatterternary"
           }
          ],
          "surface": [
           {
            "colorbar": {
             "outlinewidth": 0,
             "ticks": ""
            },
            "colorscale": [
             [
              0,
              "#0d0887"
             ],
             [
              0.1111111111111111,
              "#46039f"
             ],
             [
              0.2222222222222222,
              "#7201a8"
             ],
             [
              0.3333333333333333,
              "#9c179e"
             ],
             [
              0.4444444444444444,
              "#bd3786"
             ],
             [
              0.5555555555555556,
              "#d8576b"
             ],
             [
              0.6666666666666666,
              "#ed7953"
             ],
             [
              0.7777777777777778,
              "#fb9f3a"
             ],
             [
              0.8888888888888888,
              "#fdca26"
             ],
             [
              1,
              "#f0f921"
             ]
            ],
            "type": "surface"
           }
          ],
          "table": [
           {
            "cells": {
             "fill": {
              "color": "#EBF0F8"
             },
             "line": {
              "color": "white"
             }
            },
            "header": {
             "fill": {
              "color": "#C8D4E3"
             },
             "line": {
              "color": "white"
             }
            },
            "type": "table"
           }
          ]
         },
         "layout": {
          "annotationdefaults": {
           "arrowcolor": "#2a3f5f",
           "arrowhead": 0,
           "arrowwidth": 1
          },
          "autotypenumbers": "strict",
          "coloraxis": {
           "colorbar": {
            "outlinewidth": 0,
            "ticks": ""
           }
          },
          "colorscale": {
           "diverging": [
            [
             0,
             "#8e0152"
            ],
            [
             0.1,
             "#c51b7d"
            ],
            [
             0.2,
             "#de77ae"
            ],
            [
             0.3,
             "#f1b6da"
            ],
            [
             0.4,
             "#fde0ef"
            ],
            [
             0.5,
             "#f7f7f7"
            ],
            [
             0.6,
             "#e6f5d0"
            ],
            [
             0.7,
             "#b8e186"
            ],
            [
             0.8,
             "#7fbc41"
            ],
            [
             0.9,
             "#4d9221"
            ],
            [
             1,
             "#276419"
            ]
           ],
           "sequential": [
            [
             0,
             "#0d0887"
            ],
            [
             0.1111111111111111,
             "#46039f"
            ],
            [
             0.2222222222222222,
             "#7201a8"
            ],
            [
             0.3333333333333333,
             "#9c179e"
            ],
            [
             0.4444444444444444,
             "#bd3786"
            ],
            [
             0.5555555555555556,
             "#d8576b"
            ],
            [
             0.6666666666666666,
             "#ed7953"
            ],
            [
             0.7777777777777778,
             "#fb9f3a"
            ],
            [
             0.8888888888888888,
             "#fdca26"
            ],
            [
             1,
             "#f0f921"
            ]
           ],
           "sequentialminus": [
            [
             0,
             "#0d0887"
            ],
            [
             0.1111111111111111,
             "#46039f"
            ],
            [
             0.2222222222222222,
             "#7201a8"
            ],
            [
             0.3333333333333333,
             "#9c179e"
            ],
            [
             0.4444444444444444,
             "#bd3786"
            ],
            [
             0.5555555555555556,
             "#d8576b"
            ],
            [
             0.6666666666666666,
             "#ed7953"
            ],
            [
             0.7777777777777778,
             "#fb9f3a"
            ],
            [
             0.8888888888888888,
             "#fdca26"
            ],
            [
             1,
             "#f0f921"
            ]
           ]
          },
          "colorway": [
           "#636efa",
           "#EF553B",
           "#00cc96",
           "#ab63fa",
           "#FFA15A",
           "#19d3f3",
           "#FF6692",
           "#B6E880",
           "#FF97FF",
           "#FECB52"
          ],
          "font": {
           "color": "#2a3f5f"
          },
          "geo": {
           "bgcolor": "white",
           "lakecolor": "white",
           "landcolor": "#E5ECF6",
           "showlakes": true,
           "showland": true,
           "subunitcolor": "white"
          },
          "hoverlabel": {
           "align": "left"
          },
          "hovermode": "closest",
          "mapbox": {
           "style": "light"
          },
          "paper_bgcolor": "white",
          "plot_bgcolor": "#E5ECF6",
          "polar": {
           "angularaxis": {
            "gridcolor": "white",
            "linecolor": "white",
            "ticks": ""
           },
           "bgcolor": "#E5ECF6",
           "radialaxis": {
            "gridcolor": "white",
            "linecolor": "white",
            "ticks": ""
           }
          },
          "scene": {
           "xaxis": {
            "backgroundcolor": "#E5ECF6",
            "gridcolor": "white",
            "gridwidth": 2,
            "linecolor": "white",
            "showbackground": true,
            "ticks": "",
            "zerolinecolor": "white"
           },
           "yaxis": {
            "backgroundcolor": "#E5ECF6",
            "gridcolor": "white",
            "gridwidth": 2,
            "linecolor": "white",
            "showbackground": true,
            "ticks": "",
            "zerolinecolor": "white"
           },
           "zaxis": {
            "backgroundcolor": "#E5ECF6",
            "gridcolor": "white",
            "gridwidth": 2,
            "linecolor": "white",
            "showbackground": true,
            "ticks": "",
            "zerolinecolor": "white"
           }
          },
          "shapedefaults": {
           "line": {
            "color": "#2a3f5f"
           }
          },
          "ternary": {
           "aaxis": {
            "gridcolor": "white",
            "linecolor": "white",
            "ticks": ""
           },
           "baxis": {
            "gridcolor": "white",
            "linecolor": "white",
            "ticks": ""
           },
           "bgcolor": "#E5ECF6",
           "caxis": {
            "gridcolor": "white",
            "linecolor": "white",
            "ticks": ""
           }
          },
          "title": {
           "x": 0.05
          },
          "xaxis": {
           "automargin": true,
           "gridcolor": "white",
           "linecolor": "white",
           "ticks": "",
           "title": {
            "standoff": 15
           },
           "zerolinecolor": "white",
           "zerolinewidth": 2
          },
          "yaxis": {
           "automargin": true,
           "gridcolor": "white",
           "linecolor": "white",
           "ticks": "",
           "title": {
            "standoff": 15
           },
           "zerolinecolor": "white",
           "zerolinewidth": 2
          }
         }
        },
        "title": {
         "text": "Price Distribution by Cuisine Type"
        },
        "xaxis": {
         "anchor": "y",
         "categoryarray": [
          "西式",
          "泰國菜",
          "日本菜",
          "中菜",
          "Other",
          "咖啡",
          "台灣菜",
          "自助餐",
          "港式",
          "韓國菜",
          "越南菜",
          "法國菜",
          "火鍋",
          "素食",
          "甜品"
         ],
         "categoryorder": "array",
         "domain": [
          0,
          1
         ],
         "gridcolor": "lightgray",
         "gridwidth": 1,
         "showgrid": true,
         "tickangle": 45,
         "title": {
          "text": "Cuisine Type"
         }
        },
        "yaxis": {
         "anchor": "x",
         "domain": [
          0,
          1
         ],
         "gridcolor": "lightgray",
         "gridwidth": 1,
         "showgrid": true,
         "title": {
          "text": "Price per Person (HKD)"
         }
        }
       }
      }
     },
     "metadata": {},
     "output_type": "display_data"
    }
   ],
   "source": [
    "# Read and clean the data\n",
    "df['comment_price_per_person'] = pd.to_numeric(df['comment_price_per_person'], errors='coerce')\n",
    "df = df[df['comment_price_per_person'] < 10000]\n",
    "\n",
    "# Apply categorization\n",
    "df['cuisine_category'] = df['restaurant_cuisine_type'].apply(categorize_cuisine)\n",
    "\n",
    "# Create interactive boxplot with plotly\n",
    "fig = px.box(df, \n",
    "             x='cuisine_category', \n",
    "             y='comment_price_per_person',\n",
    "             title='Price Distribution by Cuisine Type',\n",
    "             labels={'cuisine_category': 'Cuisine Type',\n",
    "                    'comment_price_per_person': 'Price per Person (HKD)'},\n",
    "             height=600,\n",
    "             color='cuisine_category',\n",
    "             color_discrete_sequence=px.colors.qualitative.Set3)\n",
    "\n",
    "# Update layout for a fancier look\n",
    "fig.update_layout(\n",
    "    showlegend=False,\n",
    "    xaxis_tickangle=45,\n",
    "    margin=dict(t=100, l=50, r=50, b=100),\n",
    "    plot_bgcolor='rgba(240,240,240,0.95)',\n",
    "    paper_bgcolor='rgba(255,255,255,1)',\n",
    "    font=dict(size=12, color='black')\n",
    ")\n",
    "\n",
    "# Add gridlines and hover effects\n",
    "fig.update_xaxes(showgrid=True, gridwidth=1, gridcolor='lightgray')\n",
    "fig.update_yaxes(showgrid=True, gridwidth=1, gridcolor='lightgray')\n",
    "\n",
    "# Show the plot\n",
    "fig.show()\n"
   ]
  },
  {
   "cell_type": "code",
   "execution_count": 7,
   "metadata": {},
   "outputs": [
    {
     "data": {
      "text/html": [
       "<div>\n",
       "<style scoped>\n",
       "    .dataframe tbody tr th:only-of-type {\n",
       "        vertical-align: middle;\n",
       "    }\n",
       "\n",
       "    .dataframe tbody tr th {\n",
       "        vertical-align: top;\n",
       "    }\n",
       "\n",
       "    .dataframe thead th {\n",
       "        text-align: right;\n",
       "    }\n",
       "</style>\n",
       "<table border=\"1\" class=\"dataframe\">\n",
       "  <thead>\n",
       "    <tr style=\"text-align: right;\">\n",
       "      <th></th>\n",
       "      <th>Column1</th>\n",
       "      <th>scraping_status</th>\n",
       "      <th>restaurant_name</th>\n",
       "      <th>restaurant_link</th>\n",
       "      <th>restaurant_comment_page_link</th>\n",
       "      <th>restaurant_overall_rating</th>\n",
       "      <th>restaurant_cuisine_type</th>\n",
       "      <th>restaurant_price_range</th>\n",
       "      <th>restaurant_smiley_smile</th>\n",
       "      <th>restaurant_smiley_ok</th>\n",
       "      <th>...</th>\n",
       "      <th>comment_service_star</th>\n",
       "      <th>comment_hygiene_star</th>\n",
       "      <th>comment_fair_price_star</th>\n",
       "      <th>comment_dining_date</th>\n",
       "      <th>comment_dining_time</th>\n",
       "      <th>comment_dining_way</th>\n",
       "      <th>comment_price_per_person</th>\n",
       "      <th>comment_recommended_dishes</th>\n",
       "      <th>comment_text_with_emoji</th>\n",
       "      <th>cuisine_category</th>\n",
       "    </tr>\n",
       "  </thead>\n",
       "  <tbody>\n",
       "    <tr>\n",
       "      <th>0</th>\n",
       "      <td>0</td>\n",
       "      <td>Failed, need to re-scrape the page</td>\n",
       "      <td>NaN</td>\n",
       "      <td>https://www.openrice.com//zh/hongkong/r-taylor...</td>\n",
       "      <td>https://www.openrice.com//zh/hongkong/r-taylor...</td>\n",
       "      <td>NaN</td>\n",
       "      <td>NaN</td>\n",
       "      <td>NaN</td>\n",
       "      <td>NaN</td>\n",
       "      <td>NaN</td>\n",
       "      <td>...</td>\n",
       "      <td>NaN</td>\n",
       "      <td>NaN</td>\n",
       "      <td>NaN</td>\n",
       "      <td>NaN</td>\n",
       "      <td>NaN</td>\n",
       "      <td>NaN</td>\n",
       "      <td>NaN</td>\n",
       "      <td>NaN</td>\n",
       "      <td>NaN</td>\n",
       "      <td>Other</td>\n",
       "    </tr>\n",
       "    <tr>\n",
       "      <th>1</th>\n",
       "      <td>1</td>\n",
       "      <td>Success</td>\n",
       "      <td>Taylor Shellfish Farms (高街)</td>\n",
       "      <td>https://www.openrice.com//zh/hongkong/r-taylor...</td>\n",
       "      <td>https://www.openrice.com//zh/hongkong/r-taylor...</td>\n",
       "      <td>4.5</td>\n",
       "      <td>多國菜海鮮蠔吧</td>\n",
       "      <td>$201-400</td>\n",
       "      <td>109.0</td>\n",
       "      <td>12.0</td>\n",
       "      <td>...</td>\n",
       "      <td>5.0</td>\n",
       "      <td>5.0</td>\n",
       "      <td>4.0</td>\n",
       "      <td>3/6/2023 0:00</td>\n",
       "      <td>NaN</td>\n",
       "      <td>堂食</td>\n",
       "      <td>NaN</td>\n",
       "      <td>生蠔\\nSeafood  Stew</td>\n",
       "      <td>坐咗喺户外區，雖然今日3幾度，但有部大風扇吹住，感覺都ok，貪佢户外有幅植物牆，又人少少，都...</td>\n",
       "      <td>Other</td>\n",
       "    </tr>\n",
       "    <tr>\n",
       "      <th>2</th>\n",
       "      <td>2</td>\n",
       "      <td>Success</td>\n",
       "      <td>Taylor Shellfish Farms (高街)</td>\n",
       "      <td>https://www.openrice.com//zh/hongkong/r-taylor...</td>\n",
       "      <td>https://www.openrice.com//zh/hongkong/r-taylor...</td>\n",
       "      <td>4.5</td>\n",
       "      <td>多國菜海鮮蠔吧</td>\n",
       "      <td>$201-400</td>\n",
       "      <td>109.0</td>\n",
       "      <td>12.0</td>\n",
       "      <td>...</td>\n",
       "      <td>5.0</td>\n",
       "      <td>5.0</td>\n",
       "      <td>4.0</td>\n",
       "      <td>3/6/2023 0:00</td>\n",
       "      <td>晚餐</td>\n",
       "      <td>堂食</td>\n",
       "      <td>300.0</td>\n",
       "      <td>Seafood  Stew</td>\n",
       "      <td>今日朋友生日，第一次book位試呢間海鮮餐廳，一嚟到發現侍應貼心咁咗門口露天同餐廳最入較靜位...</td>\n",
       "      <td>Other</td>\n",
       "    </tr>\n",
       "    <tr>\n",
       "      <th>3</th>\n",
       "      <td>3</td>\n",
       "      <td>Success</td>\n",
       "      <td>Taylor Shellfish Farms (高街)</td>\n",
       "      <td>https://www.openrice.com//zh/hongkong/r-taylor...</td>\n",
       "      <td>https://www.openrice.com//zh/hongkong/r-taylor...</td>\n",
       "      <td>4.5</td>\n",
       "      <td>多國菜海鮮蠔吧</td>\n",
       "      <td>$201-400</td>\n",
       "      <td>109.0</td>\n",
       "      <td>12.0</td>\n",
       "      <td>...</td>\n",
       "      <td>5.0</td>\n",
       "      <td>5.0</td>\n",
       "      <td>4.0</td>\n",
       "      <td>3/6/2023 0:00</td>\n",
       "      <td>晚餐</td>\n",
       "      <td>堂食</td>\n",
       "      <td>400.0</td>\n",
       "      <td>Oysters\\nSeafood  Stew</td>\n",
       "      <td>見到呢間餐廳已經一段時間，有次睇到介紹原來呢度嘅蠔都出名～仲有自家製嘅蠔場，所以訂咗位嚟試吓...</td>\n",
       "      <td>Other</td>\n",
       "    </tr>\n",
       "    <tr>\n",
       "      <th>4</th>\n",
       "      <td>4</td>\n",
       "      <td>Success</td>\n",
       "      <td>Taylor Shellfish Farms (高街)</td>\n",
       "      <td>https://www.openrice.com//zh/hongkong/r-taylor...</td>\n",
       "      <td>https://www.openrice.com//zh/hongkong/r-taylor...</td>\n",
       "      <td>4.5</td>\n",
       "      <td>多國菜海鮮蠔吧</td>\n",
       "      <td>$201-400</td>\n",
       "      <td>109.0</td>\n",
       "      <td>12.0</td>\n",
       "      <td>...</td>\n",
       "      <td>5.0</td>\n",
       "      <td>4.0</td>\n",
       "      <td>2.0</td>\n",
       "      <td>NaN</td>\n",
       "      <td>NaN</td>\n",
       "      <td>堂食</td>\n",
       "      <td>NaN</td>\n",
       "      <td>NaN</td>\n",
       "      <td>嚟呢度食慶生飯，完全係睇網上介紹惹來嘅，位置到有少少難去，不過彩都搵到。因為大家都鍾意食海鮮...</td>\n",
       "      <td>Other</td>\n",
       "    </tr>\n",
       "  </tbody>\n",
       "</table>\n",
       "<p>5 rows × 28 columns</p>\n",
       "</div>"
      ],
      "text/plain": [
       "   Column1                     scraping_status              restaurant_name  \\\n",
       "0        0  Failed, need to re-scrape the page                          NaN   \n",
       "1        1                             Success  Taylor Shellfish Farms (高街)   \n",
       "2        2                             Success  Taylor Shellfish Farms (高街)   \n",
       "3        3                             Success  Taylor Shellfish Farms (高街)   \n",
       "4        4                             Success  Taylor Shellfish Farms (高街)   \n",
       "\n",
       "                                     restaurant_link  \\\n",
       "0  https://www.openrice.com//zh/hongkong/r-taylor...   \n",
       "1  https://www.openrice.com//zh/hongkong/r-taylor...   \n",
       "2  https://www.openrice.com//zh/hongkong/r-taylor...   \n",
       "3  https://www.openrice.com//zh/hongkong/r-taylor...   \n",
       "4  https://www.openrice.com//zh/hongkong/r-taylor...   \n",
       "\n",
       "                        restaurant_comment_page_link  \\\n",
       "0  https://www.openrice.com//zh/hongkong/r-taylor...   \n",
       "1  https://www.openrice.com//zh/hongkong/r-taylor...   \n",
       "2  https://www.openrice.com//zh/hongkong/r-taylor...   \n",
       "3  https://www.openrice.com//zh/hongkong/r-taylor...   \n",
       "4  https://www.openrice.com//zh/hongkong/r-taylor...   \n",
       "\n",
       "   restaurant_overall_rating restaurant_cuisine_type restaurant_price_range  \\\n",
       "0                        NaN                     NaN                    NaN   \n",
       "1                        4.5                 多國菜海鮮蠔吧               $201-400   \n",
       "2                        4.5                 多國菜海鮮蠔吧               $201-400   \n",
       "3                        4.5                 多國菜海鮮蠔吧               $201-400   \n",
       "4                        4.5                 多國菜海鮮蠔吧               $201-400   \n",
       "\n",
       "   restaurant_smiley_smile  restaurant_smiley_ok  ...  comment_service_star  \\\n",
       "0                      NaN                   NaN  ...                   NaN   \n",
       "1                    109.0                  12.0  ...                   5.0   \n",
       "2                    109.0                  12.0  ...                   5.0   \n",
       "3                    109.0                  12.0  ...                   5.0   \n",
       "4                    109.0                  12.0  ...                   5.0   \n",
       "\n",
       "  comment_hygiene_star  comment_fair_price_star comment_dining_date  \\\n",
       "0                  NaN                      NaN                 NaN   \n",
       "1                  5.0                      4.0       3/6/2023 0:00   \n",
       "2                  5.0                      4.0       3/6/2023 0:00   \n",
       "3                  5.0                      4.0       3/6/2023 0:00   \n",
       "4                  4.0                      2.0                 NaN   \n",
       "\n",
       "  comment_dining_time  comment_dining_way  comment_price_per_person  \\\n",
       "0                 NaN                 NaN                       NaN   \n",
       "1                 NaN                  堂食                       NaN   \n",
       "2                  晚餐                  堂食                     300.0   \n",
       "3                  晚餐                  堂食                     400.0   \n",
       "4                 NaN                  堂食                       NaN   \n",
       "\n",
       "   comment_recommended_dishes  \\\n",
       "0                         NaN   \n",
       "1           生蠔\\nSeafood  Stew   \n",
       "2               Seafood  Stew   \n",
       "3      Oysters\\nSeafood  Stew   \n",
       "4                         NaN   \n",
       "\n",
       "                             comment_text_with_emoji  cuisine_category  \n",
       "0                                                NaN             Other  \n",
       "1  坐咗喺户外區，雖然今日3幾度，但有部大風扇吹住，感覺都ok，貪佢户外有幅植物牆，又人少少，都...             Other  \n",
       "2  今日朋友生日，第一次book位試呢間海鮮餐廳，一嚟到發現侍應貼心咁咗門口露天同餐廳最入較靜位...             Other  \n",
       "3  見到呢間餐廳已經一段時間，有次睇到介紹原來呢度嘅蠔都出名～仲有自家製嘅蠔場，所以訂咗位嚟試吓...             Other  \n",
       "4  嚟呢度食慶生飯，完全係睇網上介紹惹來嘅，位置到有少少難去，不過彩都搵到。因為大家都鍾意食海鮮...             Other  \n",
       "\n",
       "[5 rows x 28 columns]"
      ]
     },
     "execution_count": 7,
     "metadata": {},
     "output_type": "execute_result"
    }
   ],
   "source": [
    "# Apply categorization to create the 'cuisine_category' column\n",
    "df['cuisine_category'] = df['restaurant_cuisine_type'].apply(categorize_cuisine)\n",
    "\n",
    "# Display the first few rows to verify the new column\n",
    "df.head()\n"
   ]
  },
  {
   "cell_type": "code",
   "execution_count": null,
   "metadata": {},
   "outputs": [
    {
     "data": {
      "application/vnd.plotly.v1+json": {
       "config": {
        "plotlyServerURL": "https://plot.ly"
       },
       "data": [
        {
         "alignmentgroup": "True",
         "hovertemplate": "Reaction Type=restaurant_smiley_smile<br>main_cuisine_category=%{x}<br>Total Count=%{y}<extra></extra>",
         "legendgroup": "restaurant_smiley_smile",
         "marker": {
          "color": "#3CB371",
          "pattern": {
           "shape": ""
          }
         },
         "name": "restaurant_smiley_smile",
         "offsetgroup": "restaurant_smiley_smile",
         "orientation": "v",
         "showlegend": true,
         "textposition": "auto",
         "type": "bar",
         "x": [
          "西式",
          "日本菜",
          "港式",
          "中菜",
          "Other",
          "韓國菜",
          "泰國菜",
          "火鍋",
          "台灣菜",
          "咖啡",
          "越南菜",
          "自助餐",
          "法國菜",
          "素食",
          "甜品"
         ],
         "xaxis": "x",
         "y": [
          192668,
          167820,
          134006,
          64091,
          67394,
          46543,
          45753,
          36352,
          30363,
          15652,
          11538,
          6904,
          5827,
          3847,
          313
         ],
         "yaxis": "y"
        },
        {
         "alignmentgroup": "True",
         "hovertemplate": "Reaction Type=restaurant_smiley_ok<br>main_cuisine_category=%{x}<br>Total Count=%{y}<extra></extra>",
         "legendgroup": "restaurant_smiley_ok",
         "marker": {
          "color": "#FFD700",
          "pattern": {
           "shape": ""
          }
         },
         "name": "restaurant_smiley_ok",
         "offsetgroup": "restaurant_smiley_ok",
         "orientation": "v",
         "showlegend": true,
         "textposition": "auto",
         "type": "bar",
         "x": [
          "西式",
          "日本菜",
          "港式",
          "中菜",
          "Other",
          "韓國菜",
          "泰國菜",
          "火鍋",
          "台灣菜",
          "咖啡",
          "越南菜",
          "自助餐",
          "法國菜",
          "素食",
          "甜品"
         ],
         "xaxis": "x",
         "y": [
          23503,
          15444,
          20991,
          10168,
          7455,
          3894,
          4580,
          2516,
          3676,
          1439,
          1412,
          1910,
          777,
          371,
          53
         ],
         "yaxis": "y"
        },
        {
         "alignmentgroup": "True",
         "hovertemplate": "Reaction Type=restaurant_smiley_cry<br>main_cuisine_category=%{x}<br>Total Count=%{y}<extra></extra>",
         "legendgroup": "restaurant_smiley_cry",
         "marker": {
          "color": "#FF6B6B",
          "pattern": {
           "shape": ""
          }
         },
         "name": "restaurant_smiley_cry",
         "offsetgroup": "restaurant_smiley_cry",
         "orientation": "v",
         "showlegend": true,
         "textposition": "auto",
         "type": "bar",
         "x": [
          "西式",
          "日本菜",
          "港式",
          "中菜",
          "Other",
          "韓國菜",
          "泰國菜",
          "火鍋",
          "台灣菜",
          "咖啡",
          "越南菜",
          "自助餐",
          "法國菜",
          "素食",
          "甜品"
         ],
         "xaxis": "x",
         "y": [
          10180,
          6986,
          10216,
          5782,
          3295,
          2286,
          2345,
          1731,
          1672,
          477,
          723,
          1099,
          275,
          116,
          14
         ],
         "yaxis": "y"
        }
       ],
       "layout": {
        "barmode": "stack",
        "height": 700,
        "legend": {
         "orientation": "h",
         "title": {
          "text": "Reaction Type"
         },
         "tracegroupgap": 0,
         "x": 1,
         "xanchor": "right",
         "y": 1.02,
         "yanchor": "bottom"
        },
        "margin": {
         "b": 150
        },
        "showlegend": true,
        "template": {
         "data": {
          "bar": [
           {
            "error_x": {
             "color": "#2a3f5f"
            },
            "error_y": {
             "color": "#2a3f5f"
            },
            "marker": {
             "line": {
              "color": "white",
              "width": 0.5
             },
             "pattern": {
              "fillmode": "overlay",
              "size": 10,
              "solidity": 0.2
             }
            },
            "type": "bar"
           }
          ],
          "barpolar": [
           {
            "marker": {
             "line": {
              "color": "white",
              "width": 0.5
             },
             "pattern": {
              "fillmode": "overlay",
              "size": 10,
              "solidity": 0.2
             }
            },
            "type": "barpolar"
           }
          ],
          "carpet": [
           {
            "aaxis": {
             "endlinecolor": "#2a3f5f",
             "gridcolor": "#C8D4E3",
             "linecolor": "#C8D4E3",
             "minorgridcolor": "#C8D4E3",
             "startlinecolor": "#2a3f5f"
            },
            "baxis": {
             "endlinecolor": "#2a3f5f",
             "gridcolor": "#C8D4E3",
             "linecolor": "#C8D4E3",
             "minorgridcolor": "#C8D4E3",
             "startlinecolor": "#2a3f5f"
            },
            "type": "carpet"
           }
          ],
          "choropleth": [
           {
            "colorbar": {
             "outlinewidth": 0,
             "ticks": ""
            },
            "type": "choropleth"
           }
          ],
          "contour": [
           {
            "colorbar": {
             "outlinewidth": 0,
             "ticks": ""
            },
            "colorscale": [
             [
              0,
              "#0d0887"
             ],
             [
              0.1111111111111111,
              "#46039f"
             ],
             [
              0.2222222222222222,
              "#7201a8"
             ],
             [
              0.3333333333333333,
              "#9c179e"
             ],
             [
              0.4444444444444444,
              "#bd3786"
             ],
             [
              0.5555555555555556,
              "#d8576b"
             ],
             [
              0.6666666666666666,
              "#ed7953"
             ],
             [
              0.7777777777777778,
              "#fb9f3a"
             ],
             [
              0.8888888888888888,
              "#fdca26"
             ],
             [
              1,
              "#f0f921"
             ]
            ],
            "type": "contour"
           }
          ],
          "contourcarpet": [
           {
            "colorbar": {
             "outlinewidth": 0,
             "ticks": ""
            },
            "type": "contourcarpet"
           }
          ],
          "heatmap": [
           {
            "colorbar": {
             "outlinewidth": 0,
             "ticks": ""
            },
            "colorscale": [
             [
              0,
              "#0d0887"
             ],
             [
              0.1111111111111111,
              "#46039f"
             ],
             [
              0.2222222222222222,
              "#7201a8"
             ],
             [
              0.3333333333333333,
              "#9c179e"
             ],
             [
              0.4444444444444444,
              "#bd3786"
             ],
             [
              0.5555555555555556,
              "#d8576b"
             ],
             [
              0.6666666666666666,
              "#ed7953"
             ],
             [
              0.7777777777777778,
              "#fb9f3a"
             ],
             [
              0.8888888888888888,
              "#fdca26"
             ],
             [
              1,
              "#f0f921"
             ]
            ],
            "type": "heatmap"
           }
          ],
          "heatmapgl": [
           {
            "colorbar": {
             "outlinewidth": 0,
             "ticks": ""
            },
            "colorscale": [
             [
              0,
              "#0d0887"
             ],
             [
              0.1111111111111111,
              "#46039f"
             ],
             [
              0.2222222222222222,
              "#7201a8"
             ],
             [
              0.3333333333333333,
              "#9c179e"
             ],
             [
              0.4444444444444444,
              "#bd3786"
             ],
             [
              0.5555555555555556,
              "#d8576b"
             ],
             [
              0.6666666666666666,
              "#ed7953"
             ],
             [
              0.7777777777777778,
              "#fb9f3a"
             ],
             [
              0.8888888888888888,
              "#fdca26"
             ],
             [
              1,
              "#f0f921"
             ]
            ],
            "type": "heatmapgl"
           }
          ],
          "histogram": [
           {
            "marker": {
             "pattern": {
              "fillmode": "overlay",
              "size": 10,
              "solidity": 0.2
             }
            },
            "type": "histogram"
           }
          ],
          "histogram2d": [
           {
            "colorbar": {
             "outlinewidth": 0,
             "ticks": ""
            },
            "colorscale": [
             [
              0,
              "#0d0887"
             ],
             [
              0.1111111111111111,
              "#46039f"
             ],
             [
              0.2222222222222222,
              "#7201a8"
             ],
             [
              0.3333333333333333,
              "#9c179e"
             ],
             [
              0.4444444444444444,
              "#bd3786"
             ],
             [
              0.5555555555555556,
              "#d8576b"
             ],
             [
              0.6666666666666666,
              "#ed7953"
             ],
             [
              0.7777777777777778,
              "#fb9f3a"
             ],
             [
              0.8888888888888888,
              "#fdca26"
             ],
             [
              1,
              "#f0f921"
             ]
            ],
            "type": "histogram2d"
           }
          ],
          "histogram2dcontour": [
           {
            "colorbar": {
             "outlinewidth": 0,
             "ticks": ""
            },
            "colorscale": [
             [
              0,
              "#0d0887"
             ],
             [
              0.1111111111111111,
              "#46039f"
             ],
             [
              0.2222222222222222,
              "#7201a8"
             ],
             [
              0.3333333333333333,
              "#9c179e"
             ],
             [
              0.4444444444444444,
              "#bd3786"
             ],
             [
              0.5555555555555556,
              "#d8576b"
             ],
             [
              0.6666666666666666,
              "#ed7953"
             ],
             [
              0.7777777777777778,
              "#fb9f3a"
             ],
             [
              0.8888888888888888,
              "#fdca26"
             ],
             [
              1,
              "#f0f921"
             ]
            ],
            "type": "histogram2dcontour"
           }
          ],
          "mesh3d": [
           {
            "colorbar": {
             "outlinewidth": 0,
             "ticks": ""
            },
            "type": "mesh3d"
           }
          ],
          "parcoords": [
           {
            "line": {
             "colorbar": {
              "outlinewidth": 0,
              "ticks": ""
             }
            },
            "type": "parcoords"
           }
          ],
          "pie": [
           {
            "automargin": true,
            "type": "pie"
           }
          ],
          "scatter": [
           {
            "fillpattern": {
             "fillmode": "overlay",
             "size": 10,
             "solidity": 0.2
            },
            "type": "scatter"
           }
          ],
          "scatter3d": [
           {
            "line": {
             "colorbar": {
              "outlinewidth": 0,
              "ticks": ""
             }
            },
            "marker": {
             "colorbar": {
              "outlinewidth": 0,
              "ticks": ""
             }
            },
            "type": "scatter3d"
           }
          ],
          "scattercarpet": [
           {
            "marker": {
             "colorbar": {
              "outlinewidth": 0,
              "ticks": ""
             }
            },
            "type": "scattercarpet"
           }
          ],
          "scattergeo": [
           {
            "marker": {
             "colorbar": {
              "outlinewidth": 0,
              "ticks": ""
             }
            },
            "type": "scattergeo"
           }
          ],
          "scattergl": [
           {
            "marker": {
             "colorbar": {
              "outlinewidth": 0,
              "ticks": ""
             }
            },
            "type": "scattergl"
           }
          ],
          "scattermapbox": [
           {
            "marker": {
             "colorbar": {
              "outlinewidth": 0,
              "ticks": ""
             }
            },
            "type": "scattermapbox"
           }
          ],
          "scatterpolar": [
           {
            "marker": {
             "colorbar": {
              "outlinewidth": 0,
              "ticks": ""
             }
            },
            "type": "scatterpolar"
           }
          ],
          "scatterpolargl": [
           {
            "marker": {
             "colorbar": {
              "outlinewidth": 0,
              "ticks": ""
             }
            },
            "type": "scatterpolargl"
           }
          ],
          "scatterternary": [
           {
            "marker": {
             "colorbar": {
              "outlinewidth": 0,
              "ticks": ""
             }
            },
            "type": "scatterternary"
           }
          ],
          "surface": [
           {
            "colorbar": {
             "outlinewidth": 0,
             "ticks": ""
            },
            "colorscale": [
             [
              0,
              "#0d0887"
             ],
             [
              0.1111111111111111,
              "#46039f"
             ],
             [
              0.2222222222222222,
              "#7201a8"
             ],
             [
              0.3333333333333333,
              "#9c179e"
             ],
             [
              0.4444444444444444,
              "#bd3786"
             ],
             [
              0.5555555555555556,
              "#d8576b"
             ],
             [
              0.6666666666666666,
              "#ed7953"
             ],
             [
              0.7777777777777778,
              "#fb9f3a"
             ],
             [
              0.8888888888888888,
              "#fdca26"
             ],
             [
              1,
              "#f0f921"
             ]
            ],
            "type": "surface"
           }
          ],
          "table": [
           {
            "cells": {
             "fill": {
              "color": "#EBF0F8"
             },
             "line": {
              "color": "white"
             }
            },
            "header": {
             "fill": {
              "color": "#C8D4E3"
             },
             "line": {
              "color": "white"
             }
            },
            "type": "table"
           }
          ]
         },
         "layout": {
          "annotationdefaults": {
           "arrowcolor": "#2a3f5f",
           "arrowhead": 0,
           "arrowwidth": 1
          },
          "autotypenumbers": "strict",
          "coloraxis": {
           "colorbar": {
            "outlinewidth": 0,
            "ticks": ""
           }
          },
          "colorscale": {
           "diverging": [
            [
             0,
             "#8e0152"
            ],
            [
             0.1,
             "#c51b7d"
            ],
            [
             0.2,
             "#de77ae"
            ],
            [
             0.3,
             "#f1b6da"
            ],
            [
             0.4,
             "#fde0ef"
            ],
            [
             0.5,
             "#f7f7f7"
            ],
            [
             0.6,
             "#e6f5d0"
            ],
            [
             0.7,
             "#b8e186"
            ],
            [
             0.8,
             "#7fbc41"
            ],
            [
             0.9,
             "#4d9221"
            ],
            [
             1,
             "#276419"
            ]
           ],
           "sequential": [
            [
             0,
             "#0d0887"
            ],
            [
             0.1111111111111111,
             "#46039f"
            ],
            [
             0.2222222222222222,
             "#7201a8"
            ],
            [
             0.3333333333333333,
             "#9c179e"
            ],
            [
             0.4444444444444444,
             "#bd3786"
            ],
            [
             0.5555555555555556,
             "#d8576b"
            ],
            [
             0.6666666666666666,
             "#ed7953"
            ],
            [
             0.7777777777777778,
             "#fb9f3a"
            ],
            [
             0.8888888888888888,
             "#fdca26"
            ],
            [
             1,
             "#f0f921"
            ]
           ],
           "sequentialminus": [
            [
             0,
             "#0d0887"
            ],
            [
             0.1111111111111111,
             "#46039f"
            ],
            [
             0.2222222222222222,
             "#7201a8"
            ],
            [
             0.3333333333333333,
             "#9c179e"
            ],
            [
             0.4444444444444444,
             "#bd3786"
            ],
            [
             0.5555555555555556,
             "#d8576b"
            ],
            [
             0.6666666666666666,
             "#ed7953"
            ],
            [
             0.7777777777777778,
             "#fb9f3a"
            ],
            [
             0.8888888888888888,
             "#fdca26"
            ],
            [
             1,
             "#f0f921"
            ]
           ]
          },
          "colorway": [
           "#636efa",
           "#EF553B",
           "#00cc96",
           "#ab63fa",
           "#FFA15A",
           "#19d3f3",
           "#FF6692",
           "#B6E880",
           "#FF97FF",
           "#FECB52"
          ],
          "font": {
           "color": "#2a3f5f"
          },
          "geo": {
           "bgcolor": "white",
           "lakecolor": "white",
           "landcolor": "white",
           "showlakes": true,
           "showland": true,
           "subunitcolor": "#C8D4E3"
          },
          "hoverlabel": {
           "align": "left"
          },
          "hovermode": "closest",
          "mapbox": {
           "style": "light"
          },
          "paper_bgcolor": "white",
          "plot_bgcolor": "white",
          "polar": {
           "angularaxis": {
            "gridcolor": "#EBF0F8",
            "linecolor": "#EBF0F8",
            "ticks": ""
           },
           "bgcolor": "white",
           "radialaxis": {
            "gridcolor": "#EBF0F8",
            "linecolor": "#EBF0F8",
            "ticks": ""
           }
          },
          "scene": {
           "xaxis": {
            "backgroundcolor": "white",
            "gridcolor": "#DFE8F3",
            "gridwidth": 2,
            "linecolor": "#EBF0F8",
            "showbackground": true,
            "ticks": "",
            "zerolinecolor": "#EBF0F8"
           },
           "yaxis": {
            "backgroundcolor": "white",
            "gridcolor": "#DFE8F3",
            "gridwidth": 2,
            "linecolor": "#EBF0F8",
            "showbackground": true,
            "ticks": "",
            "zerolinecolor": "#EBF0F8"
           },
           "zaxis": {
            "backgroundcolor": "white",
            "gridcolor": "#DFE8F3",
            "gridwidth": 2,
            "linecolor": "#EBF0F8",
            "showbackground": true,
            "ticks": "",
            "zerolinecolor": "#EBF0F8"
           }
          },
          "shapedefaults": {
           "line": {
            "color": "#2a3f5f"
           }
          },
          "ternary": {
           "aaxis": {
            "gridcolor": "#DFE8F3",
            "linecolor": "#A2B1C6",
            "ticks": ""
           },
           "baxis": {
            "gridcolor": "#DFE8F3",
            "linecolor": "#A2B1C6",
            "ticks": ""
           },
           "bgcolor": "white",
           "caxis": {
            "gridcolor": "#DFE8F3",
            "linecolor": "#A2B1C6",
            "ticks": ""
           }
          },
          "title": {
           "x": 0.05
          },
          "xaxis": {
           "automargin": true,
           "gridcolor": "#EBF0F8",
           "linecolor": "#EBF0F8",
           "ticks": "",
           "title": {
            "standoff": 15
           },
           "zerolinecolor": "#EBF0F8",
           "zerolinewidth": 2
          },
          "yaxis": {
           "automargin": true,
           "gridcolor": "#EBF0F8",
           "linecolor": "#EBF0F8",
           "ticks": "",
           "title": {
            "standoff": 15
           },
           "zerolinecolor": "#EBF0F8",
           "zerolinewidth": 2
          }
         }
        },
        "title": {
         "text": "Total Smiley Reactions by Cuisine Category ",
         "x": 0.5
        },
        "width": 1200,
        "xaxis": {
         "anchor": "y",
         "domain": [
          0,
          1
         ],
         "tickangle": 45,
         "title": {}
        },
        "yaxis": {
         "anchor": "x",
         "domain": [
          0,
          1
         ],
         "title": {
          "text": "Number of Reactions"
         }
        }
       }
      }
     },
     "metadata": {},
     "output_type": "display_data"
    },
    {
     "name": "stdout",
     "output_type": "stream",
     "text": [
      "Sorted reaction counts by cuisine category:\n",
      "   main_cuisine_category  Total_Reactions\n",
      "12                    西式         226351.0\n",
      "4                    日本菜         190250.0\n",
      "7                     港式         165213.0\n",
      "1                     中菜          80041.0\n",
      "0                  Other          78144.0\n",
      "14                   韓國菜          52723.0\n",
      "6                    泰國菜          52678.0\n",
      "8                     火鍋          40599.0\n",
      "2                    台灣菜          35711.0\n",
      "3                     咖啡          17568.0\n",
      "13                   越南菜          13673.0\n",
      "11                   自助餐           9913.0\n",
      "5                    法國菜           6879.0\n",
      "10                    素食           4334.0\n",
      "9                     甜品            380.0\n"
     ]
    }
   ],
   "source": [
    "# Define main cuisine categories\n",
    "main_categories = {\n",
    "    '港式': ['港式', '茶餐廳', '冰室', '大排檔'],\n",
    "    '火鍋': ['火鍋', '打邊爐'],\n",
    "    '中菜': ['中菜', '中式', '粵菜', '廣東菜', '粵菜', '廣東', '川菜', '四川', '北京菜', '京菜', '上海菜', '滬菜'],\n",
    "    '日本菜': ['日本', '日式', '壽司', '刺身', '拉麵', '壽喜燒'],\n",
    "    '韓國菜': ['韓國', '韓式', '韓國菜',],\n",
    "    '越南菜': ['越式', '越南', '越南菜'],\n",
    "    '泰國菜': ['泰國', '泰式', '泰國菜'],\n",
    "    '台灣菜': ['台灣', '台式', '台灣菜'],\n",
    "    '西式': ['西式', '西餐', '英國菜', '美國菜', '意大利', '意式', '意大利菜', '西班牙', '西班牙菜', '葡國', '葡國菜', '葡萄牙', '葡萄牙菜'],\n",
    "    '法國菜': ['法國', '法式', '法國菜'],\n",
    "    '甜品': ['甜品', '甜點', '甜品店', '甜品專門店', '糖水', '糖水店', '糖水鋪', '甜品鋪', '糖水舖', '甜品舖'],\n",
    "    '咖啡': ['咖啡', '咖啡店', '咖啡室', '咖啡館', '咖啡屋', '咖啡廳', '咖啡專門店'],\n",
    "    '任食/放題': ['任食', '放題', '任食放題', '任食任點'],\n",
    "    '自助餐': ['自助餐', '自助餐廳', '自助餐館', '自助餐飲', '自助', 'buffet', 'Buffet', 'BUFFET'],\n",
    "    '素食': ['素食', '齋', '蔬食', '素菜', '素', '純素', '素食主義'],\n",
    "}\n",
    "\n",
    "def categorize_cuisine(cuisine):\n",
    "    if pd.isna(cuisine):\n",
    "        return 'Other'\n",
    "    for main_cat, sub_cats in main_categories.items():\n",
    "        if any(sub_cat in str(cuisine) for sub_cat in sub_cats):\n",
    "            return main_cat\n",
    "    return 'Other'\n",
    "\n",
    "# Apply categorization\n",
    "df['main_cuisine_category'] = df['restaurant_cuisine_type'].apply(categorize_cuisine)\n",
    "\n",
    "# Remove duplicates\n",
    "df_unique = df.drop_duplicates(['restaurant_name', 'restaurant_smiley_smile', 'restaurant_smiley_ok', 'restaurant_smiley_cry'])\n",
    "\n",
    "# Calculate reactions and sort\n",
    "cuisine_reactions = df_unique.groupby('main_cuisine_category').agg({\n",
    "    'restaurant_smiley_smile': 'sum',\n",
    "    'restaurant_smiley_ok': 'sum',\n",
    "    'restaurant_smiley_cry': 'sum'\n",
    "}).reset_index()\n",
    "\n",
    "# Calculate total reactions\n",
    "cuisine_reactions['Total_Reactions'] = cuisine_reactions[['restaurant_smiley_smile', 'restaurant_smiley_ok', 'restaurant_smiley_cry']].sum(axis=1)\n",
    "cuisine_reactions = cuisine_reactions.sort_values('Total_Reactions', ascending=False)\n",
    "\n",
    "# Melt for plotting\n",
    "cuisine_reactions_melted = cuisine_reactions.melt(\n",
    "    id_vars=['main_cuisine_category'],\n",
    "    value_vars=['restaurant_smiley_smile', 'restaurant_smiley_ok', 'restaurant_smiley_cry'],\n",
    "    var_name='Reaction Type',\n",
    "    value_name='Total Count'\n",
    ")\n",
    "\n",
    "# Create plot\n",
    "fig = px.bar(cuisine_reactions_melted, \n",
    "             x='main_cuisine_category', \n",
    "             y='Total Count',\n",
    "             color='Reaction Type',\n",
    "             title='Total Smiley Reactions by Cuisine Category ',\n",
    "             template='plotly_white',\n",
    "             barmode='stack',\n",
    "             color_discrete_sequence=['#3CB371', '#FFD700', '#FF6B6B'])\n",
    "\n",
    "# Update layout\n",
    "fig.update_layout(\n",
    "    xaxis_title=None,\n",
    "    yaxis_title=\"Number of Reactions\",\n",
    "    title_x=0.5,\n",
    "    xaxis={'tickangle': 45},\n",
    "    showlegend=True,\n",
    "    legend=dict(\n",
    "        orientation=\"h\",\n",
    "        yanchor=\"bottom\",\n",
    "        y=1.02,\n",
    "        xanchor=\"right\",\n",
    "        x=1\n",
    "    ),\n",
    "    height=700,\n",
    "    width=1200,\n",
    "    margin=dict(b=150)\n",
    ")\n",
    "\n",
    "fig.show()\n",
    "\n",
    "# Print sorted data\n",
    "print(\"\\\n",
    "Sorted reaction counts by cuisine category:\")\n",
    "print(cuisine_reactions[['main_cuisine_category', 'Total_Reactions']])\n"
   ]
  },
  {
   "cell_type": "code",
   "execution_count": null,
   "metadata": {},
   "outputs": [
    {
     "data": {
      "application/vnd.plotly.v1+json": {
       "config": {
        "plotlyServerURL": "https://plot.ly"
       },
       "data": [
        {
         "marker": {
          "color": "#2ecc71"
         },
         "name": "😊 Smile",
         "type": "bar",
         "x": [
          "西式",
          "日本菜",
          "港式",
          "Other",
          "中菜",
          "泰國菜",
          "韓國菜",
          "火鍋",
          "台灣菜",
          "咖啡",
          "越南菜",
          "自助餐",
          "法國菜",
          "素食",
          "甜品"
         ],
         "y": [
          86.56062562715705,
          89.39024497352558,
          82.46807505984106,
          87.9492316681447,
          81.25428638287569,
          88.10066670609793,
          88.56818055786614,
          90.4220003520861,
          85.68609451654821,
          90.2737896801643,
          84.20530042515344,
          68.21640664090182,
          85.26220835263427,
          88.8058972379901,
          78.9048473967684
         ]
        },
        {
         "marker": {
          "color": "#f1c40f"
         },
         "name": "😐 OK",
         "type": "bar",
         "x": [
          "西式",
          "日本菜",
          "港式",
          "Other",
          "中菜",
          "泰國菜",
          "韓國菜",
          "火鍋",
          "台灣菜",
          "咖啡",
          "越南菜",
          "自助餐",
          "法國菜",
          "素食",
          "甜品"
         ],
         "y": [
          9.391605882816666,
          7.344733550240918,
          11.778199901772654,
          8.383952378551365,
          12.05599147741982,
          7.93200907936302,
          7.456307272283917,
          5.752398176587586,
          10.0243539423474,
          7.317818891764208,
          10.372363876141954,
          19.959383001990098,
          10.79622038248949,
          8.542495090520061,
          16.696588868940754
         ]
        },
        {
         "marker": {
          "color": "#e74c3c"
         },
         "name": "😢 Cry",
         "type": "bar",
         "x": [
          "西式",
          "日本菜",
          "港式",
          "Other",
          "中菜",
          "泰國菜",
          "韓國菜",
          "火鍋",
          "台灣菜",
          "咖啡",
          "越南菜",
          "自助餐",
          "法國菜",
          "素食",
          "甜品"
         ],
         "y": [
          4.047768490026282,
          3.265021476233496,
          5.753725038386287,
          3.6668159533039306,
          6.689722139704481,
          3.967324214539065,
          3.9755121698499476,
          3.8256014713263036,
          4.289551541104393,
          2.4083914280715,
          5.422335698704605,
          11.824210357108088,
          3.941571264876236,
          2.651607671489844,
          4.3985637342908435
         ]
        }
       ],
       "layout": {
        "barmode": "stack",
        "legend": {
         "x": 1.02,
         "xanchor": "left",
         "y": 0.99,
         "yanchor": "top"
        },
        "margin": {
         "r": 150
        },
        "showlegend": true,
        "template": {
         "data": {
          "bar": [
           {
            "error_x": {
             "color": "#2a3f5f"
            },
            "error_y": {
             "color": "#2a3f5f"
            },
            "marker": {
             "line": {
              "color": "white",
              "width": 0.5
             },
             "pattern": {
              "fillmode": "overlay",
              "size": 10,
              "solidity": 0.2
             }
            },
            "type": "bar"
           }
          ],
          "barpolar": [
           {
            "marker": {
             "line": {
              "color": "white",
              "width": 0.5
             },
             "pattern": {
              "fillmode": "overlay",
              "size": 10,
              "solidity": 0.2
             }
            },
            "type": "barpolar"
           }
          ],
          "carpet": [
           {
            "aaxis": {
             "endlinecolor": "#2a3f5f",
             "gridcolor": "#C8D4E3",
             "linecolor": "#C8D4E3",
             "minorgridcolor": "#C8D4E3",
             "startlinecolor": "#2a3f5f"
            },
            "baxis": {
             "endlinecolor": "#2a3f5f",
             "gridcolor": "#C8D4E3",
             "linecolor": "#C8D4E3",
             "minorgridcolor": "#C8D4E3",
             "startlinecolor": "#2a3f5f"
            },
            "type": "carpet"
           }
          ],
          "choropleth": [
           {
            "colorbar": {
             "outlinewidth": 0,
             "ticks": ""
            },
            "type": "choropleth"
           }
          ],
          "contour": [
           {
            "colorbar": {
             "outlinewidth": 0,
             "ticks": ""
            },
            "colorscale": [
             [
              0,
              "#0d0887"
             ],
             [
              0.1111111111111111,
              "#46039f"
             ],
             [
              0.2222222222222222,
              "#7201a8"
             ],
             [
              0.3333333333333333,
              "#9c179e"
             ],
             [
              0.4444444444444444,
              "#bd3786"
             ],
             [
              0.5555555555555556,
              "#d8576b"
             ],
             [
              0.6666666666666666,
              "#ed7953"
             ],
             [
              0.7777777777777778,
              "#fb9f3a"
             ],
             [
              0.8888888888888888,
              "#fdca26"
             ],
             [
              1,
              "#f0f921"
             ]
            ],
            "type": "contour"
           }
          ],
          "contourcarpet": [
           {
            "colorbar": {
             "outlinewidth": 0,
             "ticks": ""
            },
            "type": "contourcarpet"
           }
          ],
          "heatmap": [
           {
            "colorbar": {
             "outlinewidth": 0,
             "ticks": ""
            },
            "colorscale": [
             [
              0,
              "#0d0887"
             ],
             [
              0.1111111111111111,
              "#46039f"
             ],
             [
              0.2222222222222222,
              "#7201a8"
             ],
             [
              0.3333333333333333,
              "#9c179e"
             ],
             [
              0.4444444444444444,
              "#bd3786"
             ],
             [
              0.5555555555555556,
              "#d8576b"
             ],
             [
              0.6666666666666666,
              "#ed7953"
             ],
             [
              0.7777777777777778,
              "#fb9f3a"
             ],
             [
              0.8888888888888888,
              "#fdca26"
             ],
             [
              1,
              "#f0f921"
             ]
            ],
            "type": "heatmap"
           }
          ],
          "heatmapgl": [
           {
            "colorbar": {
             "outlinewidth": 0,
             "ticks": ""
            },
            "colorscale": [
             [
              0,
              "#0d0887"
             ],
             [
              0.1111111111111111,
              "#46039f"
             ],
             [
              0.2222222222222222,
              "#7201a8"
             ],
             [
              0.3333333333333333,
              "#9c179e"
             ],
             [
              0.4444444444444444,
              "#bd3786"
             ],
             [
              0.5555555555555556,
              "#d8576b"
             ],
             [
              0.6666666666666666,
              "#ed7953"
             ],
             [
              0.7777777777777778,
              "#fb9f3a"
             ],
             [
              0.8888888888888888,
              "#fdca26"
             ],
             [
              1,
              "#f0f921"
             ]
            ],
            "type": "heatmapgl"
           }
          ],
          "histogram": [
           {
            "marker": {
             "pattern": {
              "fillmode": "overlay",
              "size": 10,
              "solidity": 0.2
             }
            },
            "type": "histogram"
           }
          ],
          "histogram2d": [
           {
            "colorbar": {
             "outlinewidth": 0,
             "ticks": ""
            },
            "colorscale": [
             [
              0,
              "#0d0887"
             ],
             [
              0.1111111111111111,
              "#46039f"
             ],
             [
              0.2222222222222222,
              "#7201a8"
             ],
             [
              0.3333333333333333,
              "#9c179e"
             ],
             [
              0.4444444444444444,
              "#bd3786"
             ],
             [
              0.5555555555555556,
              "#d8576b"
             ],
             [
              0.6666666666666666,
              "#ed7953"
             ],
             [
              0.7777777777777778,
              "#fb9f3a"
             ],
             [
              0.8888888888888888,
              "#fdca26"
             ],
             [
              1,
              "#f0f921"
             ]
            ],
            "type": "histogram2d"
           }
          ],
          "histogram2dcontour": [
           {
            "colorbar": {
             "outlinewidth": 0,
             "ticks": ""
            },
            "colorscale": [
             [
              0,
              "#0d0887"
             ],
             [
              0.1111111111111111,
              "#46039f"
             ],
             [
              0.2222222222222222,
              "#7201a8"
             ],
             [
              0.3333333333333333,
              "#9c179e"
             ],
             [
              0.4444444444444444,
              "#bd3786"
             ],
             [
              0.5555555555555556,
              "#d8576b"
             ],
             [
              0.6666666666666666,
              "#ed7953"
             ],
             [
              0.7777777777777778,
              "#fb9f3a"
             ],
             [
              0.8888888888888888,
              "#fdca26"
             ],
             [
              1,
              "#f0f921"
             ]
            ],
            "type": "histogram2dcontour"
           }
          ],
          "mesh3d": [
           {
            "colorbar": {
             "outlinewidth": 0,
             "ticks": ""
            },
            "type": "mesh3d"
           }
          ],
          "parcoords": [
           {
            "line": {
             "colorbar": {
              "outlinewidth": 0,
              "ticks": ""
             }
            },
            "type": "parcoords"
           }
          ],
          "pie": [
           {
            "automargin": true,
            "type": "pie"
           }
          ],
          "scatter": [
           {
            "fillpattern": {
             "fillmode": "overlay",
             "size": 10,
             "solidity": 0.2
            },
            "type": "scatter"
           }
          ],
          "scatter3d": [
           {
            "line": {
             "colorbar": {
              "outlinewidth": 0,
              "ticks": ""
             }
            },
            "marker": {
             "colorbar": {
              "outlinewidth": 0,
              "ticks": ""
             }
            },
            "type": "scatter3d"
           }
          ],
          "scattercarpet": [
           {
            "marker": {
             "colorbar": {
              "outlinewidth": 0,
              "ticks": ""
             }
            },
            "type": "scattercarpet"
           }
          ],
          "scattergeo": [
           {
            "marker": {
             "colorbar": {
              "outlinewidth": 0,
              "ticks": ""
             }
            },
            "type": "scattergeo"
           }
          ],
          "scattergl": [
           {
            "marker": {
             "colorbar": {
              "outlinewidth": 0,
              "ticks": ""
             }
            },
            "type": "scattergl"
           }
          ],
          "scattermapbox": [
           {
            "marker": {
             "colorbar": {
              "outlinewidth": 0,
              "ticks": ""
             }
            },
            "type": "scattermapbox"
           }
          ],
          "scatterpolar": [
           {
            "marker": {
             "colorbar": {
              "outlinewidth": 0,
              "ticks": ""
             }
            },
            "type": "scatterpolar"
           }
          ],
          "scatterpolargl": [
           {
            "marker": {
             "colorbar": {
              "outlinewidth": 0,
              "ticks": ""
             }
            },
            "type": "scatterpolargl"
           }
          ],
          "scatterternary": [
           {
            "marker": {
             "colorbar": {
              "outlinewidth": 0,
              "ticks": ""
             }
            },
            "type": "scatterternary"
           }
          ],
          "surface": [
           {
            "colorbar": {
             "outlinewidth": 0,
             "ticks": ""
            },
            "colorscale": [
             [
              0,
              "#0d0887"
             ],
             [
              0.1111111111111111,
              "#46039f"
             ],
             [
              0.2222222222222222,
              "#7201a8"
             ],
             [
              0.3333333333333333,
              "#9c179e"
             ],
             [
              0.4444444444444444,
              "#bd3786"
             ],
             [
              0.5555555555555556,
              "#d8576b"
             ],
             [
              0.6666666666666666,
              "#ed7953"
             ],
             [
              0.7777777777777778,
              "#fb9f3a"
             ],
             [
              0.8888888888888888,
              "#fdca26"
             ],
             [
              1,
              "#f0f921"
             ]
            ],
            "type": "surface"
           }
          ],
          "table": [
           {
            "cells": {
             "fill": {
              "color": "#EBF0F8"
             },
             "line": {
              "color": "white"
             }
            },
            "header": {
             "fill": {
              "color": "#C8D4E3"
             },
             "line": {
              "color": "white"
             }
            },
            "type": "table"
           }
          ]
         },
         "layout": {
          "annotationdefaults": {
           "arrowcolor": "#2a3f5f",
           "arrowhead": 0,
           "arrowwidth": 1
          },
          "autotypenumbers": "strict",
          "coloraxis": {
           "colorbar": {
            "outlinewidth": 0,
            "ticks": ""
           }
          },
          "colorscale": {
           "diverging": [
            [
             0,
             "#8e0152"
            ],
            [
             0.1,
             "#c51b7d"
            ],
            [
             0.2,
             "#de77ae"
            ],
            [
             0.3,
             "#f1b6da"
            ],
            [
             0.4,
             "#fde0ef"
            ],
            [
             0.5,
             "#f7f7f7"
            ],
            [
             0.6,
             "#e6f5d0"
            ],
            [
             0.7,
             "#b8e186"
            ],
            [
             0.8,
             "#7fbc41"
            ],
            [
             0.9,
             "#4d9221"
            ],
            [
             1,
             "#276419"
            ]
           ],
           "sequential": [
            [
             0,
             "#0d0887"
            ],
            [
             0.1111111111111111,
             "#46039f"
            ],
            [
             0.2222222222222222,
             "#7201a8"
            ],
            [
             0.3333333333333333,
             "#9c179e"
            ],
            [
             0.4444444444444444,
             "#bd3786"
            ],
            [
             0.5555555555555556,
             "#d8576b"
            ],
            [
             0.6666666666666666,
             "#ed7953"
            ],
            [
             0.7777777777777778,
             "#fb9f3a"
            ],
            [
             0.8888888888888888,
             "#fdca26"
            ],
            [
             1,
             "#f0f921"
            ]
           ],
           "sequentialminus": [
            [
             0,
             "#0d0887"
            ],
            [
             0.1111111111111111,
             "#46039f"
            ],
            [
             0.2222222222222222,
             "#7201a8"
            ],
            [
             0.3333333333333333,
             "#9c179e"
            ],
            [
             0.4444444444444444,
             "#bd3786"
            ],
            [
             0.5555555555555556,
             "#d8576b"
            ],
            [
             0.6666666666666666,
             "#ed7953"
            ],
            [
             0.7777777777777778,
             "#fb9f3a"
            ],
            [
             0.8888888888888888,
             "#fdca26"
            ],
            [
             1,
             "#f0f921"
            ]
           ]
          },
          "colorway": [
           "#636efa",
           "#EF553B",
           "#00cc96",
           "#ab63fa",
           "#FFA15A",
           "#19d3f3",
           "#FF6692",
           "#B6E880",
           "#FF97FF",
           "#FECB52"
          ],
          "font": {
           "color": "#2a3f5f"
          },
          "geo": {
           "bgcolor": "white",
           "lakecolor": "white",
           "landcolor": "white",
           "showlakes": true,
           "showland": true,
           "subunitcolor": "#C8D4E3"
          },
          "hoverlabel": {
           "align": "left"
          },
          "hovermode": "closest",
          "mapbox": {
           "style": "light"
          },
          "paper_bgcolor": "white",
          "plot_bgcolor": "white",
          "polar": {
           "angularaxis": {
            "gridcolor": "#EBF0F8",
            "linecolor": "#EBF0F8",
            "ticks": ""
           },
           "bgcolor": "white",
           "radialaxis": {
            "gridcolor": "#EBF0F8",
            "linecolor": "#EBF0F8",
            "ticks": ""
           }
          },
          "scene": {
           "xaxis": {
            "backgroundcolor": "white",
            "gridcolor": "#DFE8F3",
            "gridwidth": 2,
            "linecolor": "#EBF0F8",
            "showbackground": true,
            "ticks": "",
            "zerolinecolor": "#EBF0F8"
           },
           "yaxis": {
            "backgroundcolor": "white",
            "gridcolor": "#DFE8F3",
            "gridwidth": 2,
            "linecolor": "#EBF0F8",
            "showbackground": true,
            "ticks": "",
            "zerolinecolor": "#EBF0F8"
           },
           "zaxis": {
            "backgroundcolor": "white",
            "gridcolor": "#DFE8F3",
            "gridwidth": 2,
            "linecolor": "#EBF0F8",
            "showbackground": true,
            "ticks": "",
            "zerolinecolor": "#EBF0F8"
           }
          },
          "shapedefaults": {
           "line": {
            "color": "#2a3f5f"
           }
          },
          "ternary": {
           "aaxis": {
            "gridcolor": "#DFE8F3",
            "linecolor": "#A2B1C6",
            "ticks": ""
           },
           "baxis": {
            "gridcolor": "#DFE8F3",
            "linecolor": "#A2B1C6",
            "ticks": ""
           },
           "bgcolor": "white",
           "caxis": {
            "gridcolor": "#DFE8F3",
            "linecolor": "#A2B1C6",
            "ticks": ""
           }
          },
          "title": {
           "x": 0.05
          },
          "xaxis": {
           "automargin": true,
           "gridcolor": "#EBF0F8",
           "linecolor": "#EBF0F8",
           "ticks": "",
           "title": {
            "standoff": 15
           },
           "zerolinecolor": "#EBF0F8",
           "zerolinewidth": 2
          },
          "yaxis": {
           "automargin": true,
           "gridcolor": "#EBF0F8",
           "linecolor": "#EBF0F8",
           "ticks": "",
           "title": {
            "standoff": 15
           },
           "zerolinecolor": "#EBF0F8",
           "zerolinewidth": 2
          }
         }
        },
        "title": {
         "text": "Distribution of Smiley Percentages by Cuisine Category"
        },
        "xaxis": {
         "title": {
          "text": "Cuisine Type"
         }
        },
        "yaxis": {
         "range": [
          0,
          100
         ],
         "title": {
          "text": "Percentage of Smileys"
         }
        }
       }
      }
     },
     "metadata": {},
     "output_type": "display_data"
    }
   ],
   "source": [
    "# Calculate percentages for each smiley type\n",
    "smiley_by_cuisine['smile_percentage'] = (smiley_by_cuisine['restaurant_smiley_smile'] / smiley_by_cuisine['total']) * 100\n",
    "smiley_by_cuisine['ok_percentage'] = (smiley_by_cuisine['restaurant_smiley_ok'] / smiley_by_cuisine['total']) * 100\n",
    "smiley_by_cuisine['cry_percentage'] = (smiley_by_cuisine['restaurant_smiley_cry'] / smiley_by_cuisine['total']) * 100\n",
    "\n",
    "# Create stacked bar chart with percentages\n",
    "fig = go.Figure()\n",
    "\n",
    "# Add bars for each smiley type\n",
    "fig.add_trace(go.Bar(\n",
    "    name='😊 Smile',\n",
    "    x=smiley_by_cuisine['cuisine_category'],\n",
    "    y=smiley_by_cuisine['smile_percentage'],\n",
    "    marker_color='#2ecc71'\n",
    "))\n",
    "\n",
    "fig.add_trace(go.Bar(\n",
    "    name='😐 OK',\n",
    "    x=smiley_by_cuisine['cuisine_category'],\n",
    "    y=smiley_by_cuisine['ok_percentage'],\n",
    "    marker_color='#f1c40f'\n",
    "))\n",
    "\n",
    "fig.add_trace(go.Bar(\n",
    "    name='😢 Cry',\n",
    "    x=smiley_by_cuisine['cuisine_category'],\n",
    "    y=smiley_by_cuisine['cry_percentage'],\n",
    "    marker_color='#e74c3c'\n",
    "))\n",
    "\n",
    "# Update layout\n",
    "fig.update_layout(\n",
    "    barmode='stack',\n",
    "    title='Distribution of Smiley Percentages by Cuisine Category',\n",
    "    xaxis_title='Cuisine Type',\n",
    "    yaxis_title='Percentage of Smileys',\n",
    "    template='plotly_white',\n",
    "    showlegend=True,\n",
    "    legend=dict(\n",
    "        yanchor=\"top\",\n",
    "        y=0.99,\n",
    "        xanchor=\"left\",\n",
    "        x=1.02\n",
    "    ),\n",
    "    margin=dict(r=150)  # Add right margin for legend\n",
    ")\n",
    "\n",
    "# Update y-axis range\n",
    "fig.update_yaxes(range=[0, 100])\n",
    "\n",
    "# Display the figure\n",
    "fig.show()\n"
   ]
  },
  {
   "cell_type": "code",
   "execution_count": null,
   "metadata": {},
   "outputs": [
    {
     "data": {
      "application/vnd.plotly.v1+json": {
       "config": {
        "plotlyServerURL": "https://plot.ly"
       },
       "data": [
        {
         "marker": {
          "color": "rgb(102, 197, 204)"
         },
         "name": "Level 1",
         "type": "bar",
         "x": [
          "港式",
          "西式",
          "日本菜",
          "中菜",
          "Other",
          "泰國菜",
          "火鍋",
          "台灣菜",
          "韓國菜",
          "越南菜",
          "咖啡",
          "法國菜",
          "自助餐",
          "素食",
          "甜品"
         ],
         "y": [
          5884,
          4270,
          2919,
          3512,
          1871,
          801,
          994,
          782,
          687,
          483,
          300,
          206,
          257,
          85,
          41
         ]
        },
        {
         "marker": {
          "color": "rgb(246, 207, 113)"
         },
         "name": "Level 2",
         "type": "bar",
         "x": [
          "港式",
          "西式",
          "日本菜",
          "中菜",
          "Other",
          "泰國菜",
          "火鍋",
          "台灣菜",
          "韓國菜",
          "越南菜",
          "咖啡",
          "法國菜",
          "自助餐",
          "素食",
          "甜品"
         ],
         "y": [
          5553,
          4872,
          3405,
          2941,
          1949,
          824,
          677,
          766,
          499,
          394,
          337,
          274,
          198,
          83,
          29
         ]
        },
        {
         "marker": {
          "color": "rgb(248, 156, 116)"
         },
         "name": "Level 3",
         "type": "bar",
         "x": [
          "港式",
          "西式",
          "日本菜",
          "中菜",
          "Other",
          "泰國菜",
          "火鍋",
          "台灣菜",
          "韓國菜",
          "越南菜",
          "咖啡",
          "法國菜",
          "自助餐",
          "素食",
          "甜品"
         ],
         "y": [
          9038,
          8588,
          6604,
          4114,
          3388,
          1587,
          1323,
          1499,
          1023,
          758,
          661,
          396,
          238,
          159,
          27
         ]
        },
        {
         "marker": {
          "color": "rgb(220, 176, 242)"
         },
         "name": "Level 4",
         "type": "bar",
         "x": [
          "港式",
          "西式",
          "日本菜",
          "中菜",
          "Other",
          "泰國菜",
          "火鍋",
          "台灣菜",
          "韓國菜",
          "越南菜",
          "咖啡",
          "法國菜",
          "自助餐",
          "素食",
          "甜品"
         ],
         "y": [
          25858,
          25988,
          21864,
          12770,
          10851,
          4944,
          4739,
          4319,
          4081,
          2134,
          2375,
          962,
          763,
          505,
          113
         ]
        },
        {
         "marker": {
          "color": "rgb(135, 197, 95)"
         },
         "name": "Level 5",
         "type": "bar",
         "x": [
          "港式",
          "西式",
          "日本菜",
          "中菜",
          "Other",
          "泰國菜",
          "火鍋",
          "台灣菜",
          "韓國菜",
          "越南菜",
          "咖啡",
          "法國菜",
          "自助餐",
          "素食",
          "甜品"
         ],
         "y": [
          10,
          15,
          8,
          6,
          4,
          3,
          0,
          3,
          0,
          0,
          0,
          0,
          0,
          0,
          0
         ]
        },
        {
         "marker": {
          "color": "rgb(158, 185, 243)"
         },
         "name": "Level 6",
         "type": "bar",
         "x": [
          "港式",
          "西式",
          "日本菜",
          "中菜",
          "Other",
          "泰國菜",
          "火鍋",
          "台灣菜",
          "韓國菜",
          "越南菜",
          "咖啡",
          "法國菜",
          "自助餐",
          "素食",
          "甜品"
         ],
         "y": [
          3,
          9,
          11,
          9,
          5,
          0,
          0,
          0,
          0,
          4,
          0,
          4,
          1,
          0,
          0
         ]
        },
        {
         "marker": {
          "color": "rgb(254, 136, 177)"
         },
         "name": "Level 8",
         "type": "bar",
         "x": [
          "港式",
          "西式",
          "日本菜",
          "中菜",
          "Other",
          "泰國菜",
          "火鍋",
          "台灣菜",
          "韓國菜",
          "越南菜",
          "咖啡",
          "法國菜",
          "自助餐",
          "素食",
          "甜品"
         ],
         "y": [
          70,
          24,
          8,
          19,
          8,
          2,
          2,
          6,
          4,
          3,
          0,
          1,
          6,
          0,
          0
         ]
        }
       ],
       "layout": {
        "barmode": "stack",
        "font": {
         "size": 12
        },
        "height": 600,
        "legend": {
         "orientation": "h",
         "x": 1,
         "xanchor": "right",
         "y": 1.02,
         "yanchor": "bottom"
        },
        "margin": {
         "t": 150
        },
        "paper_bgcolor": "rgba(255,255,255,1)",
        "plot_bgcolor": "rgba(240,240,240,0.95)",
        "template": {
         "data": {
          "bar": [
           {
            "error_x": {
             "color": "#2a3f5f"
            },
            "error_y": {
             "color": "#2a3f5f"
            },
            "marker": {
             "line": {
              "color": "#E5ECF6",
              "width": 0.5
             },
             "pattern": {
              "fillmode": "overlay",
              "size": 10,
              "solidity": 0.2
             }
            },
            "type": "bar"
           }
          ],
          "barpolar": [
           {
            "marker": {
             "line": {
              "color": "#E5ECF6",
              "width": 0.5
             },
             "pattern": {
              "fillmode": "overlay",
              "size": 10,
              "solidity": 0.2
             }
            },
            "type": "barpolar"
           }
          ],
          "carpet": [
           {
            "aaxis": {
             "endlinecolor": "#2a3f5f",
             "gridcolor": "white",
             "linecolor": "white",
             "minorgridcolor": "white",
             "startlinecolor": "#2a3f5f"
            },
            "baxis": {
             "endlinecolor": "#2a3f5f",
             "gridcolor": "white",
             "linecolor": "white",
             "minorgridcolor": "white",
             "startlinecolor": "#2a3f5f"
            },
            "type": "carpet"
           }
          ],
          "choropleth": [
           {
            "colorbar": {
             "outlinewidth": 0,
             "ticks": ""
            },
            "type": "choropleth"
           }
          ],
          "contour": [
           {
            "colorbar": {
             "outlinewidth": 0,
             "ticks": ""
            },
            "colorscale": [
             [
              0,
              "#0d0887"
             ],
             [
              0.1111111111111111,
              "#46039f"
             ],
             [
              0.2222222222222222,
              "#7201a8"
             ],
             [
              0.3333333333333333,
              "#9c179e"
             ],
             [
              0.4444444444444444,
              "#bd3786"
             ],
             [
              0.5555555555555556,
              "#d8576b"
             ],
             [
              0.6666666666666666,
              "#ed7953"
             ],
             [
              0.7777777777777778,
              "#fb9f3a"
             ],
             [
              0.8888888888888888,
              "#fdca26"
             ],
             [
              1,
              "#f0f921"
             ]
            ],
            "type": "contour"
           }
          ],
          "contourcarpet": [
           {
            "colorbar": {
             "outlinewidth": 0,
             "ticks": ""
            },
            "type": "contourcarpet"
           }
          ],
          "heatmap": [
           {
            "colorbar": {
             "outlinewidth": 0,
             "ticks": ""
            },
            "colorscale": [
             [
              0,
              "#0d0887"
             ],
             [
              0.1111111111111111,
              "#46039f"
             ],
             [
              0.2222222222222222,
              "#7201a8"
             ],
             [
              0.3333333333333333,
              "#9c179e"
             ],
             [
              0.4444444444444444,
              "#bd3786"
             ],
             [
              0.5555555555555556,
              "#d8576b"
             ],
             [
              0.6666666666666666,
              "#ed7953"
             ],
             [
              0.7777777777777778,
              "#fb9f3a"
             ],
             [
              0.8888888888888888,
              "#fdca26"
             ],
             [
              1,
              "#f0f921"
             ]
            ],
            "type": "heatmap"
           }
          ],
          "heatmapgl": [
           {
            "colorbar": {
             "outlinewidth": 0,
             "ticks": ""
            },
            "colorscale": [
             [
              0,
              "#0d0887"
             ],
             [
              0.1111111111111111,
              "#46039f"
             ],
             [
              0.2222222222222222,
              "#7201a8"
             ],
             [
              0.3333333333333333,
              "#9c179e"
             ],
             [
              0.4444444444444444,
              "#bd3786"
             ],
             [
              0.5555555555555556,
              "#d8576b"
             ],
             [
              0.6666666666666666,
              "#ed7953"
             ],
             [
              0.7777777777777778,
              "#fb9f3a"
             ],
             [
              0.8888888888888888,
              "#fdca26"
             ],
             [
              1,
              "#f0f921"
             ]
            ],
            "type": "heatmapgl"
           }
          ],
          "histogram": [
           {
            "marker": {
             "pattern": {
              "fillmode": "overlay",
              "size": 10,
              "solidity": 0.2
             }
            },
            "type": "histogram"
           }
          ],
          "histogram2d": [
           {
            "colorbar": {
             "outlinewidth": 0,
             "ticks": ""
            },
            "colorscale": [
             [
              0,
              "#0d0887"
             ],
             [
              0.1111111111111111,
              "#46039f"
             ],
             [
              0.2222222222222222,
              "#7201a8"
             ],
             [
              0.3333333333333333,
              "#9c179e"
             ],
             [
              0.4444444444444444,
              "#bd3786"
             ],
             [
              0.5555555555555556,
              "#d8576b"
             ],
             [
              0.6666666666666666,
              "#ed7953"
             ],
             [
              0.7777777777777778,
              "#fb9f3a"
             ],
             [
              0.8888888888888888,
              "#fdca26"
             ],
             [
              1,
              "#f0f921"
             ]
            ],
            "type": "histogram2d"
           }
          ],
          "histogram2dcontour": [
           {
            "colorbar": {
             "outlinewidth": 0,
             "ticks": ""
            },
            "colorscale": [
             [
              0,
              "#0d0887"
             ],
             [
              0.1111111111111111,
              "#46039f"
             ],
             [
              0.2222222222222222,
              "#7201a8"
             ],
             [
              0.3333333333333333,
              "#9c179e"
             ],
             [
              0.4444444444444444,
              "#bd3786"
             ],
             [
              0.5555555555555556,
              "#d8576b"
             ],
             [
              0.6666666666666666,
              "#ed7953"
             ],
             [
              0.7777777777777778,
              "#fb9f3a"
             ],
             [
              0.8888888888888888,
              "#fdca26"
             ],
             [
              1,
              "#f0f921"
             ]
            ],
            "type": "histogram2dcontour"
           }
          ],
          "mesh3d": [
           {
            "colorbar": {
             "outlinewidth": 0,
             "ticks": ""
            },
            "type": "mesh3d"
           }
          ],
          "parcoords": [
           {
            "line": {
             "colorbar": {
              "outlinewidth": 0,
              "ticks": ""
             }
            },
            "type": "parcoords"
           }
          ],
          "pie": [
           {
            "automargin": true,
            "type": "pie"
           }
          ],
          "scatter": [
           {
            "fillpattern": {
             "fillmode": "overlay",
             "size": 10,
             "solidity": 0.2
            },
            "type": "scatter"
           }
          ],
          "scatter3d": [
           {
            "line": {
             "colorbar": {
              "outlinewidth": 0,
              "ticks": ""
             }
            },
            "marker": {
             "colorbar": {
              "outlinewidth": 0,
              "ticks": ""
             }
            },
            "type": "scatter3d"
           }
          ],
          "scattercarpet": [
           {
            "marker": {
             "colorbar": {
              "outlinewidth": 0,
              "ticks": ""
             }
            },
            "type": "scattercarpet"
           }
          ],
          "scattergeo": [
           {
            "marker": {
             "colorbar": {
              "outlinewidth": 0,
              "ticks": ""
             }
            },
            "type": "scattergeo"
           }
          ],
          "scattergl": [
           {
            "marker": {
             "colorbar": {
              "outlinewidth": 0,
              "ticks": ""
             }
            },
            "type": "scattergl"
           }
          ],
          "scattermapbox": [
           {
            "marker": {
             "colorbar": {
              "outlinewidth": 0,
              "ticks": ""
             }
            },
            "type": "scattermapbox"
           }
          ],
          "scatterpolar": [
           {
            "marker": {
             "colorbar": {
              "outlinewidth": 0,
              "ticks": ""
             }
            },
            "type": "scatterpolar"
           }
          ],
          "scatterpolargl": [
           {
            "marker": {
             "colorbar": {
              "outlinewidth": 0,
              "ticks": ""
             }
            },
            "type": "scatterpolargl"
           }
          ],
          "scatterternary": [
           {
            "marker": {
             "colorbar": {
              "outlinewidth": 0,
              "ticks": ""
             }
            },
            "type": "scatterternary"
           }
          ],
          "surface": [
           {
            "colorbar": {
             "outlinewidth": 0,
             "ticks": ""
            },
            "colorscale": [
             [
              0,
              "#0d0887"
             ],
             [
              0.1111111111111111,
              "#46039f"
             ],
             [
              0.2222222222222222,
              "#7201a8"
             ],
             [
              0.3333333333333333,
              "#9c179e"
             ],
             [
              0.4444444444444444,
              "#bd3786"
             ],
             [
              0.5555555555555556,
              "#d8576b"
             ],
             [
              0.6666666666666666,
              "#ed7953"
             ],
             [
              0.7777777777777778,
              "#fb9f3a"
             ],
             [
              0.8888888888888888,
              "#fdca26"
             ],
             [
              1,
              "#f0f921"
             ]
            ],
            "type": "surface"
           }
          ],
          "table": [
           {
            "cells": {
             "fill": {
              "color": "#EBF0F8"
             },
             "line": {
              "color": "white"
             }
            },
            "header": {
             "fill": {
              "color": "#C8D4E3"
             },
             "line": {
              "color": "white"
             }
            },
            "type": "table"
           }
          ]
         },
         "layout": {
          "annotationdefaults": {
           "arrowcolor": "#2a3f5f",
           "arrowhead": 0,
           "arrowwidth": 1
          },
          "autotypenumbers": "strict",
          "coloraxis": {
           "colorbar": {
            "outlinewidth": 0,
            "ticks": ""
           }
          },
          "colorscale": {
           "diverging": [
            [
             0,
             "#8e0152"
            ],
            [
             0.1,
             "#c51b7d"
            ],
            [
             0.2,
             "#de77ae"
            ],
            [
             0.3,
             "#f1b6da"
            ],
            [
             0.4,
             "#fde0ef"
            ],
            [
             0.5,
             "#f7f7f7"
            ],
            [
             0.6,
             "#e6f5d0"
            ],
            [
             0.7,
             "#b8e186"
            ],
            [
             0.8,
             "#7fbc41"
            ],
            [
             0.9,
             "#4d9221"
            ],
            [
             1,
             "#276419"
            ]
           ],
           "sequential": [
            [
             0,
             "#0d0887"
            ],
            [
             0.1111111111111111,
             "#46039f"
            ],
            [
             0.2222222222222222,
             "#7201a8"
            ],
            [
             0.3333333333333333,
             "#9c179e"
            ],
            [
             0.4444444444444444,
             "#bd3786"
            ],
            [
             0.5555555555555556,
             "#d8576b"
            ],
            [
             0.6666666666666666,
             "#ed7953"
            ],
            [
             0.7777777777777778,
             "#fb9f3a"
            ],
            [
             0.8888888888888888,
             "#fdca26"
            ],
            [
             1,
             "#f0f921"
            ]
           ],
           "sequentialminus": [
            [
             0,
             "#0d0887"
            ],
            [
             0.1111111111111111,
             "#46039f"
            ],
            [
             0.2222222222222222,
             "#7201a8"
            ],
            [
             0.3333333333333333,
             "#9c179e"
            ],
            [
             0.4444444444444444,
             "#bd3786"
            ],
            [
             0.5555555555555556,
             "#d8576b"
            ],
            [
             0.6666666666666666,
             "#ed7953"
            ],
            [
             0.7777777777777778,
             "#fb9f3a"
            ],
            [
             0.8888888888888888,
             "#fdca26"
            ],
            [
             1,
             "#f0f921"
            ]
           ]
          },
          "colorway": [
           "#636efa",
           "#EF553B",
           "#00cc96",
           "#ab63fa",
           "#FFA15A",
           "#19d3f3",
           "#FF6692",
           "#B6E880",
           "#FF97FF",
           "#FECB52"
          ],
          "font": {
           "color": "#2a3f5f"
          },
          "geo": {
           "bgcolor": "white",
           "lakecolor": "white",
           "landcolor": "#E5ECF6",
           "showlakes": true,
           "showland": true,
           "subunitcolor": "white"
          },
          "hoverlabel": {
           "align": "left"
          },
          "hovermode": "closest",
          "mapbox": {
           "style": "light"
          },
          "paper_bgcolor": "white",
          "plot_bgcolor": "#E5ECF6",
          "polar": {
           "angularaxis": {
            "gridcolor": "white",
            "linecolor": "white",
            "ticks": ""
           },
           "bgcolor": "#E5ECF6",
           "radialaxis": {
            "gridcolor": "white",
            "linecolor": "white",
            "ticks": ""
           }
          },
          "scene": {
           "xaxis": {
            "backgroundcolor": "#E5ECF6",
            "gridcolor": "white",
            "gridwidth": 2,
            "linecolor": "white",
            "showbackground": true,
            "ticks": "",
            "zerolinecolor": "white"
           },
           "yaxis": {
            "backgroundcolor": "#E5ECF6",
            "gridcolor": "white",
            "gridwidth": 2,
            "linecolor": "white",
            "showbackground": true,
            "ticks": "",
            "zerolinecolor": "white"
           },
           "zaxis": {
            "backgroundcolor": "#E5ECF6",
            "gridcolor": "white",
            "gridwidth": 2,
            "linecolor": "white",
            "showbackground": true,
            "ticks": "",
            "zerolinecolor": "white"
           }
          },
          "shapedefaults": {
           "line": {
            "color": "#2a3f5f"
           }
          },
          "ternary": {
           "aaxis": {
            "gridcolor": "white",
            "linecolor": "white",
            "ticks": ""
           },
           "baxis": {
            "gridcolor": "white",
            "linecolor": "white",
            "ticks": ""
           },
           "bgcolor": "#E5ECF6",
           "caxis": {
            "gridcolor": "white",
            "linecolor": "white",
            "ticks": ""
           }
          },
          "title": {
           "x": 0.05
          },
          "xaxis": {
           "automargin": true,
           "gridcolor": "white",
           "linecolor": "white",
           "ticks": "",
           "title": {
            "standoff": 15
           },
           "zerolinecolor": "white",
           "zerolinewidth": 2
          },
          "yaxis": {
           "automargin": true,
           "gridcolor": "white",
           "linecolor": "white",
           "ticks": "",
           "title": {
            "standoff": 15
           },
           "zerolinecolor": "white",
           "zerolinewidth": 2
          }
         }
        },
        "title": {
         "text": "Distribution of User Account Grades by Cuisine Type"
        },
        "xaxis": {
         "tickangle": 45,
         "title": {
          "text": "Cuisine Type"
         }
        },
        "yaxis": {
         "gridcolor": "lightgray",
         "gridwidth": 1,
         "showgrid": true,
         "title": {
          "text": "Number of Reviews"
         }
        }
       }
      }
     },
     "metadata": {},
     "output_type": "display_data"
    },
    {
     "name": "stdout",
     "output_type": "stream",
     "text": [
      "Grade distribution by cuisine type:\n",
      "Total reviews by cuisine type:\n",
      "cuisine_category\n",
      "港式       46416\n",
      "西式       43766\n",
      "日本菜      34819\n",
      "中菜       23371\n",
      "Other    18076\n",
      "泰國菜       8161\n",
      "火鍋        7735\n",
      "台灣菜       7375\n",
      "韓國菜       6294\n",
      "越南菜       3776\n",
      "咖啡        3673\n",
      "法國菜       1843\n",
      "自助餐       1463\n",
      "素食         832\n",
      "甜品         210\n",
      "dtype: int64\n"
     ]
    }
   ],
   "source": [
    "# Create a grade distribution for each cuisine type\n",
    "grade_dist = pd.crosstab(df['cuisine_category'], df['comment_account_grade'])\n",
    "\n",
    "# Sort by total reviews\n",
    "grade_dist['total'] = grade_dist.sum(axis=1)\n",
    "grade_dist = grade_dist.sort_values('total', ascending=False)\n",
    "grade_dist = grade_dist.drop('total', axis=1)\n",
    "\n",
    "# Define a fancy color palette\n",
    "colors = px.colors.qualitative.Pastel\n",
    "\n",
    "# Create stacked bar chart\n",
    "fig = go.Figure()\n",
    "\n",
    "# Add bars for each grade level\n",
    "for i, grade in enumerate(sorted(df['comment_account_grade'].dropna().unique())):\n",
    "    fig.add_trace(go.Bar(\n",
    "        name=f'Level {int(grade)}',\n",
    "        x=grade_dist.index,\n",
    "        y=grade_dist[grade],\n",
    "        marker_color=colors[i % len(colors)]  # Cycle through the fancy color palette\n",
    "    ))\n",
    "\n",
    "# Update layout\n",
    "fig.update_layout(\n",
    "    barmode='stack',\n",
    "    title='Distribution of User Account Grades by Cuisine Type',\n",
    "    xaxis_title='Cuisine Type',\n",
    "    yaxis_title='Number of Reviews',\n",
    "    height=600,\n",
    "    xaxis_tickangle=45,\n",
    "    plot_bgcolor='rgba(240,240,240,0.95)',\n",
    "    paper_bgcolor='rgba(255,255,255,1)',\n",
    "    font=dict(size=12),\n",
    "    legend=dict(\n",
    "        orientation=\"h\",\n",
    "        yanchor=\"bottom\",\n",
    "        y=1.02,\n",
    "        xanchor=\"right\",\n",
    "        x=1\n",
    "    ),\n",
    "    margin=dict(t=150)\n",
    ")\n",
    "\n",
    "# Add gridlines\n",
    "fig.update_yaxes(showgrid=True, gridwidth=1, gridcolor='lightgray')\n",
    "\n",
    "# Display the plot\n",
    "fig.show()\n",
    "\n",
    "# Print summary statistics\n",
    "print(\"\\\n",
    "Grade distribution by cuisine type:\")\n",
    "print(\"\\\n",
    "Total reviews by cuisine type:\")\n",
    "print(grade_dist.sum(axis=1))\n"
   ]
  },
  {
   "cell_type": "code",
   "execution_count": null,
   "metadata": {},
   "outputs": [
    {
     "data": {
      "application/vnd.plotly.v1+json": {
       "config": {
        "plotlyServerURL": "https://plot.ly"
       },
       "data": [
        {
         "marker": {
          "color": "#FFB3BA"
         },
         "name": "堂食",
         "type": "bar",
         "x": [
          "港式",
          "西式",
          "日本菜",
          "中菜",
          "Other",
          "台灣菜",
          "泰國菜",
          "火鍋",
          "韓國菜",
          "越南菜",
          "咖啡",
          "法國菜",
          "自助餐",
          "素食",
          "甜品"
         ],
         "y": [
          91.74725983236621,
          95.64032697547684,
          97.21577726218096,
          96.37377963737796,
          95.79349904397706,
          88.18181818181819,
          95.8974358974359,
          98.90710382513662,
          91.36690647482014,
          98.01980198019803,
          97.75280898876404,
          100,
          100,
          95,
          100
         ]
        },
        {
         "marker": {
          "color": "#BAFFC9"
         },
         "name": "外賣自取",
         "type": "bar",
         "x": [
          "港式",
          "西式",
          "日本菜",
          "中菜",
          "Other",
          "台灣菜",
          "泰國菜",
          "火鍋",
          "韓國菜",
          "越南菜",
          "咖啡",
          "法國菜",
          "自助餐",
          "素食",
          "甜品"
         ],
         "y": [
          7.285622179239201,
          4.178019981834695,
          2.5522041763341066,
          3.2078103207810322,
          3.0592734225621414,
          9.545454545454547,
          4.102564102564102,
          0.546448087431694,
          7.913669064748201,
          1.9801980198019802,
          2.247191011235955,
          0,
          0,
          0,
          0
         ]
        },
        {
         "marker": {
          "color": "#BAE1FF"
         },
         "name": "外賣送餐",
         "type": "bar",
         "x": [
          "港式",
          "西式",
          "日本菜",
          "中菜",
          "Other",
          "台灣菜",
          "泰國菜",
          "火鍋",
          "韓國菜",
          "越南菜",
          "咖啡",
          "法國菜",
          "自助餐",
          "素食",
          "甜品"
         ],
         "y": [
          0.9671179883945842,
          0.18165304268846502,
          0.23201856148491878,
          0.41841004184100417,
          1.147227533460803,
          2.272727272727273,
          0,
          0.546448087431694,
          0.7194244604316548,
          0,
          0,
          0,
          0,
          5,
          0
         ]
        }
       ],
       "layout": {
        "barmode": "stack",
        "font": {
         "size": 12
        },
        "height": 700,
        "legend": {
         "bgcolor": "rgba(255,255,255,0.8)",
         "bordercolor": "rgba(0,0,0,0.1)",
         "borderwidth": 1,
         "orientation": "h",
         "x": 1,
         "xanchor": "right",
         "y": 1.02,
         "yanchor": "bottom"
        },
        "margin": {
         "b": 100,
         "t": 150
        },
        "paper_bgcolor": "rgba(255,255,255,1)",
        "plot_bgcolor": "rgba(240,240,240,0.95)",
        "template": {
         "data": {
          "bar": [
           {
            "error_x": {
             "color": "#2a3f5f"
            },
            "error_y": {
             "color": "#2a3f5f"
            },
            "marker": {
             "line": {
              "color": "#E5ECF6",
              "width": 0.5
             },
             "pattern": {
              "fillmode": "overlay",
              "size": 10,
              "solidity": 0.2
             }
            },
            "type": "bar"
           }
          ],
          "barpolar": [
           {
            "marker": {
             "line": {
              "color": "#E5ECF6",
              "width": 0.5
             },
             "pattern": {
              "fillmode": "overlay",
              "size": 10,
              "solidity": 0.2
             }
            },
            "type": "barpolar"
           }
          ],
          "carpet": [
           {
            "aaxis": {
             "endlinecolor": "#2a3f5f",
             "gridcolor": "white",
             "linecolor": "white",
             "minorgridcolor": "white",
             "startlinecolor": "#2a3f5f"
            },
            "baxis": {
             "endlinecolor": "#2a3f5f",
             "gridcolor": "white",
             "linecolor": "white",
             "minorgridcolor": "white",
             "startlinecolor": "#2a3f5f"
            },
            "type": "carpet"
           }
          ],
          "choropleth": [
           {
            "colorbar": {
             "outlinewidth": 0,
             "ticks": ""
            },
            "type": "choropleth"
           }
          ],
          "contour": [
           {
            "colorbar": {
             "outlinewidth": 0,
             "ticks": ""
            },
            "colorscale": [
             [
              0,
              "#0d0887"
             ],
             [
              0.1111111111111111,
              "#46039f"
             ],
             [
              0.2222222222222222,
              "#7201a8"
             ],
             [
              0.3333333333333333,
              "#9c179e"
             ],
             [
              0.4444444444444444,
              "#bd3786"
             ],
             [
              0.5555555555555556,
              "#d8576b"
             ],
             [
              0.6666666666666666,
              "#ed7953"
             ],
             [
              0.7777777777777778,
              "#fb9f3a"
             ],
             [
              0.8888888888888888,
              "#fdca26"
             ],
             [
              1,
              "#f0f921"
             ]
            ],
            "type": "contour"
           }
          ],
          "contourcarpet": [
           {
            "colorbar": {
             "outlinewidth": 0,
             "ticks": ""
            },
            "type": "contourcarpet"
           }
          ],
          "heatmap": [
           {
            "colorbar": {
             "outlinewidth": 0,
             "ticks": ""
            },
            "colorscale": [
             [
              0,
              "#0d0887"
             ],
             [
              0.1111111111111111,
              "#46039f"
             ],
             [
              0.2222222222222222,
              "#7201a8"
             ],
             [
              0.3333333333333333,
              "#9c179e"
             ],
             [
              0.4444444444444444,
              "#bd3786"
             ],
             [
              0.5555555555555556,
              "#d8576b"
             ],
             [
              0.6666666666666666,
              "#ed7953"
             ],
             [
              0.7777777777777778,
              "#fb9f3a"
             ],
             [
              0.8888888888888888,
              "#fdca26"
             ],
             [
              1,
              "#f0f921"
             ]
            ],
            "type": "heatmap"
           }
          ],
          "heatmapgl": [
           {
            "colorbar": {
             "outlinewidth": 0,
             "ticks": ""
            },
            "colorscale": [
             [
              0,
              "#0d0887"
             ],
             [
              0.1111111111111111,
              "#46039f"
             ],
             [
              0.2222222222222222,
              "#7201a8"
             ],
             [
              0.3333333333333333,
              "#9c179e"
             ],
             [
              0.4444444444444444,
              "#bd3786"
             ],
             [
              0.5555555555555556,
              "#d8576b"
             ],
             [
              0.6666666666666666,
              "#ed7953"
             ],
             [
              0.7777777777777778,
              "#fb9f3a"
             ],
             [
              0.8888888888888888,
              "#fdca26"
             ],
             [
              1,
              "#f0f921"
             ]
            ],
            "type": "heatmapgl"
           }
          ],
          "histogram": [
           {
            "marker": {
             "pattern": {
              "fillmode": "overlay",
              "size": 10,
              "solidity": 0.2
             }
            },
            "type": "histogram"
           }
          ],
          "histogram2d": [
           {
            "colorbar": {
             "outlinewidth": 0,
             "ticks": ""
            },
            "colorscale": [
             [
              0,
              "#0d0887"
             ],
             [
              0.1111111111111111,
              "#46039f"
             ],
             [
              0.2222222222222222,
              "#7201a8"
             ],
             [
              0.3333333333333333,
              "#9c179e"
             ],
             [
              0.4444444444444444,
              "#bd3786"
             ],
             [
              0.5555555555555556,
              "#d8576b"
             ],
             [
              0.6666666666666666,
              "#ed7953"
             ],
             [
              0.7777777777777778,
              "#fb9f3a"
             ],
             [
              0.8888888888888888,
              "#fdca26"
             ],
             [
              1,
              "#f0f921"
             ]
            ],
            "type": "histogram2d"
           }
          ],
          "histogram2dcontour": [
           {
            "colorbar": {
             "outlinewidth": 0,
             "ticks": ""
            },
            "colorscale": [
             [
              0,
              "#0d0887"
             ],
             [
              0.1111111111111111,
              "#46039f"
             ],
             [
              0.2222222222222222,
              "#7201a8"
             ],
             [
              0.3333333333333333,
              "#9c179e"
             ],
             [
              0.4444444444444444,
              "#bd3786"
             ],
             [
              0.5555555555555556,
              "#d8576b"
             ],
             [
              0.6666666666666666,
              "#ed7953"
             ],
             [
              0.7777777777777778,
              "#fb9f3a"
             ],
             [
              0.8888888888888888,
              "#fdca26"
             ],
             [
              1,
              "#f0f921"
             ]
            ],
            "type": "histogram2dcontour"
           }
          ],
          "mesh3d": [
           {
            "colorbar": {
             "outlinewidth": 0,
             "ticks": ""
            },
            "type": "mesh3d"
           }
          ],
          "parcoords": [
           {
            "line": {
             "colorbar": {
              "outlinewidth": 0,
              "ticks": ""
             }
            },
            "type": "parcoords"
           }
          ],
          "pie": [
           {
            "automargin": true,
            "type": "pie"
           }
          ],
          "scatter": [
           {
            "fillpattern": {
             "fillmode": "overlay",
             "size": 10,
             "solidity": 0.2
            },
            "type": "scatter"
           }
          ],
          "scatter3d": [
           {
            "line": {
             "colorbar": {
              "outlinewidth": 0,
              "ticks": ""
             }
            },
            "marker": {
             "colorbar": {
              "outlinewidth": 0,
              "ticks": ""
             }
            },
            "type": "scatter3d"
           }
          ],
          "scattercarpet": [
           {
            "marker": {
             "colorbar": {
              "outlinewidth": 0,
              "ticks": ""
             }
            },
            "type": "scattercarpet"
           }
          ],
          "scattergeo": [
           {
            "marker": {
             "colorbar": {
              "outlinewidth": 0,
              "ticks": ""
             }
            },
            "type": "scattergeo"
           }
          ],
          "scattergl": [
           {
            "marker": {
             "colorbar": {
              "outlinewidth": 0,
              "ticks": ""
             }
            },
            "type": "scattergl"
           }
          ],
          "scattermapbox": [
           {
            "marker": {
             "colorbar": {
              "outlinewidth": 0,
              "ticks": ""
             }
            },
            "type": "scattermapbox"
           }
          ],
          "scatterpolar": [
           {
            "marker": {
             "colorbar": {
              "outlinewidth": 0,
              "ticks": ""
             }
            },
            "type": "scatterpolar"
           }
          ],
          "scatterpolargl": [
           {
            "marker": {
             "colorbar": {
              "outlinewidth": 0,
              "ticks": ""
             }
            },
            "type": "scatterpolargl"
           }
          ],
          "scatterternary": [
           {
            "marker": {
             "colorbar": {
              "outlinewidth": 0,
              "ticks": ""
             }
            },
            "type": "scatterternary"
           }
          ],
          "surface": [
           {
            "colorbar": {
             "outlinewidth": 0,
             "ticks": ""
            },
            "colorscale": [
             [
              0,
              "#0d0887"
             ],
             [
              0.1111111111111111,
              "#46039f"
             ],
             [
              0.2222222222222222,
              "#7201a8"
             ],
             [
              0.3333333333333333,
              "#9c179e"
             ],
             [
              0.4444444444444444,
              "#bd3786"
             ],
             [
              0.5555555555555556,
              "#d8576b"
             ],
             [
              0.6666666666666666,
              "#ed7953"
             ],
             [
              0.7777777777777778,
              "#fb9f3a"
             ],
             [
              0.8888888888888888,
              "#fdca26"
             ],
             [
              1,
              "#f0f921"
             ]
            ],
            "type": "surface"
           }
          ],
          "table": [
           {
            "cells": {
             "fill": {
              "color": "#EBF0F8"
             },
             "line": {
              "color": "white"
             }
            },
            "header": {
             "fill": {
              "color": "#C8D4E3"
             },
             "line": {
              "color": "white"
             }
            },
            "type": "table"
           }
          ]
         },
         "layout": {
          "annotationdefaults": {
           "arrowcolor": "#2a3f5f",
           "arrowhead": 0,
           "arrowwidth": 1
          },
          "autotypenumbers": "strict",
          "coloraxis": {
           "colorbar": {
            "outlinewidth": 0,
            "ticks": ""
           }
          },
          "colorscale": {
           "diverging": [
            [
             0,
             "#8e0152"
            ],
            [
             0.1,
             "#c51b7d"
            ],
            [
             0.2,
             "#de77ae"
            ],
            [
             0.3,
             "#f1b6da"
            ],
            [
             0.4,
             "#fde0ef"
            ],
            [
             0.5,
             "#f7f7f7"
            ],
            [
             0.6,
             "#e6f5d0"
            ],
            [
             0.7,
             "#b8e186"
            ],
            [
             0.8,
             "#7fbc41"
            ],
            [
             0.9,
             "#4d9221"
            ],
            [
             1,
             "#276419"
            ]
           ],
           "sequential": [
            [
             0,
             "#0d0887"
            ],
            [
             0.1111111111111111,
             "#46039f"
            ],
            [
             0.2222222222222222,
             "#7201a8"
            ],
            [
             0.3333333333333333,
             "#9c179e"
            ],
            [
             0.4444444444444444,
             "#bd3786"
            ],
            [
             0.5555555555555556,
             "#d8576b"
            ],
            [
             0.6666666666666666,
             "#ed7953"
            ],
            [
             0.7777777777777778,
             "#fb9f3a"
            ],
            [
             0.8888888888888888,
             "#fdca26"
            ],
            [
             1,
             "#f0f921"
            ]
           ],
           "sequentialminus": [
            [
             0,
             "#0d0887"
            ],
            [
             0.1111111111111111,
             "#46039f"
            ],
            [
             0.2222222222222222,
             "#7201a8"
            ],
            [
             0.3333333333333333,
             "#9c179e"
            ],
            [
             0.4444444444444444,
             "#bd3786"
            ],
            [
             0.5555555555555556,
             "#d8576b"
            ],
            [
             0.6666666666666666,
             "#ed7953"
            ],
            [
             0.7777777777777778,
             "#fb9f3a"
            ],
            [
             0.8888888888888888,
             "#fdca26"
            ],
            [
             1,
             "#f0f921"
            ]
           ]
          },
          "colorway": [
           "#636efa",
           "#EF553B",
           "#00cc96",
           "#ab63fa",
           "#FFA15A",
           "#19d3f3",
           "#FF6692",
           "#B6E880",
           "#FF97FF",
           "#FECB52"
          ],
          "font": {
           "color": "#2a3f5f"
          },
          "geo": {
           "bgcolor": "white",
           "lakecolor": "white",
           "landcolor": "#E5ECF6",
           "showlakes": true,
           "showland": true,
           "subunitcolor": "white"
          },
          "hoverlabel": {
           "align": "left"
          },
          "hovermode": "closest",
          "mapbox": {
           "style": "light"
          },
          "paper_bgcolor": "white",
          "plot_bgcolor": "#E5ECF6",
          "polar": {
           "angularaxis": {
            "gridcolor": "white",
            "linecolor": "white",
            "ticks": ""
           },
           "bgcolor": "#E5ECF6",
           "radialaxis": {
            "gridcolor": "white",
            "linecolor": "white",
            "ticks": ""
           }
          },
          "scene": {
           "xaxis": {
            "backgroundcolor": "#E5ECF6",
            "gridcolor": "white",
            "gridwidth": 2,
            "linecolor": "white",
            "showbackground": true,
            "ticks": "",
            "zerolinecolor": "white"
           },
           "yaxis": {
            "backgroundcolor": "#E5ECF6",
            "gridcolor": "white",
            "gridwidth": 2,
            "linecolor": "white",
            "showbackground": true,
            "ticks": "",
            "zerolinecolor": "white"
           },
           "zaxis": {
            "backgroundcolor": "#E5ECF6",
            "gridcolor": "white",
            "gridwidth": 2,
            "linecolor": "white",
            "showbackground": true,
            "ticks": "",
            "zerolinecolor": "white"
           }
          },
          "shapedefaults": {
           "line": {
            "color": "#2a3f5f"
           }
          },
          "ternary": {
           "aaxis": {
            "gridcolor": "white",
            "linecolor": "white",
            "ticks": ""
           },
           "baxis": {
            "gridcolor": "white",
            "linecolor": "white",
            "ticks": ""
           },
           "bgcolor": "#E5ECF6",
           "caxis": {
            "gridcolor": "white",
            "linecolor": "white",
            "ticks": ""
           }
          },
          "title": {
           "x": 0.05
          },
          "xaxis": {
           "automargin": true,
           "gridcolor": "white",
           "linecolor": "white",
           "ticks": "",
           "title": {
            "standoff": 15
           },
           "zerolinecolor": "white",
           "zerolinewidth": 2
          },
          "yaxis": {
           "automargin": true,
           "gridcolor": "white",
           "linecolor": "white",
           "ticks": "",
           "title": {
            "standoff": 15
           },
           "zerolinecolor": "white",
           "zerolinewidth": 2
          }
         }
        },
        "title": {
         "font": {
          "color": "#444444",
          "size": 24
         },
         "text": "Distribution of Dining Ways by Unique Restaurants in Each Cuisine Type"
        },
        "xaxis": {
         "showgrid": false,
         "tickangle": 45,
         "title": {
          "font": {
           "size": 16
          },
          "text": "Cuisine Type"
         }
        },
        "yaxis": {
         "gridcolor": "rgba(128,128,128,0.2)",
         "gridwidth": 1,
         "range": [
          0,
          100
         ],
         "showgrid": true,
         "title": {
          "font": {
           "size": 16
          },
          "text": "Percentage of Restaurants"
         }
        }
       }
      }
     },
     "metadata": {},
     "output_type": "display_data"
    },
    {
     "name": "stdout",
     "output_type": "stream",
     "text": [
      "Dining way distribution percentages by unique restaurants in each cuisine type (sorted by total restaurants):\n",
      "comment_dining_way      堂食  外賣自取  外賣送餐\n",
      "cuisine_category                      \n",
      "港式                   91.75  7.29  0.97\n",
      "西式                   95.64  4.18  0.18\n",
      "日本菜                  97.22  2.55  0.23\n",
      "中菜                   96.37  3.21  0.42\n",
      "Other                95.79  3.06  1.15\n",
      "台灣菜                  88.18  9.55  2.27\n",
      "泰國菜                  95.90  4.10  0.00\n",
      "火鍋                   98.91  0.55  0.55\n",
      "韓國菜                  91.37  7.91  0.72\n",
      "越南菜                  98.02  1.98  0.00\n",
      "咖啡                   97.75  2.25  0.00\n",
      "法國菜                 100.00  0.00  0.00\n",
      "自助餐                 100.00  0.00  0.00\n",
      "素食                   95.00  0.00  5.00\n",
      "甜品                  100.00  0.00  0.00\n",
      "Total unique restaurants by cuisine type:\n",
      "cuisine_category\n",
      "Other    1046\n",
      "中菜       1434\n",
      "台灣菜       440\n",
      "咖啡        178\n",
      "日本菜      1724\n",
      "法國菜       108\n",
      "泰國菜       390\n",
      "港式       3102\n",
      "火鍋        366\n",
      "甜品          8\n",
      "素食         40\n",
      "自助餐        74\n",
      "西式       2202\n",
      "越南菜       202\n",
      "韓國菜       278\n",
      "dtype: int64\n"
     ]
    }
   ],
   "source": [
    "# Get unique restaurants and their dining ways using restaurant_name\n",
    "unique_restaurants = df.groupby('restaurant_name').agg({\n",
    "    'cuisine_category': 'first',  # Take the first cuisine category for each restaurant\n",
    "    'comment_dining_way': 'first',  # Take the first dining way for each restaurant\n",
    "}).reset_index()\n",
    "\n",
    "# Create a distribution for dining ways by cuisine type using unique restaurants\n",
    "dining_dist = pd.crosstab(unique_restaurants['cuisine_category'], unique_restaurants['comment_dining_way'])\n",
    "\n",
    "# Remove the specified columns\n",
    "columns_to_remove = ['2天前', '3天前', '4天前', '5天前', '6天前']\n",
    "dining_dist = dining_dist.drop(columns=columns_to_remove, errors='ignore')\n",
    "\n",
    "# Calculate percentages\n",
    "dining_dist_pct = dining_dist.div(dining_dist.sum(axis=1), axis=0) * 100\n",
    "\n",
    "# Sort by total count in descending order\n",
    "dining_dist['total'] = dining_dist.sum(axis=1)\n",
    "dining_dist_pct = dining_dist_pct.loc[dining_dist.sort_values('total', ascending=False).index]\n",
    "\n",
    "# Define pastel colors\n",
    "colors = ['#FFB3BA', '#BAFFC9', '#BAE1FF']\n",
    "\n",
    "# Create stacked bar chart\n",
    "fig = go.Figure()\n",
    "\n",
    "# Add bars for each dining way\n",
    "for i, dining_way in enumerate(dining_dist_pct.columns):\n",
    "    fig.add_trace(go.Bar(\n",
    "        name=dining_way,\n",
    "        x=dining_dist_pct.index,\n",
    "        y=dining_dist_pct[dining_way],\n",
    "        marker_color=colors[i % len(colors)]\n",
    "    ))\n",
    "\n",
    "# Update layout\n",
    "fig.update_layout(\n",
    "    barmode='stack',\n",
    "    title={\n",
    "        'text': 'Distribution of Dining Ways by Unique Restaurants in Each Cuisine Type',\n",
    "        'font': {'size': 24, 'color': '#444444'}\n",
    "    },\n",
    "    xaxis_title={\n",
    "        'text': 'Cuisine Type',\n",
    "        'font': {'size': 16}\n",
    "    },\n",
    "    yaxis_title={\n",
    "        'text': 'Percentage of Restaurants',\n",
    "        'font': {'size': 16}\n",
    "    },\n",
    "    height=700,\n",
    "    xaxis_tickangle=45,\n",
    "    plot_bgcolor='rgba(240,240,240,0.95)',\n",
    "    paper_bgcolor='rgba(255,255,255,1)',\n",
    "    font=dict(size=12),\n",
    "    legend=dict(\n",
    "        orientation=\"h\",\n",
    "        yanchor=\"bottom\",\n",
    "        y=1.02,\n",
    "        xanchor=\"right\",\n",
    "        x=1,\n",
    "        bgcolor='rgba(255,255,255,0.8)',\n",
    "        bordercolor='rgba(0,0,0,0.1)',\n",
    "        borderwidth=1\n",
    "    ),\n",
    "    margin=dict(t=150, b=100)\n",
    ")\n",
    "\n",
    "# Add gridlines and set y-axis range to 0-100\n",
    "fig.update_yaxes(showgrid=True, gridwidth=1, gridcolor='rgba(128,128,128,0.2)', range=[0, 100])\n",
    "fig.update_xaxes(showgrid=False)\n",
    "\n",
    "# Display the plot\n",
    "fig.show()\n",
    "\n",
    "# Print summary statistics\n",
    "print(\"\\\n",
    "Dining way distribution percentages by unique restaurants in each cuisine type (sorted by total restaurants):\")\n",
    "print(dining_dist_pct.round(2))\n",
    "\n",
    "print(\"\\\n",
    "Total unique restaurants by cuisine type:\")\n",
    "print(dining_dist.sum(axis=1))\n"
   ]
  },
  {
   "cell_type": "code",
   "execution_count": null,
   "metadata": {},
   "outputs": [
    {
     "data": {
      "application/vnd.plotly.v1+json": {
       "config": {
        "plotlyServerURL": "https://plot.ly"
       },
       "data": [
        {
         "marker": {
          "color": "#FFB3BA"
         },
         "name": "堂食",
         "type": "bar",
         "x": [
          "港式",
          "西式",
          "日本菜",
          "中菜",
          "Other",
          "台灣菜",
          "泰國菜",
          "火鍋",
          "韓國菜",
          "越南菜",
          "咖啡",
          "法國菜",
          "自助餐",
          "素食",
          "甜品"
         ],
         "y": [
          1423,
          1053,
          838,
          691,
          501,
          194,
          187,
          181,
          127,
          99,
          87,
          54,
          37,
          19,
          4
         ]
        },
        {
         "marker": {
          "color": "#BAFFC9"
         },
         "name": "外賣自取",
         "type": "bar",
         "x": [
          "港式",
          "西式",
          "日本菜",
          "中菜",
          "Other",
          "台灣菜",
          "泰國菜",
          "火鍋",
          "韓國菜",
          "越南菜",
          "咖啡",
          "法國菜",
          "自助餐",
          "素食",
          "甜品"
         ],
         "y": [
          113,
          46,
          22,
          23,
          16,
          21,
          8,
          1,
          11,
          2,
          2,
          0,
          0,
          0,
          0
         ]
        },
        {
         "marker": {
          "color": "#BAE1FF"
         },
         "name": "外賣送餐",
         "type": "bar",
         "x": [
          "港式",
          "西式",
          "日本菜",
          "中菜",
          "Other",
          "台灣菜",
          "泰國菜",
          "火鍋",
          "韓國菜",
          "越南菜",
          "咖啡",
          "法國菜",
          "自助餐",
          "素食",
          "甜品"
         ],
         "y": [
          15,
          2,
          2,
          3,
          6,
          5,
          0,
          1,
          1,
          0,
          0,
          0,
          0,
          1,
          0
         ]
        }
       ],
       "layout": {
        "barmode": "stack",
        "font": {
         "size": 12
        },
        "height": 700,
        "legend": {
         "bgcolor": "rgba(255,255,255,0.8)",
         "bordercolor": "rgba(0,0,0,0.1)",
         "borderwidth": 1,
         "orientation": "h",
         "x": 1,
         "xanchor": "right",
         "y": 1.02,
         "yanchor": "bottom"
        },
        "margin": {
         "b": 100,
         "t": 150
        },
        "paper_bgcolor": "rgba(255,255,255,1)",
        "plot_bgcolor": "rgba(240,240,240,0.95)",
        "template": {
         "data": {
          "bar": [
           {
            "error_x": {
             "color": "#2a3f5f"
            },
            "error_y": {
             "color": "#2a3f5f"
            },
            "marker": {
             "line": {
              "color": "#E5ECF6",
              "width": 0.5
             },
             "pattern": {
              "fillmode": "overlay",
              "size": 10,
              "solidity": 0.2
             }
            },
            "type": "bar"
           }
          ],
          "barpolar": [
           {
            "marker": {
             "line": {
              "color": "#E5ECF6",
              "width": 0.5
             },
             "pattern": {
              "fillmode": "overlay",
              "size": 10,
              "solidity": 0.2
             }
            },
            "type": "barpolar"
           }
          ],
          "carpet": [
           {
            "aaxis": {
             "endlinecolor": "#2a3f5f",
             "gridcolor": "white",
             "linecolor": "white",
             "minorgridcolor": "white",
             "startlinecolor": "#2a3f5f"
            },
            "baxis": {
             "endlinecolor": "#2a3f5f",
             "gridcolor": "white",
             "linecolor": "white",
             "minorgridcolor": "white",
             "startlinecolor": "#2a3f5f"
            },
            "type": "carpet"
           }
          ],
          "choropleth": [
           {
            "colorbar": {
             "outlinewidth": 0,
             "ticks": ""
            },
            "type": "choropleth"
           }
          ],
          "contour": [
           {
            "colorbar": {
             "outlinewidth": 0,
             "ticks": ""
            },
            "colorscale": [
             [
              0,
              "#0d0887"
             ],
             [
              0.1111111111111111,
              "#46039f"
             ],
             [
              0.2222222222222222,
              "#7201a8"
             ],
             [
              0.3333333333333333,
              "#9c179e"
             ],
             [
              0.4444444444444444,
              "#bd3786"
             ],
             [
              0.5555555555555556,
              "#d8576b"
             ],
             [
              0.6666666666666666,
              "#ed7953"
             ],
             [
              0.7777777777777778,
              "#fb9f3a"
             ],
             [
              0.8888888888888888,
              "#fdca26"
             ],
             [
              1,
              "#f0f921"
             ]
            ],
            "type": "contour"
           }
          ],
          "contourcarpet": [
           {
            "colorbar": {
             "outlinewidth": 0,
             "ticks": ""
            },
            "type": "contourcarpet"
           }
          ],
          "heatmap": [
           {
            "colorbar": {
             "outlinewidth": 0,
             "ticks": ""
            },
            "colorscale": [
             [
              0,
              "#0d0887"
             ],
             [
              0.1111111111111111,
              "#46039f"
             ],
             [
              0.2222222222222222,
              "#7201a8"
             ],
             [
              0.3333333333333333,
              "#9c179e"
             ],
             [
              0.4444444444444444,
              "#bd3786"
             ],
             [
              0.5555555555555556,
              "#d8576b"
             ],
             [
              0.6666666666666666,
              "#ed7953"
             ],
             [
              0.7777777777777778,
              "#fb9f3a"
             ],
             [
              0.8888888888888888,
              "#fdca26"
             ],
             [
              1,
              "#f0f921"
             ]
            ],
            "type": "heatmap"
           }
          ],
          "heatmapgl": [
           {
            "colorbar": {
             "outlinewidth": 0,
             "ticks": ""
            },
            "colorscale": [
             [
              0,
              "#0d0887"
             ],
             [
              0.1111111111111111,
              "#46039f"
             ],
             [
              0.2222222222222222,
              "#7201a8"
             ],
             [
              0.3333333333333333,
              "#9c179e"
             ],
             [
              0.4444444444444444,
              "#bd3786"
             ],
             [
              0.5555555555555556,
              "#d8576b"
             ],
             [
              0.6666666666666666,
              "#ed7953"
             ],
             [
              0.7777777777777778,
              "#fb9f3a"
             ],
             [
              0.8888888888888888,
              "#fdca26"
             ],
             [
              1,
              "#f0f921"
             ]
            ],
            "type": "heatmapgl"
           }
          ],
          "histogram": [
           {
            "marker": {
             "pattern": {
              "fillmode": "overlay",
              "size": 10,
              "solidity": 0.2
             }
            },
            "type": "histogram"
           }
          ],
          "histogram2d": [
           {
            "colorbar": {
             "outlinewidth": 0,
             "ticks": ""
            },
            "colorscale": [
             [
              0,
              "#0d0887"
             ],
             [
              0.1111111111111111,
              "#46039f"
             ],
             [
              0.2222222222222222,
              "#7201a8"
             ],
             [
              0.3333333333333333,
              "#9c179e"
             ],
             [
              0.4444444444444444,
              "#bd3786"
             ],
             [
              0.5555555555555556,
              "#d8576b"
             ],
             [
              0.6666666666666666,
              "#ed7953"
             ],
             [
              0.7777777777777778,
              "#fb9f3a"
             ],
             [
              0.8888888888888888,
              "#fdca26"
             ],
             [
              1,
              "#f0f921"
             ]
            ],
            "type": "histogram2d"
           }
          ],
          "histogram2dcontour": [
           {
            "colorbar": {
             "outlinewidth": 0,
             "ticks": ""
            },
            "colorscale": [
             [
              0,
              "#0d0887"
             ],
             [
              0.1111111111111111,
              "#46039f"
             ],
             [
              0.2222222222222222,
              "#7201a8"
             ],
             [
              0.3333333333333333,
              "#9c179e"
             ],
             [
              0.4444444444444444,
              "#bd3786"
             ],
             [
              0.5555555555555556,
              "#d8576b"
             ],
             [
              0.6666666666666666,
              "#ed7953"
             ],
             [
              0.7777777777777778,
              "#fb9f3a"
             ],
             [
              0.8888888888888888,
              "#fdca26"
             ],
             [
              1,
              "#f0f921"
             ]
            ],
            "type": "histogram2dcontour"
           }
          ],
          "mesh3d": [
           {
            "colorbar": {
             "outlinewidth": 0,
             "ticks": ""
            },
            "type": "mesh3d"
           }
          ],
          "parcoords": [
           {
            "line": {
             "colorbar": {
              "outlinewidth": 0,
              "ticks": ""
             }
            },
            "type": "parcoords"
           }
          ],
          "pie": [
           {
            "automargin": true,
            "type": "pie"
           }
          ],
          "scatter": [
           {
            "fillpattern": {
             "fillmode": "overlay",
             "size": 10,
             "solidity": 0.2
            },
            "type": "scatter"
           }
          ],
          "scatter3d": [
           {
            "line": {
             "colorbar": {
              "outlinewidth": 0,
              "ticks": ""
             }
            },
            "marker": {
             "colorbar": {
              "outlinewidth": 0,
              "ticks": ""
             }
            },
            "type": "scatter3d"
           }
          ],
          "scattercarpet": [
           {
            "marker": {
             "colorbar": {
              "outlinewidth": 0,
              "ticks": ""
             }
            },
            "type": "scattercarpet"
           }
          ],
          "scattergeo": [
           {
            "marker": {
             "colorbar": {
              "outlinewidth": 0,
              "ticks": ""
             }
            },
            "type": "scattergeo"
           }
          ],
          "scattergl": [
           {
            "marker": {
             "colorbar": {
              "outlinewidth": 0,
              "ticks": ""
             }
            },
            "type": "scattergl"
           }
          ],
          "scattermapbox": [
           {
            "marker": {
             "colorbar": {
              "outlinewidth": 0,
              "ticks": ""
             }
            },
            "type": "scattermapbox"
           }
          ],
          "scatterpolar": [
           {
            "marker": {
             "colorbar": {
              "outlinewidth": 0,
              "ticks": ""
             }
            },
            "type": "scatterpolar"
           }
          ],
          "scatterpolargl": [
           {
            "marker": {
             "colorbar": {
              "outlinewidth": 0,
              "ticks": ""
             }
            },
            "type": "scatterpolargl"
           }
          ],
          "scatterternary": [
           {
            "marker": {
             "colorbar": {
              "outlinewidth": 0,
              "ticks": ""
             }
            },
            "type": "scatterternary"
           }
          ],
          "surface": [
           {
            "colorbar": {
             "outlinewidth": 0,
             "ticks": ""
            },
            "colorscale": [
             [
              0,
              "#0d0887"
             ],
             [
              0.1111111111111111,
              "#46039f"
             ],
             [
              0.2222222222222222,
              "#7201a8"
             ],
             [
              0.3333333333333333,
              "#9c179e"
             ],
             [
              0.4444444444444444,
              "#bd3786"
             ],
             [
              0.5555555555555556,
              "#d8576b"
             ],
             [
              0.6666666666666666,
              "#ed7953"
             ],
             [
              0.7777777777777778,
              "#fb9f3a"
             ],
             [
              0.8888888888888888,
              "#fdca26"
             ],
             [
              1,
              "#f0f921"
             ]
            ],
            "type": "surface"
           }
          ],
          "table": [
           {
            "cells": {
             "fill": {
              "color": "#EBF0F8"
             },
             "line": {
              "color": "white"
             }
            },
            "header": {
             "fill": {
              "color": "#C8D4E3"
             },
             "line": {
              "color": "white"
             }
            },
            "type": "table"
           }
          ]
         },
         "layout": {
          "annotationdefaults": {
           "arrowcolor": "#2a3f5f",
           "arrowhead": 0,
           "arrowwidth": 1
          },
          "autotypenumbers": "strict",
          "coloraxis": {
           "colorbar": {
            "outlinewidth": 0,
            "ticks": ""
           }
          },
          "colorscale": {
           "diverging": [
            [
             0,
             "#8e0152"
            ],
            [
             0.1,
             "#c51b7d"
            ],
            [
             0.2,
             "#de77ae"
            ],
            [
             0.3,
             "#f1b6da"
            ],
            [
             0.4,
             "#fde0ef"
            ],
            [
             0.5,
             "#f7f7f7"
            ],
            [
             0.6,
             "#e6f5d0"
            ],
            [
             0.7,
             "#b8e186"
            ],
            [
             0.8,
             "#7fbc41"
            ],
            [
             0.9,
             "#4d9221"
            ],
            [
             1,
             "#276419"
            ]
           ],
           "sequential": [
            [
             0,
             "#0d0887"
            ],
            [
             0.1111111111111111,
             "#46039f"
            ],
            [
             0.2222222222222222,
             "#7201a8"
            ],
            [
             0.3333333333333333,
             "#9c179e"
            ],
            [
             0.4444444444444444,
             "#bd3786"
            ],
            [
             0.5555555555555556,
             "#d8576b"
            ],
            [
             0.6666666666666666,
             "#ed7953"
            ],
            [
             0.7777777777777778,
             "#fb9f3a"
            ],
            [
             0.8888888888888888,
             "#fdca26"
            ],
            [
             1,
             "#f0f921"
            ]
           ],
           "sequentialminus": [
            [
             0,
             "#0d0887"
            ],
            [
             0.1111111111111111,
             "#46039f"
            ],
            [
             0.2222222222222222,
             "#7201a8"
            ],
            [
             0.3333333333333333,
             "#9c179e"
            ],
            [
             0.4444444444444444,
             "#bd3786"
            ],
            [
             0.5555555555555556,
             "#d8576b"
            ],
            [
             0.6666666666666666,
             "#ed7953"
            ],
            [
             0.7777777777777778,
             "#fb9f3a"
            ],
            [
             0.8888888888888888,
             "#fdca26"
            ],
            [
             1,
             "#f0f921"
            ]
           ]
          },
          "colorway": [
           "#636efa",
           "#EF553B",
           "#00cc96",
           "#ab63fa",
           "#FFA15A",
           "#19d3f3",
           "#FF6692",
           "#B6E880",
           "#FF97FF",
           "#FECB52"
          ],
          "font": {
           "color": "#2a3f5f"
          },
          "geo": {
           "bgcolor": "white",
           "lakecolor": "white",
           "landcolor": "#E5ECF6",
           "showlakes": true,
           "showland": true,
           "subunitcolor": "white"
          },
          "hoverlabel": {
           "align": "left"
          },
          "hovermode": "closest",
          "mapbox": {
           "style": "light"
          },
          "paper_bgcolor": "white",
          "plot_bgcolor": "#E5ECF6",
          "polar": {
           "angularaxis": {
            "gridcolor": "white",
            "linecolor": "white",
            "ticks": ""
           },
           "bgcolor": "#E5ECF6",
           "radialaxis": {
            "gridcolor": "white",
            "linecolor": "white",
            "ticks": ""
           }
          },
          "scene": {
           "xaxis": {
            "backgroundcolor": "#E5ECF6",
            "gridcolor": "white",
            "gridwidth": 2,
            "linecolor": "white",
            "showbackground": true,
            "ticks": "",
            "zerolinecolor": "white"
           },
           "yaxis": {
            "backgroundcolor": "#E5ECF6",
            "gridcolor": "white",
            "gridwidth": 2,
            "linecolor": "white",
            "showbackground": true,
            "ticks": "",
            "zerolinecolor": "white"
           },
           "zaxis": {
            "backgroundcolor": "#E5ECF6",
            "gridcolor": "white",
            "gridwidth": 2,
            "linecolor": "white",
            "showbackground": true,
            "ticks": "",
            "zerolinecolor": "white"
           }
          },
          "shapedefaults": {
           "line": {
            "color": "#2a3f5f"
           }
          },
          "ternary": {
           "aaxis": {
            "gridcolor": "white",
            "linecolor": "white",
            "ticks": ""
           },
           "baxis": {
            "gridcolor": "white",
            "linecolor": "white",
            "ticks": ""
           },
           "bgcolor": "#E5ECF6",
           "caxis": {
            "gridcolor": "white",
            "linecolor": "white",
            "ticks": ""
           }
          },
          "title": {
           "x": 0.05
          },
          "xaxis": {
           "automargin": true,
           "gridcolor": "white",
           "linecolor": "white",
           "ticks": "",
           "title": {
            "standoff": 15
           },
           "zerolinecolor": "white",
           "zerolinewidth": 2
          },
          "yaxis": {
           "automargin": true,
           "gridcolor": "white",
           "linecolor": "white",
           "ticks": "",
           "title": {
            "standoff": 15
           },
           "zerolinecolor": "white",
           "zerolinewidth": 2
          }
         }
        },
        "title": {
         "font": {
          "color": "#444444",
          "size": 24
         },
         "text": "Distribution of Dining Ways by Restaurants in Each Cuisine Type"
        },
        "xaxis": {
         "showgrid": false,
         "tickangle": 45,
         "title": {
          "font": {
           "size": 16
          },
          "text": "Cuisine Type"
         }
        },
        "yaxis": {
         "gridcolor": "rgba(128,128,128,0.2)",
         "gridwidth": 1,
         "showgrid": true,
         "title": {
          "font": {
           "size": 16
          },
          "text": "Number of Unique Restaurants"
         }
        }
       }
      }
     },
     "metadata": {},
     "output_type": "display_data"
    },
    {
     "name": "stdout",
     "output_type": "stream",
     "text": [
      "Dining way distribution by unique restaurants in each cuisine type (raw counts, sorted by total):\n",
      "comment_dining_way    堂食  外賣自取  外賣送餐  total\n",
      "cuisine_category                           \n",
      "港式                  1423   113    15   1551\n",
      "西式                  1053    46     2   1101\n",
      "日本菜                  838    22     2    862\n",
      "中菜                   691    23     3    717\n",
      "Other                501    16     6    523\n",
      "台灣菜                  194    21     5    220\n",
      "泰國菜                  187     8     0    195\n",
      "火鍋                   181     1     1    183\n",
      "韓國菜                  127    11     1    139\n",
      "越南菜                   99     2     0    101\n",
      "咖啡                    87     2     0     89\n",
      "法國菜                   54     0     0     54\n",
      "自助餐                   37     0     0     37\n",
      "素食                    19     0     1     20\n",
      "甜品                     4     0     0      4\n"
     ]
    }
   ],
   "source": [
    "# Sort the dining_dist DataFrame by total in descending order\n",
    "dining_dist = dining_dist.sort_values('total', ascending=False)\n",
    "\n",
    "# Create stacked bar chart with raw counts\n",
    "fig = go.Figure()\n",
    "\n",
    "# Add bars for each dining way\n",
    "for i, dining_way in enumerate(dining_dist.columns[:-1]):  # Exclude the 'total' column\n",
    "    fig.add_trace(go.Bar(\n",
    "        name=dining_way,\n",
    "        x=dining_dist.index,\n",
    "        y=dining_dist[dining_way],\n",
    "        marker_color=colors[i % len(colors)]\n",
    "    ))\n",
    "\n",
    "# Update layout\n",
    "fig.update_layout(\n",
    "    barmode='stack',\n",
    "    title={\n",
    "        'text': 'Distribution of Dining Ways by Restaurants in Each Cuisine Type',\n",
    "        'font': {'size': 24, 'color': '#444444'}\n",
    "    },\n",
    "    xaxis_title={\n",
    "        'text': 'Cuisine Type',\n",
    "        'font': {'size': 16}\n",
    "    },\n",
    "    yaxis_title={\n",
    "        'text': 'Number of Unique Restaurants',\n",
    "        'font': {'size': 16}\n",
    "    },\n",
    "    height=700,\n",
    "    xaxis_tickangle=45,\n",
    "    plot_bgcolor='rgba(240,240,240,0.95)',\n",
    "    paper_bgcolor='rgba(255,255,255,1)',\n",
    "    font=dict(size=12),\n",
    "    legend=dict(\n",
    "        orientation=\"h\",\n",
    "        yanchor=\"bottom\",\n",
    "        y=1.02,\n",
    "        xanchor=\"right\",\n",
    "        x=1,\n",
    "        bgcolor='rgba(255,255,255,0.8)',\n",
    "        bordercolor='rgba(0,0,0,0.1)',\n",
    "        borderwidth=1\n",
    "    ),\n",
    "    margin=dict(t=150, b=100)\n",
    ")\n",
    "\n",
    "# Add gridlines\n",
    "fig.update_yaxes(showgrid=True, gridwidth=1, gridcolor='rgba(128,128,128,0.2)')\n",
    "fig.update_xaxes(showgrid=False)\n",
    "\n",
    "# Display the plot\n",
    "fig.show()\n",
    "\n",
    "# Print summary statistics\n",
    "print(\"\\\n",
    "Dining way distribution by unique restaurants in each cuisine type (raw counts, sorted by total):\")\n",
    "print(dining_dist)\n"
   ]
  }
 ],
 "metadata": {
  "kernelspec": {
   "display_name": "Python 3",
   "language": "python",
   "name": "python3"
  },
  "language_info": {
   "codemirror_mode": {
    "name": "ipython",
    "version": 3
   },
   "file_extension": ".py",
   "mimetype": "text/x-python",
   "name": "python",
   "nbconvert_exporter": "python",
   "pygments_lexer": "ipython3",
   "version": "3.12.3"
  }
 },
 "nbformat": 4,
 "nbformat_minor": 2
}
